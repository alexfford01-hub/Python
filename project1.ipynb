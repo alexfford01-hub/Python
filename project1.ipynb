{
 "cells": [
  {
   "cell_type": "markdown",
   "metadata": {
    "id": "4mJbK1knrJgz"
   },
   "source": [
    "# Проект: Исследование стартапов"
   ]
  },
  {
   "cell_type": "markdown",
   "metadata": {
    "id": "P6j0r3worJg0"
   },
   "source": [
    "## Введение"
   ]
  },
  {
   "cell_type": "markdown",
   "metadata": {},
   "source": [
    "**Цель:**\n",
    "Провести комплексный анализ данных о стартапах для выявления тенденций и факторов, влияющих на их успешность и финансирование.\n",
    "\n",
    "**Задачи:**\n",
    "1. Загрузить и предварительно обработать данные о стартапах, включая информацию о раундах финансирования, образовании сотрудников и других параметрах. \n",
    "2. Исследовать зависимости между размером компании и полнотой информации об образовании сотрудников.\n",
    "3. Проанализировать тенденции в сфере финансирования стартапов, включая типичный размер средств, выделяемых в рамках одного раунда, и количество раундов финансирования.\n",
    "4. Оценить влияние статуса стартапа на количество и размер раундов финансирования.\n",
    "5. Выявить факторы, способствующие успеху или неудаче стартапов. 6. Разработать рекомендации для основателей стартапов по привлечению финансирования, управлению командой и развитию бизнеса.\n"
   ]
  },
  {
   "cell_type": "markdown",
   "metadata": {},
   "source": [
    "**Данные:**\n",
    "Для исследование стартапов. Данные состоят из семи датасетов:\n",
    "\n",
    "**Таблица acquisition**\n",
    "Содержит информацию о покупках одними компаниями других компаний:\n",
    "\n",
    "id — идентификатор покупки.\n",
    "\n",
    "acquiring_company_id — идентификатор покупающей компании.\n",
    "\n",
    "acquired_company_id — идентификатор покупаемой компании.\n",
    "\n",
    "term_code — варианты расчёта.\n",
    "\n",
    "price_amount — сумма сделки.\n",
    "\n",
    "acquired_at — дата сделки.\n",
    "\n",
    "**Таблица company_and_rounds**\n",
    "Содержит информацию о компаниях и раундах финансирования:\n",
    "\n",
    "company ID — идентификатор компании.\n",
    "\n",
    "name — название компании.\n",
    "\n",
    "category code — категория области деятельности компании.\n",
    "\n",
    "status — статус компании.\n",
    "\n",
    "founded at — дата инвестирования.\n",
    "\n",
    "closed at — дата закрытия компании.\n",
    "\n",
    "domain — официальный сайт компании.\n",
    "\n",
    "network username — ник компании в сети.\n",
    "\n",
    "country code — код страны компании.\n",
    "\n",
    "investment rounds — число инвестиционных раундов.\n",
    "\n",
    "funding rounds — число раундов финансирования.\n",
    "\n",
    "funding total — сумма финансирования.\n",
    "\n",
    "milestones — вехи финансирования.\n",
    "\n",
    "funding round id — идентификатор этапа финансирования.\n",
    "\n",
    "company id — идентификатор компании.\n",
    "\n",
    "funded at — дата финансирования.\n",
    "\n",
    "funding round type — тип финансирования.\n",
    "\n",
    "raised amount — сумма финансирования.\n",
    "\n",
    "pre money valuation — предварительная денежная оценка.\n",
    "\n",
    "participants — число участников.\n",
    "\n",
    "is first round — является ли раунд первым.\n",
    "\n",
    "is last round — является раунд последним.\n",
    "\n",
    "**Таблица education**\n",
    "Содержит информацию об образовании сотрудника:\n",
    "\n",
    "id — идентификатор записи об образовании.\n",
    "\n",
    "person_id — идентификатор работника.\n",
    "\n",
    "instituition — название учебного заведения.\n",
    "\n",
    "graduated_at — дата получения образования.\n",
    "\n",
    "**Таблица people**\n",
    "Содержит информацию о сотрудниках:\n",
    "\n",
    "id — идентификатор сотрудника.\n",
    "\n",
    "first_name — имя сотрудника.\n",
    "\n",
    "last_name — фамилия сотрудника.\n",
    "\n",
    "company_id — идентификатор компании.\n",
    "\n",
    "network_username — ник в социальных сетях.\n",
    "\n",
    "**Таблица degrees**\n",
    "Содержит информацию о типе образования сотрудника:\n",
    "\n",
    "id — идентификатор записи.\n",
    "\n",
    "object_id — идентификатор сотрудника.\n",
    "\n",
    "degree_type — тип образования.\n",
    "\n",
    "subject — специальность.\n",
    "\n",
    "**Таблица fund**\n",
    "Содержит информацию о фондах:\n",
    "\n",
    "id — идентификатор фонда.\n",
    "\n",
    "name — название фонда.\n",
    "\n",
    "category_code — категория области деятельности компании.\n",
    "\n",
    "founded_at — дата создания фонда.\n",
    "\n",
    "domain — сайт фонда.\n",
    "\n",
    "network_username — ник фонда в сети.\n",
    "\n",
    "country_code — код страны фонда.\n",
    "\n",
    "investment_rounds — число инвестиционных раундов.\n",
    "\n",
    "invested_companies — число профинансированных компаний.\n",
    "\n",
    "milestones — вехи финансирования.\n",
    "\n",
    "**Таблица investment**\n",
    "\n",
    "Содержит информацию о раундах инвестирования:\n",
    "\n",
    "id — идентификатор этапа инвестирования.\n",
    "\n",
    "funding_round_id — идентификатор раунда инвестирования.\n",
    "\n",
    "company_id — индентификатор компании.\n",
    "\n",
    "funding_round_type — тип финансирования.\n",
    "\n",
    "fund_id — идентификатор фонда."
   ]
  },
  {
   "cell_type": "markdown",
   "metadata": {
    "id": "xqr6uttCrJg0"
   },
   "source": [
    "\n",
    "## Шаг 1. Знакомство с данными: загрузка и первичная предобработка\n",
    "\n",
    "Названия файлов:\n",
    "* acquisition.csv\n",
    "* company_and_rounds.csv\n",
    "* people.csv\n",
    "* education.csv\n",
    "* degrees.csv\n",
    "\n",
    "Опциональные датасеты:\n",
    "* fund.csv\n",
    "* investment.csv\n",
    "\n",
    "\n",
    "Они находятся в папке datasets, если вы выполняете работу на платформе. В случае, если вы делаете работу локально, доступ к файлам в папке можно получить по адресу `https://code.s3.yandex.net/datasets/` + имя файла.\n",
    "\n",
    "### 1.1. Вывод общей информации, исправление названия столбцов\n",
    "\n",
    "- Загрузить все данные по проекту.\n",
    "- Проверить названия столбцов.\n",
    "- Вывести информацию, которая необходима вам для принятия решений о предобработке, для каждого из датасетов."
   ]
  },
  {
   "cell_type": "code",
   "execution_count": 75,
   "metadata": {
    "colab": {
     "base_uri": "https://localhost:8080/"
    },
    "id": "W_W4jRazrJg0",
    "outputId": "d2409aad-233f-4bb4-ec71-7da96594f9df",
    "vscode": {
     "languageId": "plaintext"
    }
   },
   "outputs": [
    {
     "name": "stdout",
     "output_type": "stream",
     "text": [
      "Requirement already satisfied: phik in c:\\programdata\\anaconda3\\lib\\site-packages (0.12.5)\n",
      "Requirement already satisfied: numpy>=1.18.0 in c:\\programdata\\anaconda3\\lib\\site-packages (from phik) (1.20.3)\n",
      "Requirement already satisfied: scipy>=1.5.2 in c:\\programdata\\anaconda3\\lib\\site-packages (from phik) (1.7.1)\n",
      "Requirement already satisfied: pandas>=0.25.1 in c:\\programdata\\anaconda3\\lib\\site-packages (from phik) (1.3.4)\n",
      "Requirement already satisfied: joblib>=0.14.1 in c:\\programdata\\anaconda3\\lib\\site-packages (from phik) (1.1.0)\n",
      "Requirement already satisfied: matplotlib>=2.2.3 in c:\\programdata\\anaconda3\\lib\\site-packages (from phik) (3.4.3)\n",
      "Requirement already satisfied: cycler>=0.10 in c:\\programdata\\anaconda3\\lib\\site-packages (from matplotlib>=2.2.3->phik) (0.10.0)\n",
      "Requirement already satisfied: python-dateutil>=2.7 in c:\\programdata\\anaconda3\\lib\\site-packages (from matplotlib>=2.2.3->phik) (2.8.2)\n",
      "Requirement already satisfied: pillow>=6.2.0 in c:\\programdata\\anaconda3\\lib\\site-packages (from matplotlib>=2.2.3->phik) (8.4.0)\n",
      "Requirement already satisfied: kiwisolver>=1.0.1 in c:\\programdata\\anaconda3\\lib\\site-packages (from matplotlib>=2.2.3->phik) (1.3.1)\n",
      "Requirement already satisfied: pyparsing>=2.2.1 in c:\\programdata\\anaconda3\\lib\\site-packages (from matplotlib>=2.2.3->phik) (3.0.4)\n",
      "Requirement already satisfied: six in c:\\programdata\\anaconda3\\lib\\site-packages (from cycler>=0.10->matplotlib>=2.2.3->phik) (1.16.0)\n",
      "Requirement already satisfied: pytz>=2017.3 in c:\\programdata\\anaconda3\\lib\\site-packages (from pandas>=0.25.1->phik) (2021.3)\n"
     ]
    },
    {
     "name": "stderr",
     "output_type": "stream",
     "text": [
      "WARNING: Ignoring invalid distribution -py (c:\\programdata\\anaconda3\\lib\\site-packages)\n",
      "WARNING: Ignoring invalid distribution -py (c:\\programdata\\anaconda3\\lib\\site-packages)\n",
      "WARNING: Ignoring invalid distribution -mpy (c:\\programdata\\anaconda3\\lib\\site-packages)\n",
      "WARNING: Ignoring invalid distribution -9mpy (c:\\programdata\\anaconda3\\lib\\site-packages)\n",
      "WARNING: Ignoring invalid distribution -8mpy (c:\\programdata\\anaconda3\\lib\\site-packages)\n",
      "WARNING: Ignoring invalid distribution -7mpy (c:\\programdata\\anaconda3\\lib\\site-packages)\n",
      "WARNING: Ignoring invalid distribution -6mpy (c:\\programdata\\anaconda3\\lib\\site-packages)\n",
      "WARNING: Ignoring invalid distribution -5mpy (c:\\programdata\\anaconda3\\lib\\site-packages)\n",
      "WARNING: Ignoring invalid distribution -4mpy (c:\\programdata\\anaconda3\\lib\\site-packages)\n",
      "WARNING: Ignoring invalid distribution -3mpy (c:\\programdata\\anaconda3\\lib\\site-packages)\n",
      "WARNING: Ignoring invalid distribution -2mpy (c:\\programdata\\anaconda3\\lib\\site-packages)\n",
      "WARNING: Ignoring invalid distribution -1mpy (c:\\programdata\\anaconda3\\lib\\site-packages)\n",
      "WARNING: Ignoring invalid distribution -umpy (c:\\programdata\\anaconda3\\lib\\site-packages)\n",
      "WARNING: Ignoring invalid distribution -mpy (c:\\programdata\\anaconda3\\lib\\site-packages)\n",
      "WARNING: Ignoring invalid distribution -0mpy (c:\\programdata\\anaconda3\\lib\\site-packages)\n",
      "WARNING: Ignoring invalid distribution - (c:\\programdata\\anaconda3\\lib\\site-packages)\n",
      "WARNING: Ignoring invalid distribution -eaborn (c:\\programdata\\anaconda3\\lib\\site-packages)\n",
      "WARNING: Ignoring invalid distribution -py (c:\\programdata\\anaconda3\\lib\\site-packages)\n",
      "WARNING: Ignoring invalid distribution -py (c:\\programdata\\anaconda3\\lib\\site-packages)\n",
      "WARNING: Ignoring invalid distribution -mpy (c:\\programdata\\anaconda3\\lib\\site-packages)\n",
      "WARNING: Ignoring invalid distribution -9mpy (c:\\programdata\\anaconda3\\lib\\site-packages)\n",
      "WARNING: Ignoring invalid distribution -8mpy (c:\\programdata\\anaconda3\\lib\\site-packages)\n",
      "WARNING: Ignoring invalid distribution -7mpy (c:\\programdata\\anaconda3\\lib\\site-packages)\n",
      "WARNING: Ignoring invalid distribution -6mpy (c:\\programdata\\anaconda3\\lib\\site-packages)\n",
      "WARNING: Ignoring invalid distribution -5mpy (c:\\programdata\\anaconda3\\lib\\site-packages)\n",
      "WARNING: Ignoring invalid distribution -4mpy (c:\\programdata\\anaconda3\\lib\\site-packages)\n",
      "WARNING: Ignoring invalid distribution -3mpy (c:\\programdata\\anaconda3\\lib\\site-packages)\n",
      "WARNING: Ignoring invalid distribution -2mpy (c:\\programdata\\anaconda3\\lib\\site-packages)\n",
      "WARNING: Ignoring invalid distribution -1mpy (c:\\programdata\\anaconda3\\lib\\site-packages)\n",
      "WARNING: Ignoring invalid distribution -umpy (c:\\programdata\\anaconda3\\lib\\site-packages)\n",
      "WARNING: Ignoring invalid distribution -mpy (c:\\programdata\\anaconda3\\lib\\site-packages)\n",
      "WARNING: Ignoring invalid distribution -0mpy (c:\\programdata\\anaconda3\\lib\\site-packages)\n",
      "WARNING: Ignoring invalid distribution - (c:\\programdata\\anaconda3\\lib\\site-packages)\n",
      "WARNING: Ignoring invalid distribution -eaborn (c:\\programdata\\anaconda3\\lib\\site-packages)\n",
      "WARNING: Ignoring invalid distribution -py (c:\\programdata\\anaconda3\\lib\\site-packages)\n",
      "WARNING: Ignoring invalid distribution -py (c:\\programdata\\anaconda3\\lib\\site-packages)\n",
      "WARNING: Ignoring invalid distribution -mpy (c:\\programdata\\anaconda3\\lib\\site-packages)\n",
      "WARNING: Ignoring invalid distribution -9mpy (c:\\programdata\\anaconda3\\lib\\site-packages)\n",
      "WARNING: Ignoring invalid distribution -8mpy (c:\\programdata\\anaconda3\\lib\\site-packages)\n",
      "WARNING: Ignoring invalid distribution -7mpy (c:\\programdata\\anaconda3\\lib\\site-packages)\n",
      "WARNING: Ignoring invalid distribution -6mpy (c:\\programdata\\anaconda3\\lib\\site-packages)\n",
      "WARNING: Ignoring invalid distribution -5mpy (c:\\programdata\\anaconda3\\lib\\site-packages)\n",
      "WARNING: Ignoring invalid distribution -4mpy (c:\\programdata\\anaconda3\\lib\\site-packages)\n",
      "WARNING: Ignoring invalid distribution -3mpy (c:\\programdata\\anaconda3\\lib\\site-packages)\n",
      "WARNING: Ignoring invalid distribution -2mpy (c:\\programdata\\anaconda3\\lib\\site-packages)\n",
      "WARNING: Ignoring invalid distribution -1mpy (c:\\programdata\\anaconda3\\lib\\site-packages)\n",
      "WARNING: Ignoring invalid distribution -umpy (c:\\programdata\\anaconda3\\lib\\site-packages)\n",
      "WARNING: Ignoring invalid distribution -mpy (c:\\programdata\\anaconda3\\lib\\site-packages)\n",
      "WARNING: Ignoring invalid distribution -0mpy (c:\\programdata\\anaconda3\\lib\\site-packages)\n",
      "WARNING: Ignoring invalid distribution - (c:\\programdata\\anaconda3\\lib\\site-packages)\n",
      "WARNING: Ignoring invalid distribution -eaborn (c:\\programdata\\anaconda3\\lib\\site-packages)\n",
      "WARNING: Ignoring invalid distribution -py (c:\\programdata\\anaconda3\\lib\\site-packages)\n",
      "WARNING: Ignoring invalid distribution -py (c:\\programdata\\anaconda3\\lib\\site-packages)\n",
      "WARNING: Ignoring invalid distribution -mpy (c:\\programdata\\anaconda3\\lib\\site-packages)\n",
      "WARNING: Ignoring invalid distribution -9mpy (c:\\programdata\\anaconda3\\lib\\site-packages)\n",
      "WARNING: Ignoring invalid distribution -8mpy (c:\\programdata\\anaconda3\\lib\\site-packages)\n",
      "WARNING: Ignoring invalid distribution -7mpy (c:\\programdata\\anaconda3\\lib\\site-packages)\n",
      "WARNING: Ignoring invalid distribution -6mpy (c:\\programdata\\anaconda3\\lib\\site-packages)\n",
      "WARNING: Ignoring invalid distribution -5mpy (c:\\programdata\\anaconda3\\lib\\site-packages)\n",
      "WARNING: Ignoring invalid distribution -4mpy (c:\\programdata\\anaconda3\\lib\\site-packages)\n",
      "WARNING: Ignoring invalid distribution -3mpy (c:\\programdata\\anaconda3\\lib\\site-packages)\n",
      "WARNING: Ignoring invalid distribution -2mpy (c:\\programdata\\anaconda3\\lib\\site-packages)\n",
      "WARNING: Ignoring invalid distribution -1mpy (c:\\programdata\\anaconda3\\lib\\site-packages)\n",
      "WARNING: Ignoring invalid distribution -umpy (c:\\programdata\\anaconda3\\lib\\site-packages)\n",
      "WARNING: Ignoring invalid distribution -mpy (c:\\programdata\\anaconda3\\lib\\site-packages)\n",
      "WARNING: Ignoring invalid distribution -0mpy (c:\\programdata\\anaconda3\\lib\\site-packages)\n",
      "WARNING: Ignoring invalid distribution - (c:\\programdata\\anaconda3\\lib\\site-packages)\n",
      "WARNING: Ignoring invalid distribution -eaborn (c:\\programdata\\anaconda3\\lib\\site-packages)\n",
      "WARNING: Ignoring invalid distribution -py (c:\\programdata\\anaconda3\\lib\\site-packages)\n",
      "WARNING: Ignoring invalid distribution -py (c:\\programdata\\anaconda3\\lib\\site-packages)\n",
      "WARNING: Ignoring invalid distribution -mpy (c:\\programdata\\anaconda3\\lib\\site-packages)\n",
      "WARNING: Ignoring invalid distribution -9mpy (c:\\programdata\\anaconda3\\lib\\site-packages)\n",
      "WARNING: Ignoring invalid distribution -8mpy (c:\\programdata\\anaconda3\\lib\\site-packages)\n",
      "WARNING: Ignoring invalid distribution -7mpy (c:\\programdata\\anaconda3\\lib\\site-packages)\n",
      "WARNING: Ignoring invalid distribution -6mpy (c:\\programdata\\anaconda3\\lib\\site-packages)\n",
      "WARNING: Ignoring invalid distribution -5mpy (c:\\programdata\\anaconda3\\lib\\site-packages)\n",
      "WARNING: Ignoring invalid distribution -4mpy (c:\\programdata\\anaconda3\\lib\\site-packages)\n",
      "WARNING: Ignoring invalid distribution -3mpy (c:\\programdata\\anaconda3\\lib\\site-packages)\n",
      "WARNING: Ignoring invalid distribution -2mpy (c:\\programdata\\anaconda3\\lib\\site-packages)\n",
      "WARNING: Ignoring invalid distribution -1mpy (c:\\programdata\\anaconda3\\lib\\site-packages)\n",
      "WARNING: Ignoring invalid distribution -umpy (c:\\programdata\\anaconda3\\lib\\site-packages)\n",
      "WARNING: Ignoring invalid distribution -mpy (c:\\programdata\\anaconda3\\lib\\site-packages)\n",
      "WARNING: Ignoring invalid distribution -0mpy (c:\\programdata\\anaconda3\\lib\\site-packages)\n",
      "WARNING: Ignoring invalid distribution - (c:\\programdata\\anaconda3\\lib\\site-packages)\n",
      "WARNING: Ignoring invalid distribution -eaborn (c:\\programdata\\anaconda3\\lib\\site-packages)\n",
      "WARNING: Ignoring invalid distribution -py (c:\\programdata\\anaconda3\\lib\\site-packages)\n",
      "WARNING: Ignoring invalid distribution -py (c:\\programdata\\anaconda3\\lib\\site-packages)\n",
      "WARNING: Ignoring invalid distribution -mpy (c:\\programdata\\anaconda3\\lib\\site-packages)\n",
      "WARNING: Ignoring invalid distribution -9mpy (c:\\programdata\\anaconda3\\lib\\site-packages)\n",
      "WARNING: Ignoring invalid distribution -8mpy (c:\\programdata\\anaconda3\\lib\\site-packages)\n",
      "WARNING: Ignoring invalid distribution -7mpy (c:\\programdata\\anaconda3\\lib\\site-packages)\n",
      "WARNING: Ignoring invalid distribution -6mpy (c:\\programdata\\anaconda3\\lib\\site-packages)\n",
      "WARNING: Ignoring invalid distribution -5mpy (c:\\programdata\\anaconda3\\lib\\site-packages)\n",
      "WARNING: Ignoring invalid distribution -4mpy (c:\\programdata\\anaconda3\\lib\\site-packages)\n",
      "WARNING: Ignoring invalid distribution -3mpy (c:\\programdata\\anaconda3\\lib\\site-packages)\n",
      "WARNING: Ignoring invalid distribution -2mpy (c:\\programdata\\anaconda3\\lib\\site-packages)\n",
      "WARNING: Ignoring invalid distribution -1mpy (c:\\programdata\\anaconda3\\lib\\site-packages)\n",
      "WARNING: Ignoring invalid distribution -umpy (c:\\programdata\\anaconda3\\lib\\site-packages)\n",
      "WARNING: Ignoring invalid distribution -mpy (c:\\programdata\\anaconda3\\lib\\site-packages)\n",
      "WARNING: Ignoring invalid distribution -0mpy (c:\\programdata\\anaconda3\\lib\\site-packages)\n",
      "WARNING: Ignoring invalid distribution - (c:\\programdata\\anaconda3\\lib\\site-packages)\n",
      "WARNING: Ignoring invalid distribution -eaborn (c:\\programdata\\anaconda3\\lib\\site-packages)\n"
     ]
    }
   ],
   "source": [
    "# Импортируем библиотеки\n",
    "import pandas as pd\n",
    "!pip install phik\n",
    "import numpy as np\n",
    "# Загружаем библиотеки для визуализации данных\n",
    "import matplotlib.pyplot as plt\n",
    "import seaborn as sns\n",
    "\n"
   ]
  },
  {
   "cell_type": "code",
   "execution_count": 76,
   "metadata": {
    "id": "2Tm4Pk__Felf"
   },
   "outputs": [],
   "source": [
    "# Выгружаем данные в переменные acquisition_df, company_and_rounds_df, people_df, education_df, degrees_df, fund_df, investment_df\n",
    "acquisition_df = pd.read_csv('https://code.s3.yandex.net/datasets/acquisition.csv')\n",
    "company_and_rounds_df = pd.read_csv('https://code.s3.yandex.net/datasets/company_and_rounds.csv')\n",
    "people_df = pd.read_csv('https://code.s3.yandex.net/datasets/people.csv')\n",
    "education_df = pd.read_csv('https://code.s3.yandex.net/datasets/education.csv')\n",
    "degrees_df = pd.read_csv('https://code.s3.yandex.net/datasets/degrees.csv')\n",
    "fund_df = pd.read_csv('https://code.s3.yandex.net/datasets/fund.csv')\n",
    "investment_df = pd.read_csv('https://code.s3.yandex.net/datasets/investment.csv')"
   ]
  },
  {
   "cell_type": "markdown",
   "metadata": {
    "id": "oNqJ2qpRFebv"
   },
   "source": [
    "Познакомимся с данными датасетов  — выведем первые строки методом head(), а информацию о датафрейме методом info():"
   ]
  },
  {
   "cell_type": "code",
   "execution_count": 3,
   "metadata": {},
   "outputs": [
    {
     "data": {
      "text/html": [
       "<div>\n",
       "<style scoped>\n",
       "    .dataframe tbody tr th:only-of-type {\n",
       "        vertical-align: middle;\n",
       "    }\n",
       "\n",
       "    .dataframe tbody tr th {\n",
       "        vertical-align: top;\n",
       "    }\n",
       "\n",
       "    .dataframe thead th {\n",
       "        text-align: right;\n",
       "    }\n",
       "</style>\n",
       "<table border=\"1\" class=\"dataframe\">\n",
       "  <thead>\n",
       "    <tr style=\"text-align: right;\">\n",
       "      <th></th>\n",
       "      <th>id</th>\n",
       "      <th>acquiring_company_id</th>\n",
       "      <th>acquired_company_id</th>\n",
       "      <th>term_code</th>\n",
       "      <th>price_amount</th>\n",
       "      <th>acquired_at</th>\n",
       "    </tr>\n",
       "  </thead>\n",
       "  <tbody>\n",
       "    <tr>\n",
       "      <th>0</th>\n",
       "      <td>1</td>\n",
       "      <td>11</td>\n",
       "      <td>10</td>\n",
       "      <td>NaN</td>\n",
       "      <td>20000000</td>\n",
       "      <td>2007-05-30</td>\n",
       "    </tr>\n",
       "    <tr>\n",
       "      <th>1</th>\n",
       "      <td>7</td>\n",
       "      <td>59</td>\n",
       "      <td>72</td>\n",
       "      <td>cash</td>\n",
       "      <td>60000000</td>\n",
       "      <td>2007-07-01</td>\n",
       "    </tr>\n",
       "    <tr>\n",
       "      <th>2</th>\n",
       "      <td>8</td>\n",
       "      <td>24</td>\n",
       "      <td>132</td>\n",
       "      <td>cash</td>\n",
       "      <td>280000000</td>\n",
       "      <td>2007-05-01</td>\n",
       "    </tr>\n",
       "    <tr>\n",
       "      <th>3</th>\n",
       "      <td>9</td>\n",
       "      <td>59</td>\n",
       "      <td>155</td>\n",
       "      <td>cash</td>\n",
       "      <td>100000000</td>\n",
       "      <td>2007-06-01</td>\n",
       "    </tr>\n",
       "    <tr>\n",
       "      <th>4</th>\n",
       "      <td>10</td>\n",
       "      <td>212</td>\n",
       "      <td>215</td>\n",
       "      <td>cash</td>\n",
       "      <td>25000000</td>\n",
       "      <td>2007-07-01</td>\n",
       "    </tr>\n",
       "  </tbody>\n",
       "</table>\n",
       "</div>"
      ],
      "text/plain": [
       "   id  acquiring_company_id  acquired_company_id term_code  price_amount  \\\n",
       "0   1                    11                   10       NaN      20000000   \n",
       "1   7                    59                   72      cash      60000000   \n",
       "2   8                    24                  132      cash     280000000   \n",
       "3   9                    59                  155      cash     100000000   \n",
       "4  10                   212                  215      cash      25000000   \n",
       "\n",
       "  acquired_at  \n",
       "0  2007-05-30  \n",
       "1  2007-07-01  \n",
       "2  2007-05-01  \n",
       "3  2007-06-01  \n",
       "4  2007-07-01  "
      ]
     },
     "execution_count": 3,
     "metadata": {},
     "output_type": "execute_result"
    }
   ],
   "source": [
    "acquisition_df.head()"
   ]
  },
  {
   "cell_type": "code",
   "execution_count": 4,
   "metadata": {},
   "outputs": [
    {
     "name": "stdout",
     "output_type": "stream",
     "text": [
      "<class 'pandas.core.frame.DataFrame'>\n",
      "RangeIndex: 9407 entries, 0 to 9406\n",
      "Data columns (total 6 columns):\n",
      " #   Column                Non-Null Count  Dtype \n",
      "---  ------                --------------  ----- \n",
      " 0   id                    9407 non-null   int64 \n",
      " 1   acquiring_company_id  9407 non-null   int64 \n",
      " 2   acquired_company_id   9407 non-null   int64 \n",
      " 3   term_code             1831 non-null   object\n",
      " 4   price_amount          9407 non-null   int64 \n",
      " 5   acquired_at           9378 non-null   object\n",
      "dtypes: int64(4), object(2)\n",
      "memory usage: 441.1+ KB\n"
     ]
    }
   ],
   "source": [
    "acquisition_df.info()"
   ]
  },
  {
   "cell_type": "markdown",
   "metadata": {},
   "source": [
    "Датасет acquisition.csv содержит 6 столбцов и 9407 строк.\n",
    "\n",
    "После первичного анализа данных можно сделать следующие выводы:\n",
    "- Названия столбцов в нужном регистре.\n",
    "- acquired_at приаести к типу date.\n",
    "- Пропуски содержатся в acquired_at и term_code.\n",
    "\n"
   ]
  },
  {
   "cell_type": "code",
   "execution_count": 5,
   "metadata": {},
   "outputs": [
    {
     "data": {
      "text/html": [
       "<div>\n",
       "<style scoped>\n",
       "    .dataframe tbody tr th:only-of-type {\n",
       "        vertical-align: middle;\n",
       "    }\n",
       "\n",
       "    .dataframe tbody tr th {\n",
       "        vertical-align: top;\n",
       "    }\n",
       "\n",
       "    .dataframe thead th {\n",
       "        text-align: right;\n",
       "    }\n",
       "</style>\n",
       "<table border=\"1\" class=\"dataframe\">\n",
       "  <thead>\n",
       "    <tr style=\"text-align: right;\">\n",
       "      <th></th>\n",
       "      <th>company  ID</th>\n",
       "      <th>name</th>\n",
       "      <th>category  code</th>\n",
       "      <th>status</th>\n",
       "      <th>founded  at</th>\n",
       "      <th>closed  at</th>\n",
       "      <th>domain</th>\n",
       "      <th>network  username</th>\n",
       "      <th>country  code</th>\n",
       "      <th>investment  rounds</th>\n",
       "      <th>...</th>\n",
       "      <th>milestones</th>\n",
       "      <th>funding  round  id</th>\n",
       "      <th>company  id</th>\n",
       "      <th>funded  at</th>\n",
       "      <th>funding  round  type</th>\n",
       "      <th>raised  amount</th>\n",
       "      <th>pre  money  valuation</th>\n",
       "      <th>participants</th>\n",
       "      <th>is  first  round</th>\n",
       "      <th>is  last  round</th>\n",
       "    </tr>\n",
       "  </thead>\n",
       "  <tbody>\n",
       "    <tr>\n",
       "      <th>0</th>\n",
       "      <td>1.0</td>\n",
       "      <td>Wetpaint</td>\n",
       "      <td>web</td>\n",
       "      <td>operating</td>\n",
       "      <td>2005-10-17</td>\n",
       "      <td>NaN</td>\n",
       "      <td>wetpaint-inc.com</td>\n",
       "      <td>BachelrWetpaint</td>\n",
       "      <td>USA</td>\n",
       "      <td>0.0</td>\n",
       "      <td>...</td>\n",
       "      <td>5.0</td>\n",
       "      <td>888.0</td>\n",
       "      <td>1.0</td>\n",
       "      <td>2005-10-01</td>\n",
       "      <td>series-a</td>\n",
       "      <td>5250000.0</td>\n",
       "      <td>0.0</td>\n",
       "      <td>2.0</td>\n",
       "      <td>0.0</td>\n",
       "      <td>1.0</td>\n",
       "    </tr>\n",
       "    <tr>\n",
       "      <th>1</th>\n",
       "      <td>1.0</td>\n",
       "      <td>Wetpaint</td>\n",
       "      <td>web</td>\n",
       "      <td>operating</td>\n",
       "      <td>2005-10-17</td>\n",
       "      <td>NaN</td>\n",
       "      <td>wetpaint-inc.com</td>\n",
       "      <td>BachelrWetpaint</td>\n",
       "      <td>USA</td>\n",
       "      <td>0.0</td>\n",
       "      <td>...</td>\n",
       "      <td>5.0</td>\n",
       "      <td>889.0</td>\n",
       "      <td>1.0</td>\n",
       "      <td>2007-01-01</td>\n",
       "      <td>series-b</td>\n",
       "      <td>9500000.0</td>\n",
       "      <td>0.0</td>\n",
       "      <td>3.0</td>\n",
       "      <td>0.0</td>\n",
       "      <td>0.0</td>\n",
       "    </tr>\n",
       "    <tr>\n",
       "      <th>2</th>\n",
       "      <td>1.0</td>\n",
       "      <td>Wetpaint</td>\n",
       "      <td>web</td>\n",
       "      <td>operating</td>\n",
       "      <td>2005-10-17</td>\n",
       "      <td>NaN</td>\n",
       "      <td>wetpaint-inc.com</td>\n",
       "      <td>BachelrWetpaint</td>\n",
       "      <td>USA</td>\n",
       "      <td>0.0</td>\n",
       "      <td>...</td>\n",
       "      <td>5.0</td>\n",
       "      <td>2312.0</td>\n",
       "      <td>1.0</td>\n",
       "      <td>2008-05-19</td>\n",
       "      <td>series-c+</td>\n",
       "      <td>25000000.0</td>\n",
       "      <td>0.0</td>\n",
       "      <td>4.0</td>\n",
       "      <td>1.0</td>\n",
       "      <td>0.0</td>\n",
       "    </tr>\n",
       "    <tr>\n",
       "      <th>3</th>\n",
       "      <td>10.0</td>\n",
       "      <td>Flektor</td>\n",
       "      <td>games_video</td>\n",
       "      <td>acquired</td>\n",
       "      <td>NaN</td>\n",
       "      <td>NaN</td>\n",
       "      <td>flektor.com</td>\n",
       "      <td>NaN</td>\n",
       "      <td>USA</td>\n",
       "      <td>0.0</td>\n",
       "      <td>...</td>\n",
       "      <td>0.0</td>\n",
       "      <td>NaN</td>\n",
       "      <td>NaN</td>\n",
       "      <td>NaN</td>\n",
       "      <td>NaN</td>\n",
       "      <td>NaN</td>\n",
       "      <td>NaN</td>\n",
       "      <td>NaN</td>\n",
       "      <td>NaN</td>\n",
       "      <td>NaN</td>\n",
       "    </tr>\n",
       "    <tr>\n",
       "      <th>4</th>\n",
       "      <td>100.0</td>\n",
       "      <td>There</td>\n",
       "      <td>games_video</td>\n",
       "      <td>acquired</td>\n",
       "      <td>NaN</td>\n",
       "      <td>NaN</td>\n",
       "      <td>there.com</td>\n",
       "      <td>NaN</td>\n",
       "      <td>USA</td>\n",
       "      <td>0.0</td>\n",
       "      <td>...</td>\n",
       "      <td>4.0</td>\n",
       "      <td>NaN</td>\n",
       "      <td>NaN</td>\n",
       "      <td>NaN</td>\n",
       "      <td>NaN</td>\n",
       "      <td>NaN</td>\n",
       "      <td>NaN</td>\n",
       "      <td>NaN</td>\n",
       "      <td>NaN</td>\n",
       "      <td>NaN</td>\n",
       "    </tr>\n",
       "  </tbody>\n",
       "</table>\n",
       "<p>5 rows × 22 columns</p>\n",
       "</div>"
      ],
      "text/plain": [
       "   company  ID      name category  code     status founded  at closed  at  \\\n",
       "0          1.0  Wetpaint            web  operating  2005-10-17        NaN   \n",
       "1          1.0  Wetpaint            web  operating  2005-10-17        NaN   \n",
       "2          1.0  Wetpaint            web  operating  2005-10-17        NaN   \n",
       "3         10.0   Flektor    games_video   acquired         NaN        NaN   \n",
       "4        100.0     There    games_video   acquired         NaN        NaN   \n",
       "\n",
       "             domain network  username country  code  investment  rounds  ...  \\\n",
       "0  wetpaint-inc.com   BachelrWetpaint           USA                 0.0  ...   \n",
       "1  wetpaint-inc.com   BachelrWetpaint           USA                 0.0  ...   \n",
       "2  wetpaint-inc.com   BachelrWetpaint           USA                 0.0  ...   \n",
       "3       flektor.com               NaN           USA                 0.0  ...   \n",
       "4         there.com               NaN           USA                 0.0  ...   \n",
       "\n",
       "   milestones  funding  round  id  company  id  funded  at  \\\n",
       "0         5.0               888.0          1.0  2005-10-01   \n",
       "1         5.0               889.0          1.0  2007-01-01   \n",
       "2         5.0              2312.0          1.0  2008-05-19   \n",
       "3         0.0                 NaN          NaN         NaN   \n",
       "4         4.0                 NaN          NaN         NaN   \n",
       "\n",
       "   funding  round  type raised  amount pre  money  valuation  participants  \\\n",
       "0              series-a      5250000.0                   0.0           2.0   \n",
       "1              series-b      9500000.0                   0.0           3.0   \n",
       "2             series-c+     25000000.0                   0.0           4.0   \n",
       "3                   NaN            NaN                   NaN           NaN   \n",
       "4                   NaN            NaN                   NaN           NaN   \n",
       "\n",
       "   is  first  round  is  last  round  \n",
       "0               0.0              1.0  \n",
       "1               0.0              0.0  \n",
       "2               1.0              0.0  \n",
       "3               NaN              NaN  \n",
       "4               NaN              NaN  \n",
       "\n",
       "[5 rows x 22 columns]"
      ]
     },
     "execution_count": 5,
     "metadata": {},
     "output_type": "execute_result"
    }
   ],
   "source": [
    "company_and_rounds_df.head()"
   ]
  },
  {
   "cell_type": "code",
   "execution_count": 6,
   "metadata": {},
   "outputs": [
    {
     "name": "stdout",
     "output_type": "stream",
     "text": [
      "<class 'pandas.core.frame.DataFrame'>\n",
      "RangeIndex: 217774 entries, 0 to 217773\n",
      "Data columns (total 22 columns):\n",
      " #   Column                 Non-Null Count   Dtype  \n",
      "---  ------                 --------------   -----  \n",
      " 0   company  ID            217472 non-null  float64\n",
      " 1   name                   217472 non-null  object \n",
      " 2   category  code         143886 non-null  object \n",
      " 3   status                 217472 non-null  object \n",
      " 4   founded  at            109956 non-null  object \n",
      " 5   closed  at             3449 non-null    object \n",
      " 6   domain                 147159 non-null  object \n",
      " 7   network  username      95534 non-null   object \n",
      " 8   country  code          108607 non-null  object \n",
      " 9   investment  rounds     217472 non-null  float64\n",
      " 10  funding  rounds        217472 non-null  float64\n",
      " 11  funding  total         217472 non-null  float64\n",
      " 12  milestones             217472 non-null  float64\n",
      " 13  funding  round  id     52928 non-null   float64\n",
      " 14  company  id            52928 non-null   float64\n",
      " 15  funded  at             52680 non-null   object \n",
      " 16  funding  round  type   52928 non-null   object \n",
      " 17  raised  amount         52928 non-null   float64\n",
      " 18  pre  money  valuation  52928 non-null   float64\n",
      " 19  participants           52928 non-null   float64\n",
      " 20  is  first  round       52928 non-null   float64\n",
      " 21  is  last  round        52928 non-null   float64\n",
      "dtypes: float64(12), object(10)\n",
      "memory usage: 36.6+ MB\n"
     ]
    }
   ],
   "source": [
    "company_and_rounds_df.info()"
   ]
  },
  {
   "cell_type": "markdown",
   "metadata": {},
   "source": [
    "Датасет company_and_rounds.csv содержит 22 столбца и 217774 строк.\n",
    "\n",
    "После первичного анализа данных можно сделать следующие выводы:\n",
    "- Названия столбцов лучше привести к одному виду, например snake case.\n",
    "- is  first  round и is  last  round приаести к типу bool.\n",
    "- Пропуски содержатся везде.\n",
    "\n"
   ]
  },
  {
   "cell_type": "code",
   "execution_count": 7,
   "metadata": {},
   "outputs": [
    {
     "data": {
      "text/html": [
       "<div>\n",
       "<style scoped>\n",
       "    .dataframe tbody tr th:only-of-type {\n",
       "        vertical-align: middle;\n",
       "    }\n",
       "\n",
       "    .dataframe tbody tr th {\n",
       "        vertical-align: top;\n",
       "    }\n",
       "\n",
       "    .dataframe thead th {\n",
       "        text-align: right;\n",
       "    }\n",
       "</style>\n",
       "<table border=\"1\" class=\"dataframe\">\n",
       "  <thead>\n",
       "    <tr style=\"text-align: right;\">\n",
       "      <th></th>\n",
       "      <th>id</th>\n",
       "      <th>first_name</th>\n",
       "      <th>last_name</th>\n",
       "      <th>company_id</th>\n",
       "      <th>network_username</th>\n",
       "    </tr>\n",
       "  </thead>\n",
       "  <tbody>\n",
       "    <tr>\n",
       "      <th>0</th>\n",
       "      <td>10</td>\n",
       "      <td>Mark</td>\n",
       "      <td>Zuckerberg</td>\n",
       "      <td>5.0</td>\n",
       "      <td>NaN</td>\n",
       "    </tr>\n",
       "    <tr>\n",
       "      <th>1</th>\n",
       "      <td>100</td>\n",
       "      <td>Peter</td>\n",
       "      <td>Lester</td>\n",
       "      <td>27.0</td>\n",
       "      <td>NaN</td>\n",
       "    </tr>\n",
       "    <tr>\n",
       "      <th>2</th>\n",
       "      <td>1000</td>\n",
       "      <td>Dr. Steven</td>\n",
       "      <td>E. Saunders</td>\n",
       "      <td>292.0</td>\n",
       "      <td>NaN</td>\n",
       "    </tr>\n",
       "    <tr>\n",
       "      <th>3</th>\n",
       "      <td>10000</td>\n",
       "      <td>Neil</td>\n",
       "      <td>Capel</td>\n",
       "      <td>2526.0</td>\n",
       "      <td>NaN</td>\n",
       "    </tr>\n",
       "    <tr>\n",
       "      <th>4</th>\n",
       "      <td>100000</td>\n",
       "      <td>Sue</td>\n",
       "      <td>Pilsch</td>\n",
       "      <td>NaN</td>\n",
       "      <td>NaN</td>\n",
       "    </tr>\n",
       "  </tbody>\n",
       "</table>\n",
       "</div>"
      ],
      "text/plain": [
       "       id  first_name    last_name  company_id network_username\n",
       "0      10        Mark   Zuckerberg         5.0              NaN\n",
       "1     100       Peter       Lester        27.0              NaN\n",
       "2    1000  Dr. Steven  E. Saunders       292.0              NaN\n",
       "3   10000        Neil        Capel      2526.0              NaN\n",
       "4  100000         Sue       Pilsch         NaN              NaN"
      ]
     },
     "execution_count": 7,
     "metadata": {},
     "output_type": "execute_result"
    }
   ],
   "source": [
    "people_df.head()"
   ]
  },
  {
   "cell_type": "code",
   "execution_count": 8,
   "metadata": {},
   "outputs": [
    {
     "name": "stdout",
     "output_type": "stream",
     "text": [
      "<class 'pandas.core.frame.DataFrame'>\n",
      "RangeIndex: 226709 entries, 0 to 226708\n",
      "Data columns (total 5 columns):\n",
      " #   Column            Non-Null Count   Dtype  \n",
      "---  ------            --------------   -----  \n",
      " 0   id                226709 non-null  int64  \n",
      " 1   first_name        226704 non-null  object \n",
      " 2   last_name         226708 non-null  object \n",
      " 3   company_id        34615 non-null   float64\n",
      " 4   network_username  38867 non-null   object \n",
      "dtypes: float64(1), int64(1), object(3)\n",
      "memory usage: 8.6+ MB\n"
     ]
    }
   ],
   "source": [
    "people_df.info()"
   ]
  },
  {
   "cell_type": "markdown",
   "metadata": {},
   "source": [
    "Датасет people.csv содержит 5 столбцjd и 226709 строк.\n",
    "\n",
    "После первичного анализа данных можно сделать следующие выводы:\n",
    "- Названия столбцов лучше привести к одному виду, например snake case.\n",
    "- Типы данных верны.\n",
    "- Пропуски содержатся везде кроме: id\n"
   ]
  },
  {
   "cell_type": "code",
   "execution_count": 9,
   "metadata": {},
   "outputs": [
    {
     "data": {
      "text/html": [
       "<div>\n",
       "<style scoped>\n",
       "    .dataframe tbody tr th:only-of-type {\n",
       "        vertical-align: middle;\n",
       "    }\n",
       "\n",
       "    .dataframe tbody tr th {\n",
       "        vertical-align: top;\n",
       "    }\n",
       "\n",
       "    .dataframe thead th {\n",
       "        text-align: right;\n",
       "    }\n",
       "</style>\n",
       "<table border=\"1\" class=\"dataframe\">\n",
       "  <thead>\n",
       "    <tr style=\"text-align: right;\">\n",
       "      <th></th>\n",
       "      <th>id</th>\n",
       "      <th>person_id</th>\n",
       "      <th>instituition</th>\n",
       "      <th>graduated_at</th>\n",
       "    </tr>\n",
       "  </thead>\n",
       "  <tbody>\n",
       "    <tr>\n",
       "      <th>0</th>\n",
       "      <td>1</td>\n",
       "      <td>6117</td>\n",
       "      <td>NaN</td>\n",
       "      <td>NaN</td>\n",
       "    </tr>\n",
       "    <tr>\n",
       "      <th>1</th>\n",
       "      <td>2</td>\n",
       "      <td>6136</td>\n",
       "      <td>Washington University, St. Louis</td>\n",
       "      <td>1990-01-01</td>\n",
       "    </tr>\n",
       "    <tr>\n",
       "      <th>2</th>\n",
       "      <td>3</td>\n",
       "      <td>6136</td>\n",
       "      <td>Boston University</td>\n",
       "      <td>1992-01-01</td>\n",
       "    </tr>\n",
       "    <tr>\n",
       "      <th>3</th>\n",
       "      <td>4</td>\n",
       "      <td>6005</td>\n",
       "      <td>University of Greenwich</td>\n",
       "      <td>2006-01-01</td>\n",
       "    </tr>\n",
       "    <tr>\n",
       "      <th>4</th>\n",
       "      <td>5</td>\n",
       "      <td>5832</td>\n",
       "      <td>Rice University</td>\n",
       "      <td>NaN</td>\n",
       "    </tr>\n",
       "  </tbody>\n",
       "</table>\n",
       "</div>"
      ],
      "text/plain": [
       "   id  person_id                      instituition graduated_at\n",
       "0   1       6117                               NaN          NaN\n",
       "1   2       6136  Washington University, St. Louis   1990-01-01\n",
       "2   3       6136                 Boston University   1992-01-01\n",
       "3   4       6005           University of Greenwich   2006-01-01\n",
       "4   5       5832                   Rice University          NaN"
      ]
     },
     "execution_count": 9,
     "metadata": {},
     "output_type": "execute_result"
    }
   ],
   "source": [
    "education_df.head()"
   ]
  },
  {
   "cell_type": "code",
   "execution_count": 10,
   "metadata": {},
   "outputs": [
    {
     "name": "stdout",
     "output_type": "stream",
     "text": [
      "<class 'pandas.core.frame.DataFrame'>\n",
      "RangeIndex: 109610 entries, 0 to 109609\n",
      "Data columns (total 4 columns):\n",
      " #   Column        Non-Null Count   Dtype \n",
      "---  ------        --------------   ----- \n",
      " 0   id            109610 non-null  int64 \n",
      " 1   person_id     109610 non-null  int64 \n",
      " 2   instituition  109555 non-null  object\n",
      " 3   graduated_at  58054 non-null   object\n",
      "dtypes: int64(2), object(2)\n",
      "memory usage: 3.3+ MB\n"
     ]
    }
   ],
   "source": [
    "education_df.info()"
   ]
  },
  {
   "cell_type": "markdown",
   "metadata": {},
   "source": [
    "Датасет education.csv содержит 4 столбца и 109610  строк.\n",
    "\n",
    "После первичного анализа данных можно сделать следующие выводы:\n",
    "- Названия столбцов в норме.\n",
    "- Типы данных graduated_at заменить на datetime .\n",
    "- Пропуски содержатся в instituition и graduated_at.\n",
    "\n"
   ]
  },
  {
   "cell_type": "code",
   "execution_count": 11,
   "metadata": {},
   "outputs": [
    {
     "data": {
      "text/html": [
       "<div>\n",
       "<style scoped>\n",
       "    .dataframe tbody tr th:only-of-type {\n",
       "        vertical-align: middle;\n",
       "    }\n",
       "\n",
       "    .dataframe tbody tr th {\n",
       "        vertical-align: top;\n",
       "    }\n",
       "\n",
       "    .dataframe thead th {\n",
       "        text-align: right;\n",
       "    }\n",
       "</style>\n",
       "<table border=\"1\" class=\"dataframe\">\n",
       "  <thead>\n",
       "    <tr style=\"text-align: right;\">\n",
       "      <th></th>\n",
       "      <th>id</th>\n",
       "      <th>object_id</th>\n",
       "      <th>degree_type</th>\n",
       "      <th>subject</th>\n",
       "    </tr>\n",
       "  </thead>\n",
       "  <tbody>\n",
       "    <tr>\n",
       "      <th>0</th>\n",
       "      <td>1</td>\n",
       "      <td>p:6117</td>\n",
       "      <td>MBA</td>\n",
       "      <td>NaN</td>\n",
       "    </tr>\n",
       "    <tr>\n",
       "      <th>1</th>\n",
       "      <td>2</td>\n",
       "      <td>p:6136</td>\n",
       "      <td>BA</td>\n",
       "      <td>English, French</td>\n",
       "    </tr>\n",
       "    <tr>\n",
       "      <th>2</th>\n",
       "      <td>3</td>\n",
       "      <td>p:6136</td>\n",
       "      <td>MS</td>\n",
       "      <td>Mass Communication</td>\n",
       "    </tr>\n",
       "    <tr>\n",
       "      <th>3</th>\n",
       "      <td>4</td>\n",
       "      <td>p:6005</td>\n",
       "      <td>MS</td>\n",
       "      <td>Internet Technology</td>\n",
       "    </tr>\n",
       "    <tr>\n",
       "      <th>4</th>\n",
       "      <td>5</td>\n",
       "      <td>p:5832</td>\n",
       "      <td>BCS</td>\n",
       "      <td>Computer Science, Psychology</td>\n",
       "    </tr>\n",
       "  </tbody>\n",
       "</table>\n",
       "</div>"
      ],
      "text/plain": [
       "   id object_id degree_type                       subject\n",
       "0   1    p:6117         MBA                           NaN\n",
       "1   2    p:6136          BA               English, French\n",
       "2   3    p:6136          MS            Mass Communication\n",
       "3   4    p:6005          MS           Internet Technology\n",
       "4   5    p:5832         BCS  Computer Science, Psychology"
      ]
     },
     "execution_count": 11,
     "metadata": {},
     "output_type": "execute_result"
    }
   ],
   "source": [
    "degrees_df.head()"
   ]
  },
  {
   "cell_type": "code",
   "execution_count": 12,
   "metadata": {},
   "outputs": [
    {
     "name": "stdout",
     "output_type": "stream",
     "text": [
      "<class 'pandas.core.frame.DataFrame'>\n",
      "RangeIndex: 109610 entries, 0 to 109609\n",
      "Data columns (total 4 columns):\n",
      " #   Column       Non-Null Count   Dtype \n",
      "---  ------       --------------   ----- \n",
      " 0   id           109610 non-null  int64 \n",
      " 1   object_id    109610 non-null  object\n",
      " 2   degree_type  98392 non-null   object\n",
      " 3   subject      81298 non-null   object\n",
      "dtypes: int64(1), object(3)\n",
      "memory usage: 3.3+ MB\n"
     ]
    }
   ],
   "source": [
    "degrees_df.info()"
   ]
  },
  {
   "cell_type": "markdown",
   "metadata": {},
   "source": [
    "Датасет degrees.csv содержит 4 столбца и 109610 строк.\n",
    "\n",
    "После первичного анализа данных можно сделать следующие выводы:\n",
    "- Названия столбцов в норме.\n",
    "- Типы данных в норме.\n",
    "- Пропуски содержатся в degree_type и subject.\n",
    "\n"
   ]
  },
  {
   "cell_type": "code",
   "execution_count": 13,
   "metadata": {},
   "outputs": [
    {
     "data": {
      "text/html": [
       "<div>\n",
       "<style scoped>\n",
       "    .dataframe tbody tr th:only-of-type {\n",
       "        vertical-align: middle;\n",
       "    }\n",
       "\n",
       "    .dataframe tbody tr th {\n",
       "        vertical-align: top;\n",
       "    }\n",
       "\n",
       "    .dataframe thead th {\n",
       "        text-align: right;\n",
       "    }\n",
       "</style>\n",
       "<table border=\"1\" class=\"dataframe\">\n",
       "  <thead>\n",
       "    <tr style=\"text-align: right;\">\n",
       "      <th></th>\n",
       "      <th>id</th>\n",
       "      <th>name</th>\n",
       "      <th>founded_at</th>\n",
       "      <th>domain</th>\n",
       "      <th>network_username</th>\n",
       "      <th>country_code</th>\n",
       "      <th>investment_rounds</th>\n",
       "      <th>invested_companies</th>\n",
       "      <th>milestones</th>\n",
       "    </tr>\n",
       "  </thead>\n",
       "  <tbody>\n",
       "    <tr>\n",
       "      <th>0</th>\n",
       "      <td>13131</td>\n",
       "      <td>NaN</td>\n",
       "      <td>NaN</td>\n",
       "      <td>NaN</td>\n",
       "      <td>NaN</td>\n",
       "      <td>NaN</td>\n",
       "      <td>0</td>\n",
       "      <td>0</td>\n",
       "      <td>0</td>\n",
       "    </tr>\n",
       "    <tr>\n",
       "      <th>1</th>\n",
       "      <td>1</td>\n",
       "      <td>Greylock Partners</td>\n",
       "      <td>1965-01-01</td>\n",
       "      <td>greylock.com</td>\n",
       "      <td>greylockvc</td>\n",
       "      <td>USA</td>\n",
       "      <td>307</td>\n",
       "      <td>196</td>\n",
       "      <td>0</td>\n",
       "    </tr>\n",
       "    <tr>\n",
       "      <th>2</th>\n",
       "      <td>10</td>\n",
       "      <td>Mission Ventures</td>\n",
       "      <td>1996-01-01</td>\n",
       "      <td>missionventures.com</td>\n",
       "      <td>NaN</td>\n",
       "      <td>USA</td>\n",
       "      <td>58</td>\n",
       "      <td>33</td>\n",
       "      <td>0</td>\n",
       "    </tr>\n",
       "    <tr>\n",
       "      <th>3</th>\n",
       "      <td>100</td>\n",
       "      <td>Kapor Enterprises, Inc.</td>\n",
       "      <td>NaN</td>\n",
       "      <td>kei.com</td>\n",
       "      <td>NaN</td>\n",
       "      <td>USA</td>\n",
       "      <td>2</td>\n",
       "      <td>1</td>\n",
       "      <td>0</td>\n",
       "    </tr>\n",
       "    <tr>\n",
       "      <th>4</th>\n",
       "      <td>1000</td>\n",
       "      <td>Speed Ventures</td>\n",
       "      <td>NaN</td>\n",
       "      <td>NaN</td>\n",
       "      <td>NaN</td>\n",
       "      <td>NaN</td>\n",
       "      <td>0</td>\n",
       "      <td>0</td>\n",
       "      <td>1</td>\n",
       "    </tr>\n",
       "  </tbody>\n",
       "</table>\n",
       "</div>"
      ],
      "text/plain": [
       "      id                     name  founded_at               domain  \\\n",
       "0  13131                      NaN         NaN                  NaN   \n",
       "1      1        Greylock Partners  1965-01-01         greylock.com   \n",
       "2     10         Mission Ventures  1996-01-01  missionventures.com   \n",
       "3    100  Kapor Enterprises, Inc.         NaN              kei.com   \n",
       "4   1000           Speed Ventures         NaN                  NaN   \n",
       "\n",
       "  network_username country_code  investment_rounds  invested_companies  \\\n",
       "0              NaN          NaN                  0                   0   \n",
       "1       greylockvc          USA                307                 196   \n",
       "2              NaN          USA                 58                  33   \n",
       "3              NaN          USA                  2                   1   \n",
       "4              NaN          NaN                  0                   0   \n",
       "\n",
       "   milestones  \n",
       "0           0  \n",
       "1           0  \n",
       "2           0  \n",
       "3           0  \n",
       "4           1  "
      ]
     },
     "execution_count": 13,
     "metadata": {},
     "output_type": "execute_result"
    }
   ],
   "source": [
    "fund_df.head()"
   ]
  },
  {
   "cell_type": "code",
   "execution_count": 14,
   "metadata": {},
   "outputs": [
    {
     "name": "stdout",
     "output_type": "stream",
     "text": [
      "<class 'pandas.core.frame.DataFrame'>\n",
      "RangeIndex: 11652 entries, 0 to 11651\n",
      "Data columns (total 9 columns):\n",
      " #   Column              Non-Null Count  Dtype \n",
      "---  ------              --------------  ----- \n",
      " 0   id                  11652 non-null  int64 \n",
      " 1   name                11650 non-null  object\n",
      " 2   founded_at          4605 non-null   object\n",
      " 3   domain              7362 non-null   object\n",
      " 4   network_username    2149 non-null   object\n",
      " 5   country_code        7053 non-null   object\n",
      " 6   investment_rounds   11652 non-null  int64 \n",
      " 7   invested_companies  11652 non-null  int64 \n",
      " 8   milestones          11652 non-null  int64 \n",
      "dtypes: int64(4), object(5)\n",
      "memory usage: 819.4+ KB\n"
     ]
    }
   ],
   "source": [
    "fund_df.info()"
   ]
  },
  {
   "cell_type": "markdown",
   "metadata": {},
   "source": [
    "Датасет fund.csv содержит 9 столбцов и 11652 строк.\n",
    "\n",
    "После первичного анализа данных можно сделать следующие выводы:\n",
    "- Названия столбцов лучше привести к одному виду, например snake case.\n",
    "- Типы данных в норме.\n",
    "- Пропуски содержатся в  name, founded_at, domain, network_username, country_code.\n",
    "\n"
   ]
  },
  {
   "cell_type": "code",
   "execution_count": 15,
   "metadata": {},
   "outputs": [
    {
     "data": {
      "text/html": [
       "<div>\n",
       "<style scoped>\n",
       "    .dataframe tbody tr th:only-of-type {\n",
       "        vertical-align: middle;\n",
       "    }\n",
       "\n",
       "    .dataframe tbody tr th {\n",
       "        vertical-align: top;\n",
       "    }\n",
       "\n",
       "    .dataframe thead th {\n",
       "        text-align: right;\n",
       "    }\n",
       "</style>\n",
       "<table border=\"1\" class=\"dataframe\">\n",
       "  <thead>\n",
       "    <tr style=\"text-align: right;\">\n",
       "      <th></th>\n",
       "      <th>id</th>\n",
       "      <th>funding_round_id</th>\n",
       "      <th>company_id</th>\n",
       "      <th>fund_id</th>\n",
       "    </tr>\n",
       "  </thead>\n",
       "  <tbody>\n",
       "    <tr>\n",
       "      <th>0</th>\n",
       "      <td>1</td>\n",
       "      <td>1</td>\n",
       "      <td>4</td>\n",
       "      <td>1</td>\n",
       "    </tr>\n",
       "    <tr>\n",
       "      <th>1</th>\n",
       "      <td>2</td>\n",
       "      <td>1</td>\n",
       "      <td>4</td>\n",
       "      <td>2</td>\n",
       "    </tr>\n",
       "    <tr>\n",
       "      <th>2</th>\n",
       "      <td>3</td>\n",
       "      <td>3</td>\n",
       "      <td>5</td>\n",
       "      <td>4</td>\n",
       "    </tr>\n",
       "    <tr>\n",
       "      <th>3</th>\n",
       "      <td>4</td>\n",
       "      <td>4</td>\n",
       "      <td>5</td>\n",
       "      <td>1</td>\n",
       "    </tr>\n",
       "    <tr>\n",
       "      <th>4</th>\n",
       "      <td>5</td>\n",
       "      <td>4</td>\n",
       "      <td>5</td>\n",
       "      <td>5</td>\n",
       "    </tr>\n",
       "  </tbody>\n",
       "</table>\n",
       "</div>"
      ],
      "text/plain": [
       "   id  funding_round_id  company_id  fund_id\n",
       "0   1                 1           4        1\n",
       "1   2                 1           4        2\n",
       "2   3                 3           5        4\n",
       "3   4                 4           5        1\n",
       "4   5                 4           5        5"
      ]
     },
     "execution_count": 15,
     "metadata": {},
     "output_type": "execute_result"
    }
   ],
   "source": [
    "investment_df.head()"
   ]
  },
  {
   "cell_type": "code",
   "execution_count": 16,
   "metadata": {},
   "outputs": [
    {
     "name": "stdout",
     "output_type": "stream",
     "text": [
      "<class 'pandas.core.frame.DataFrame'>\n",
      "RangeIndex: 61403 entries, 0 to 61402\n",
      "Data columns (total 4 columns):\n",
      " #   Column            Non-Null Count  Dtype\n",
      "---  ------            --------------  -----\n",
      " 0   id                61403 non-null  int64\n",
      " 1   funding_round_id  61403 non-null  int64\n",
      " 2   company_id        61403 non-null  int64\n",
      " 3   fund_id           61403 non-null  int64\n",
      "dtypes: int64(4)\n",
      "memory usage: 1.9 MB\n"
     ]
    }
   ],
   "source": [
    "investment_df.info()"
   ]
  },
  {
   "cell_type": "markdown",
   "metadata": {},
   "source": [
    "Датасет investment.csv содержит 4 столбца и 61403 строк.\n",
    "\n",
    "После первичного анализа данных можно сделать следующие выводы:\n",
    "- Названия столбцов в норме.\n",
    "- Типы данных в норме.\n",
    "- Пропусков нет.\n",
    "\n"
   ]
  },
  {
   "cell_type": "markdown",
   "metadata": {},
   "source": [
    "Данные содержат пропуски, но в целом их достаточно."
   ]
  },
  {
   "cell_type": "markdown",
   "metadata": {
    "id": "mg2gEwh0rJg0"
   },
   "source": [
    "### 1.2. Смена типов и анализ пропусков\n",
    "\n",
    "- Обработайтб типы данных в столбцах, которые хранят значения даты и времени, если это необходимо.\n",
    "- Оценить полноту данных — сделайть предварительный вывод, достаточно ли данных для решения задач проекта."
   ]
  },
  {
   "cell_type": "code",
   "execution_count": 17,
   "metadata": {},
   "outputs": [],
   "source": [
    "# Выполним преобразование столбца 'acquisition_df'  к типу date\n",
    "acquisition_df['acquired_at'] = pd.to_datetime(acquisition_df['acquired_at'])"
   ]
  },
  {
   "cell_type": "code",
   "execution_count": 18,
   "metadata": {},
   "outputs": [
    {
     "name": "stdout",
     "output_type": "stream",
     "text": [
      "<class 'pandas.core.frame.DataFrame'>\n",
      "RangeIndex: 9407 entries, 0 to 9406\n",
      "Data columns (total 6 columns):\n",
      " #   Column                Non-Null Count  Dtype         \n",
      "---  ------                --------------  -----         \n",
      " 0   id                    9407 non-null   int64         \n",
      " 1   acquiring_company_id  9407 non-null   int64         \n",
      " 2   acquired_company_id   9407 non-null   int64         \n",
      " 3   term_code             1831 non-null   object        \n",
      " 4   price_amount          9407 non-null   int64         \n",
      " 5   acquired_at           9378 non-null   datetime64[ns]\n",
      "dtypes: datetime64[ns](1), int64(4), object(1)\n",
      "memory usage: 441.1+ KB\n"
     ]
    }
   ],
   "source": [
    "# Выгрузим базовую информацию о датасете\n",
    "acquisition_df.info()"
   ]
  },
  {
   "cell_type": "code",
   "execution_count": 19,
   "metadata": {},
   "outputs": [
    {
     "data": {
      "text/plain": [
       "Index(['company  ID', 'name', 'category  code', 'status', 'founded  at',\n",
       "       'closed  at', 'domain', 'network  username', 'country  code',\n",
       "       'investment  rounds', 'funding  rounds', 'funding  total', 'milestones',\n",
       "       'funding  round  id', 'company  id', 'funded  at',\n",
       "       'funding  round  type', 'raised  amount', 'pre  money  valuation',\n",
       "       'participants', 'is  first  round', 'is  last  round'],\n",
       "      dtype='object')"
      ]
     },
     "execution_count": 19,
     "metadata": {},
     "output_type": "execute_result"
    }
   ],
   "source": [
    "# Выводим названия столбцов датафрейма company_and_rounds_df\n",
    "company_and_rounds_df.columns"
   ]
  },
  {
   "cell_type": "code",
   "execution_count": 20,
   "metadata": {
    "id": "FsL0A8RBrJg1",
    "vscode": {
     "languageId": "plaintext"
    }
   },
   "outputs": [],
   "source": [
    "# Передаём методу rename() словарь с названиями столбцов\n",
    "company_and_rounds_df = company_and_rounds_df.rename(columns={'company  ID' : 'company.id', \n",
    "                                  'name': 'name', \n",
    "                                  'category  code': 'category_code', \n",
    "                                  'status' : 'status', \n",
    "                                  'founded  at' : 'founded_at',\n",
    "                                  'closed  at' : 'closed_at', \n",
    "                                  'domain' : 'domain', \n",
    "                                  'network  username' : 'network_user_name',\n",
    "                                  'country  code' : 'country_code',\n",
    "                                  'investment  rounds' : 'investment_rounds', \n",
    "                                  'funding  rounds' : 'funding_rounds', \n",
    "                                  'funding  total': 'funding_total', \n",
    "                                  'milestones' : 'milestones',\n",
    "                                  'funding  round  id' : 'funding_round_id', \n",
    "                                  'company  id' : 'company_id',\n",
    "                                  'funded  at' : 'funded_at',\n",
    "                                  'funding  round  type' : 'funding_round_type', \n",
    "                                  'raised  amount' : 'raised_amount',\n",
    "                                  'pre  money  valuation' : 'pre_money_valuation ',\n",
    "                                  'participants' : 'participants', \n",
    "                                  'is  first  round' : 'is_first_round',\n",
    "                                  'is  last  round' : 'is_last_round'})"
   ]
  },
  {
   "cell_type": "code",
   "execution_count": 21,
   "metadata": {
    "id": "46VskrGyFeJ-"
   },
   "outputs": [
    {
     "data": {
      "text/plain": [
       "Index(['company.id', 'name', 'category_code', 'status', 'founded_at',\n",
       "       'closed_at', 'domain', 'network_user_name', 'country_code',\n",
       "       'investment_rounds', 'funding_rounds', 'funding_total', 'milestones',\n",
       "       'funding_round_id', 'company_id', 'funded_at', 'funding_round_type',\n",
       "       'raised_amount', 'pre_money_valuation ', 'participants',\n",
       "       'is_first_round', 'is_last_round'],\n",
       "      dtype='object')"
      ]
     },
     "execution_count": 21,
     "metadata": {},
     "output_type": "execute_result"
    }
   ],
   "source": [
    "# Выведим преобразованные названия\n",
    "company_and_rounds_df.columns"
   ]
  },
  {
   "cell_type": "code",
   "execution_count": 22,
   "metadata": {},
   "outputs": [],
   "source": [
    "# Выполним преобразование столбца'is_first_round' и 'is_last_round' к типу bool и funded_at в datetime\n",
    "company_and_rounds_df['is_first_round'] = company_and_rounds_df['is_first_round'].astype(bool)\n",
    "company_and_rounds_df['is_last_round'] = company_and_rounds_df['is_last_round'].astype(bool)\n",
    "company_and_rounds_df['funded_at'] = pd.to_datetime(company_and_rounds_df['funded_at'])\n",
    "\n"
   ]
  },
  {
   "cell_type": "code",
   "execution_count": 23,
   "metadata": {},
   "outputs": [
    {
     "name": "stdout",
     "output_type": "stream",
     "text": [
      "<class 'pandas.core.frame.DataFrame'>\n",
      "RangeIndex: 217774 entries, 0 to 217773\n",
      "Data columns (total 22 columns):\n",
      " #   Column                Non-Null Count   Dtype         \n",
      "---  ------                --------------   -----         \n",
      " 0   company.id            217472 non-null  float64       \n",
      " 1   name                  217472 non-null  object        \n",
      " 2   category_code         143886 non-null  object        \n",
      " 3   status                217472 non-null  object        \n",
      " 4   founded_at            109956 non-null  object        \n",
      " 5   closed_at             3449 non-null    object        \n",
      " 6   domain                147159 non-null  object        \n",
      " 7   network_user_name     95534 non-null   object        \n",
      " 8   country_code          108607 non-null  object        \n",
      " 9   investment_rounds     217472 non-null  float64       \n",
      " 10  funding_rounds        217472 non-null  float64       \n",
      " 11  funding_total         217472 non-null  float64       \n",
      " 12  milestones            217472 non-null  float64       \n",
      " 13  funding_round_id      52928 non-null   float64       \n",
      " 14  company_id            52928 non-null   float64       \n",
      " 15  funded_at             52680 non-null   datetime64[ns]\n",
      " 16  funding_round_type    52928 non-null   object        \n",
      " 17  raised_amount         52928 non-null   float64       \n",
      " 18  pre_money_valuation   52928 non-null   float64       \n",
      " 19  participants          52928 non-null   float64       \n",
      " 20  is_first_round        217774 non-null  bool          \n",
      " 21  is_last_round         217774 non-null  bool          \n",
      "dtypes: bool(2), datetime64[ns](1), float64(10), object(9)\n",
      "memory usage: 33.6+ MB\n"
     ]
    }
   ],
   "source": [
    "# Выгрузим новую информацию о датасете\n",
    "company_and_rounds_df.info()"
   ]
  },
  {
   "cell_type": "code",
   "execution_count": 24,
   "metadata": {
    "id": "DEg1tl8DFeBn"
   },
   "outputs": [
    {
     "data": {
      "text/plain": [
       "Index(['id', 'first_name', 'last_name', 'company_id', 'network_username'], dtype='object')"
      ]
     },
     "execution_count": 24,
     "metadata": {},
     "output_type": "execute_result"
    }
   ],
   "source": [
    "# Выводим названия столбцов датафрейма\n",
    "people_df.columns"
   ]
  },
  {
   "cell_type": "code",
   "execution_count": 25,
   "metadata": {},
   "outputs": [],
   "source": [
    "# Передаём методу rename() словарь с названиями столбцов\n",
    "people_df = people_df.rename(columns={'id' : 'id',\n",
    "                                      'first_name' : 'first_name',\n",
    "                                      'last_name' : 'last_name',\n",
    "                                      'company_id' : 'company_id',\n",
    "                                      'network_username' : 'network_user_name'})"
   ]
  },
  {
   "cell_type": "code",
   "execution_count": 26,
   "metadata": {},
   "outputs": [
    {
     "data": {
      "text/plain": [
       "Index(['id', 'first_name', 'last_name', 'company_id', 'network_user_name'], dtype='object')"
      ]
     },
     "execution_count": 26,
     "metadata": {},
     "output_type": "execute_result"
    }
   ],
   "source": [
    "# Выводим новое названия столбцов датафрейма\n",
    "people_df.columns"
   ]
  },
  {
   "cell_type": "code",
   "execution_count": 27,
   "metadata": {},
   "outputs": [],
   "source": [
    "# Выполним преобразование столбца graduated_at в datetime\n",
    "education_df['graduated_at'] = pd.to_datetime(education_df['graduated_at'])"
   ]
  },
  {
   "cell_type": "code",
   "execution_count": 28,
   "metadata": {},
   "outputs": [
    {
     "name": "stdout",
     "output_type": "stream",
     "text": [
      "<class 'pandas.core.frame.DataFrame'>\n",
      "RangeIndex: 109610 entries, 0 to 109609\n",
      "Data columns (total 4 columns):\n",
      " #   Column        Non-Null Count   Dtype         \n",
      "---  ------        --------------   -----         \n",
      " 0   id            109610 non-null  int64         \n",
      " 1   person_id     109610 non-null  int64         \n",
      " 2   instituition  109555 non-null  object        \n",
      " 3   graduated_at  58054 non-null   datetime64[ns]\n",
      "dtypes: datetime64[ns](1), int64(2), object(1)\n",
      "memory usage: 3.3+ MB\n"
     ]
    }
   ],
   "source": [
    "# Выгрузим новую информацию о датасете\n",
    "education_df.info()"
   ]
  },
  {
   "cell_type": "code",
   "execution_count": 29,
   "metadata": {},
   "outputs": [
    {
     "data": {
      "text/plain": [
       "Index(['id', 'name', 'founded_at', 'domain', 'network_username',\n",
       "       'country_code', 'investment_rounds', 'invested_companies',\n",
       "       'milestones'],\n",
       "      dtype='object')"
      ]
     },
     "execution_count": 29,
     "metadata": {},
     "output_type": "execute_result"
    }
   ],
   "source": [
    "# Выводим названия столбцов датафрейма\n",
    "fund_df.columns"
   ]
  },
  {
   "cell_type": "code",
   "execution_count": 30,
   "metadata": {},
   "outputs": [],
   "source": [
    "# Передаём методу rename() словарь с названиями столбцов\n",
    "fund_df = fund_df.rename(columns={'id' : 'id',\n",
    "                                  'name' : 'name', \n",
    "                                  'founded_at' : 'last_name',\n",
    "                                  'domain' : 'domain', \n",
    "                                  'network_username' : 'network_user_name',\n",
    "                                  'country_code' : 'country_code',\n",
    "                                  'investment_rounds' : 'investment_rounds',\n",
    "                                  'invested_companies' : 'invested_companies',\n",
    "                                  'milestones' : 'milestones'})"
   ]
  },
  {
   "cell_type": "code",
   "execution_count": 31,
   "metadata": {},
   "outputs": [
    {
     "data": {
      "text/plain": [
       "Index(['id', 'name', 'last_name', 'domain', 'network_user_name',\n",
       "       'country_code', 'investment_rounds', 'invested_companies',\n",
       "       'milestones'],\n",
       "      dtype='object')"
      ]
     },
     "execution_count": 31,
     "metadata": {},
     "output_type": "execute_result"
    }
   ],
   "source": [
    "# Выводим новое названия столбцов датафрейма\n",
    "fund_df.columns"
   ]
  },
  {
   "cell_type": "markdown",
   "metadata": {},
   "source": [
    "Привел в оптимальный вид датасеты, сделав названия столбцов коректными и подобрав нужные типы данных."
   ]
  },
  {
   "cell_type": "markdown",
   "metadata": {
    "id": "u60cHsn6rJg1"
   },
   "source": [
    "## Шаг 2. Предобработка данных, предварительное исследование"
   ]
  },
  {
   "cell_type": "markdown",
   "metadata": {
    "id": "g2bHIIjcrJg1"
   },
   "source": [
    "\n",
    "### 2.1. Раунды финансирования по годам\n",
    "\n",
    "Необходимо выполнить без объединения и дополнительной предобработки на основе датасета `company_and_rounds.csv`.\n",
    "\n",
    "- Составить сводную таблицу по годам, в которой на основании столбца `raised_amount` для каждого года указан:\n",
    "    - типичный размер средств, выделяемый в рамках одного раунда;\n",
    "    - общее количество раундов финансирования за этот год.\n",
    "    \n",
    "- Оставить в таблице информацию только для тех лет, для которых есть информация о более чем 50 раундах финансирования.\n",
    "- На основе получившейся таблицы построить график, который будет отражать динамику типичного размера средств, которые стартапы получали в рамках одного раунда финансирования.\n",
    "\n",
    "На основе полученных данных ответить на вопросы:\n",
    "\n",
    "- В каком году типичный размер собранных в рамках одного раунда средств был максимален?\n",
    "- Какая тенденция по количеству раундов и выделяемых в рамках каждого раунда средств наблюдалась в 2013 году?"
   ]
  },
  {
   "cell_type": "code",
   "execution_count": 32,
   "metadata": {
    "id": "Cf5IjfOQrJg1",
    "scrolled": false,
    "vscode": {
     "languageId": "plaintext"
    }
   },
   "outputs": [
    {
     "name": "stdout",
     "output_type": "stream",
     "text": [
      "           Типичный размер средств  Общее количество раундов\n",
      "funded_at                                                   \n",
      "1960.0                         0.0                         9\n",
      "1973.0                         0.0                         1\n",
      "1974.0                         0.0                         2\n",
      "1984.0                     41000.0                         3\n",
      "1985.0                         0.0                         1\n",
      "1987.0                   1250000.0                         2\n",
      "1989.0                     15000.0                         1\n",
      "1990.0                   1000000.0                         1\n",
      "1992.0                   2000000.0                         1\n",
      "1993.0                     62500.0                         2\n",
      "1994.0                   6700000.0                         2\n",
      "1995.0                   2000000.0                         7\n",
      "1996.0                     12500.0                         7\n",
      "1997.0                   3300000.0                         9\n",
      "1998.0                    100000.0                        29\n",
      "1999.0                   2000000.0                        76\n",
      "2000.0                   4200000.0                       125\n",
      "2001.0                   3000000.0                        96\n",
      "2002.0                   4200000.0                       116\n",
      "2003.0                   3000000.0                       159\n",
      "2004.0                   5000000.0                       291\n",
      "2005.0                   5500000.0                      1633\n",
      "2006.0                   5000000.0                      2436\n",
      "2007.0                   3973320.0                      3279\n",
      "2008.0                   3110000.0                      3774\n",
      "2009.0                   2000000.0                      4151\n",
      "2010.0                   1602500.0                      6221\n",
      "2011.0                   1200000.0                      9204\n",
      "2012.0                   1000000.0                      9970\n",
      "2013.0                   1200000.0                     11072\n"
     ]
    }
   ],
   "source": [
    "# Группируем данные по годам\n",
    "grouped = company_and_rounds_df.groupby(company_and_rounds_df['funded_at'].dt.year)\n",
    "\n",
    "# Создаем сводную таблицу\n",
    "summary_table = grouped['raised_amount'].agg([('Типичный размер средств', 'median'),  # Среднее значение raised_amount за год\n",
    "                                            ('Общее количество раундов', 'count')  # Количество раундов финансирования за год\n",
    "                                             ])\n",
    "\n",
    "# Выводим сводную таблицу\n",
    "print(summary_table)"
   ]
  },
  {
   "cell_type": "code",
   "execution_count": 33,
   "metadata": {
    "id": "8Fbz6KmzFdYP"
   },
   "outputs": [
    {
     "name": "stdout",
     "output_type": "stream",
     "text": [
      "           Типичный размер средств  Общее количество раундов\n",
      "funded_at                                                   \n",
      "1999.0                   2000000.0                        76\n",
      "2000.0                   4200000.0                       125\n",
      "2001.0                   3000000.0                        96\n",
      "2002.0                   4200000.0                       116\n",
      "2003.0                   3000000.0                       159\n",
      "2004.0                   5000000.0                       291\n",
      "2005.0                   5500000.0                      1633\n",
      "2006.0                   5000000.0                      2436\n",
      "2007.0                   3973320.0                      3279\n",
      "2008.0                   3110000.0                      3774\n",
      "2009.0                   2000000.0                      4151\n",
      "2010.0                   1602500.0                      6221\n",
      "2011.0                   1200000.0                      9204\n",
      "2012.0                   1000000.0                      9970\n",
      "2013.0                   1200000.0                     11072\n"
     ]
    }
   ],
   "source": [
    "# Фильтруем таблицу по условию\n",
    "summary_table = summary_table[summary_table['Общее количество раундов'] > 50]\n",
    "\n",
    "# Выводим сводную таблицу\n",
    "print(summary_table)"
   ]
  },
  {
   "cell_type": "code",
   "execution_count": 34,
   "metadata": {
    "id": "Z92DzKMMFdKW"
   },
   "outputs": [
    {
     "data": {
      "image/png": "[encoded data removed]",
      "text/plain": [
       "<Figure size 432x288 with 1 Axes>"
      ]
     },
     "metadata": {
      "needs_background": "light"
     },
     "output_type": "display_data"
    }
   ],
   "source": [
    "# Строим линейный график\n",
    "summary_table.plot(\n",
    "    kind='line',\n",
    "    y='Типичный размер средств',\n",
    "    title='Динамика типичного размера средств'\n",
    ")\n",
    "\n",
    "# Подписываем и отображаем график\n",
    "plt.xlabel('Год')\n",
    "plt.ylabel('Типичный размер средств')\n",
    "plt.show() "
   ]
  },
  {
   "cell_type": "markdown",
   "metadata": {},
   "source": [
    "На основе полученных данных резюмируем:\n",
    "\n",
    "- В 2000 размер собранных в рамках одного раунда средств был максимален.\n",
    "- Тенденция увелечения по количеству раундов и выделяемых в рамках каждого раунда средств наблюдалась в 2013 году "
   ]
  },
  {
   "cell_type": "markdown",
   "metadata": {
    "id": "45if1en1rJg2"
   },
   "source": [
    "\n",
    "### 2.2. Люди и их образование\n",
    "\n",
    "Нужно понять, зависит ли полнота сведений о сотрудниках (например, об их образовании) от размера компаний.\n",
    "\n",
    "- Оценить, насколько информация об образовании сотрудников полна. Используя датасеты `people.csv` и `education.csv`, нужно разделить все компании на несколько групп по количеству сотрудников и оценить среднюю долю сотрудников без информации об образовании в каждой из групп.\n",
    "- Оценить, возможно ли для выполнения задания присоединить к этим таблицам ещё и таблицу `degrees.csv`."
   ]
  },
  {
   "cell_type": "code",
   "execution_count": 77,
   "metadata": {
    "id": "psPO7C4MrJg2",
    "vscode": {
     "languageId": "plaintext"
    }
   },
   "outputs": [],
   "source": [
    "# Выполняем левое соединение по столбцу 'id'\n",
    "#people_education_df = pd.merge(people_df, education_df, on='id', how='left')\n",
    "\n",
    "# Выводим результат\n",
    "#print(people_education_df)\n",
    "\n",
    " \n"
   ]
  },
  {
   "cell_type": "code",
   "execution_count": 36,
   "metadata": {},
   "outputs": [
    {
     "name": "stdout",
     "output_type": "stream",
     "text": [
      "            id  first_name    last_name  company_id network_user_name  \\\n",
      "0           10        Mark   Zuckerberg         5.0               NaN   \n",
      "1          100       Peter       Lester        27.0               NaN   \n",
      "2         1000  Dr. Steven  E. Saunders       292.0               NaN   \n",
      "3        10000        Neil        Capel      2526.0               NaN   \n",
      "4       100000         Sue       Pilsch         NaN               NaN   \n",
      "...        ...         ...          ...         ...               ...   \n",
      "226704   99999       Ramon      Peypoch         NaN               NaN   \n",
      "226705  174088     Dr. Ray        Woods    188200.0           network   \n",
      "226706  118386     Ricardo       Durand    143419.0    itechsocialnet   \n",
      "226707  175827      mahesh        kumar         NaN     socialnethubs   \n",
      "226708  178190        Alex        Smith         NaN    esocialnetlike   \n",
      "\n",
      "        person_id                      instituition         graduated_at  \n",
      "0            10.0                Harvard University                  NaT  \n",
      "1             NaN                               NaN                  NaN  \n",
      "2             NaN                               NaN                  NaN  \n",
      "3             NaN                               NaN                  NaN  \n",
      "4             NaN                               NaN                  NaN  \n",
      "...           ...                               ...                  ...  \n",
      "226704        NaN                               NaN                  NaN  \n",
      "226705   174088.0  Sydney University Medical School  1982-01-01 00:00:00  \n",
      "226706   118386.0                              ESCS  2004-01-01 00:00:00  \n",
      "226707        NaN                               NaN                  NaN  \n",
      "226708        NaN                               NaN                  NaN  \n",
      "\n",
      "[226709 rows x 8 columns]\n"
     ]
    }
   ],
   "source": [
    "# Объединяем данные об образовании для одного сотрудника\n",
    "education_df_grouped = education_df.groupby('person_id').agg({\n",
    "    'instituition': lambda x: ', '.join(str(y) for y in x if isinstance(y, str)),  # Объединяем названия учебных заведений в строку, игнорируя нечисловые значения\n",
    "    'graduated_at': lambda x: ', '.join(map(str, x))  # Объединяем даты получения образования в строку\n",
    "}).reset_index()\n",
    "\n",
    "\n",
    "# Выполняем левое соединение по столбцу 'person_id'\n",
    "people_education_df = pd.merge(people_df, education_df_grouped, left_on='id', right_on='person_id', how='left')\n",
    "\n",
    "# Выводим результат\n",
    "print(people_education_df)\n",
    "\n",
    " "
   ]
  },
  {
   "cell_type": "code",
   "execution_count": 37,
   "metadata": {
    "id": "BThTjpLqFcsm"
   },
   "outputs": [
    {
     "name": "stdout",
     "output_type": "stream",
     "text": [
      "<class 'pandas.core.frame.DataFrame'>\n",
      "Int64Index: 226709 entries, 0 to 226708\n",
      "Data columns (total 8 columns):\n",
      " #   Column             Non-Null Count   Dtype  \n",
      "---  ------             --------------   -----  \n",
      " 0   id                 226709 non-null  int64  \n",
      " 1   first_name         226704 non-null  object \n",
      " 2   last_name          226708 non-null  object \n",
      " 3   company_id         34615 non-null   float64\n",
      " 4   network_user_name  38867 non-null   object \n",
      " 5   person_id          68071 non-null   float64\n",
      " 6   instituition       68071 non-null   object \n",
      " 7   graduated_at       68071 non-null   object \n",
      "dtypes: float64(2), int64(1), object(5)\n",
      "memory usage: 15.6+ MB\n"
     ]
    }
   ],
   "source": [
    "people_education_df.info()"
   ]
  },
  {
   "cell_type": "code",
   "execution_count": 38,
   "metadata": {
    "id": "4FC98Pd-FcmG"
   },
   "outputs": [],
   "source": [
    "# Группируем данные по company_id и считаем количество сотрудников в каждой компании\n",
    "grouped = people_education_df.groupby('company_id').size().reset_index(name='Количество сотрудников')\n",
    "\n",
    "# Считаем долю сотрудников без информации об образовании в каждой компании\n",
    "people_education_df['Отсутствие образования'] = people_education_df['instituition'].isna()\n",
    "no_education_ratio = people_education_df.groupby('company_id')['Отсутствие образования'].mean().reset_index(name='Доля сотрудников без образования')\n",
    "\n",
    "# Объединяем результаты\n",
    "result_df = grouped.merge(no_education_ratio, on='company_id')"
   ]
  },
  {
   "cell_type": "code",
   "execution_count": 39,
   "metadata": {},
   "outputs": [
    {
     "data": {
      "text/html": [
       "<div>\n",
       "<style scoped>\n",
       "    .dataframe tbody tr th:only-of-type {\n",
       "        vertical-align: middle;\n",
       "    }\n",
       "\n",
       "    .dataframe tbody tr th {\n",
       "        vertical-align: top;\n",
       "    }\n",
       "\n",
       "    .dataframe thead th {\n",
       "        text-align: right;\n",
       "    }\n",
       "</style>\n",
       "<table border=\"1\" class=\"dataframe\">\n",
       "  <thead>\n",
       "    <tr style=\"text-align: right;\">\n",
       "      <th></th>\n",
       "      <th>company_id</th>\n",
       "      <th>Количество сотрудников</th>\n",
       "      <th>Доля сотрудников без образования</th>\n",
       "      <th>Группа по количеству сотрудников</th>\n",
       "    </tr>\n",
       "  </thead>\n",
       "  <tbody>\n",
       "    <tr>\n",
       "      <th>0</th>\n",
       "      <td>1.0</td>\n",
       "      <td>2</td>\n",
       "      <td>0.500000</td>\n",
       "      <td>2</td>\n",
       "    </tr>\n",
       "    <tr>\n",
       "      <th>1</th>\n",
       "      <td>2.0</td>\n",
       "      <td>1</td>\n",
       "      <td>0.000000</td>\n",
       "      <td>1</td>\n",
       "    </tr>\n",
       "    <tr>\n",
       "      <th>2</th>\n",
       "      <td>3.0</td>\n",
       "      <td>3</td>\n",
       "      <td>0.333333</td>\n",
       "      <td>3</td>\n",
       "    </tr>\n",
       "    <tr>\n",
       "      <th>3</th>\n",
       "      <td>4.0</td>\n",
       "      <td>13</td>\n",
       "      <td>0.076923</td>\n",
       "      <td>11-25</td>\n",
       "    </tr>\n",
       "    <tr>\n",
       "      <th>4</th>\n",
       "      <td>5.0</td>\n",
       "      <td>61</td>\n",
       "      <td>0.262295</td>\n",
       "      <td>26+</td>\n",
       "    </tr>\n",
       "    <tr>\n",
       "      <th>5</th>\n",
       "      <td>8.0</td>\n",
       "      <td>3</td>\n",
       "      <td>1.000000</td>\n",
       "      <td>3</td>\n",
       "    </tr>\n",
       "    <tr>\n",
       "      <th>6</th>\n",
       "      <td>9.0</td>\n",
       "      <td>1</td>\n",
       "      <td>0.000000</td>\n",
       "      <td>1</td>\n",
       "    </tr>\n",
       "    <tr>\n",
       "      <th>7</th>\n",
       "      <td>10.0</td>\n",
       "      <td>2</td>\n",
       "      <td>0.500000</td>\n",
       "      <td>2</td>\n",
       "    </tr>\n",
       "    <tr>\n",
       "      <th>8</th>\n",
       "      <td>11.0</td>\n",
       "      <td>5</td>\n",
       "      <td>0.200000</td>\n",
       "      <td>4-5</td>\n",
       "    </tr>\n",
       "    <tr>\n",
       "      <th>9</th>\n",
       "      <td>12.0</td>\n",
       "      <td>51</td>\n",
       "      <td>0.490196</td>\n",
       "      <td>26+</td>\n",
       "    </tr>\n",
       "  </tbody>\n",
       "</table>\n",
       "</div>"
      ],
      "text/plain": [
       "   company_id  Количество сотрудников  Доля сотрудников без образования  \\\n",
       "0         1.0                       2                          0.500000   \n",
       "1         2.0                       1                          0.000000   \n",
       "2         3.0                       3                          0.333333   \n",
       "3         4.0                      13                          0.076923   \n",
       "4         5.0                      61                          0.262295   \n",
       "5         8.0                       3                          1.000000   \n",
       "6         9.0                       1                          0.000000   \n",
       "7        10.0                       2                          0.500000   \n",
       "8        11.0                       5                          0.200000   \n",
       "9        12.0                      51                          0.490196   \n",
       "\n",
       "  Группа по количеству сотрудников  \n",
       "0                                2  \n",
       "1                                1  \n",
       "2                                3  \n",
       "3                            11-25  \n",
       "4                              26+  \n",
       "5                                3  \n",
       "6                                1  \n",
       "7                                2  \n",
       "8                              4-5  \n",
       "9                              26+  "
      ]
     },
     "execution_count": 39,
     "metadata": {},
     "output_type": "execute_result"
    }
   ],
   "source": [
    "# Разделяем компании на группы по количеству сотрудников\n",
    "bins = [0, 1, 2, 3, 5, 10, 25, float('inf')]\n",
    "labels = ['1', '2', '3', '4-5', '6-10', '11-25', '26+']\n",
    "result_df['Группа по количеству сотрудников'] = pd.cut(result_df['Количество сотрудников'], bins=bins, labels=labels)\n",
    "\n",
    "\n",
    "# Выводим итоговую таблицу\n",
    "result_df.head(10)"
   ]
  },
  {
   "cell_type": "code",
   "execution_count": 40,
   "metadata": {},
   "outputs": [],
   "source": [
    "merged_data = people_df.merge(education_df, how='left', left_on='id', right_on='person_id')\n"
   ]
  },
  {
   "cell_type": "code",
   "execution_count": 41,
   "metadata": {},
   "outputs": [
    {
     "data": {
      "text/html": [
       "<div>\n",
       "<style scoped>\n",
       "    .dataframe tbody tr th:only-of-type {\n",
       "        vertical-align: middle;\n",
       "    }\n",
       "\n",
       "    .dataframe tbody tr th {\n",
       "        vertical-align: top;\n",
       "    }\n",
       "\n",
       "    .dataframe thead th {\n",
       "        text-align: right;\n",
       "    }\n",
       "</style>\n",
       "<table border=\"1\" class=\"dataframe\">\n",
       "  <thead>\n",
       "    <tr style=\"text-align: right;\">\n",
       "      <th></th>\n",
       "      <th>id_x</th>\n",
       "      <th>first_name</th>\n",
       "      <th>last_name</th>\n",
       "      <th>company_id</th>\n",
       "      <th>network_user_name</th>\n",
       "      <th>id_y</th>\n",
       "      <th>person_id</th>\n",
       "      <th>instituition</th>\n",
       "      <th>graduated_at</th>\n",
       "    </tr>\n",
       "  </thead>\n",
       "  <tbody>\n",
       "    <tr>\n",
       "      <th>0</th>\n",
       "      <td>10</td>\n",
       "      <td>Mark</td>\n",
       "      <td>Zuckerberg</td>\n",
       "      <td>5.0</td>\n",
       "      <td>NaN</td>\n",
       "      <td>2415.0</td>\n",
       "      <td>10.0</td>\n",
       "      <td>Harvard University</td>\n",
       "      <td>NaT</td>\n",
       "    </tr>\n",
       "    <tr>\n",
       "      <th>1</th>\n",
       "      <td>100</td>\n",
       "      <td>Peter</td>\n",
       "      <td>Lester</td>\n",
       "      <td>27.0</td>\n",
       "      <td>NaN</td>\n",
       "      <td>NaN</td>\n",
       "      <td>NaN</td>\n",
       "      <td>NaN</td>\n",
       "      <td>NaT</td>\n",
       "    </tr>\n",
       "    <tr>\n",
       "      <th>2</th>\n",
       "      <td>1000</td>\n",
       "      <td>Dr. Steven</td>\n",
       "      <td>E. Saunders</td>\n",
       "      <td>292.0</td>\n",
       "      <td>NaN</td>\n",
       "      <td>NaN</td>\n",
       "      <td>NaN</td>\n",
       "      <td>NaN</td>\n",
       "      <td>NaT</td>\n",
       "    </tr>\n",
       "    <tr>\n",
       "      <th>3</th>\n",
       "      <td>10000</td>\n",
       "      <td>Neil</td>\n",
       "      <td>Capel</td>\n",
       "      <td>2526.0</td>\n",
       "      <td>NaN</td>\n",
       "      <td>NaN</td>\n",
       "      <td>NaN</td>\n",
       "      <td>NaN</td>\n",
       "      <td>NaT</td>\n",
       "    </tr>\n",
       "    <tr>\n",
       "      <th>4</th>\n",
       "      <td>100000</td>\n",
       "      <td>Sue</td>\n",
       "      <td>Pilsch</td>\n",
       "      <td>NaN</td>\n",
       "      <td>NaN</td>\n",
       "      <td>NaN</td>\n",
       "      <td>NaN</td>\n",
       "      <td>NaN</td>\n",
       "      <td>NaT</td>\n",
       "    </tr>\n",
       "  </tbody>\n",
       "</table>\n",
       "</div>"
      ],
      "text/plain": [
       "     id_x  first_name    last_name  company_id network_user_name    id_y  \\\n",
       "0      10        Mark   Zuckerberg         5.0               NaN  2415.0   \n",
       "1     100       Peter       Lester        27.0               NaN     NaN   \n",
       "2    1000  Dr. Steven  E. Saunders       292.0               NaN     NaN   \n",
       "3   10000        Neil        Capel      2526.0               NaN     NaN   \n",
       "4  100000         Sue       Pilsch         NaN               NaN     NaN   \n",
       "\n",
       "   person_id        instituition graduated_at  \n",
       "0       10.0  Harvard University          NaT  \n",
       "1        NaN                 NaN          NaT  \n",
       "2        NaN                 NaN          NaT  \n",
       "3        NaN                 NaN          NaT  \n",
       "4        NaN                 NaN          NaT  "
      ]
     },
     "execution_count": 41,
     "metadata": {},
     "output_type": "execute_result"
    }
   ],
   "source": [
    "merged_data.head()"
   ]
  },
  {
   "cell_type": "code",
   "execution_count": 42,
   "metadata": {},
   "outputs": [
    {
     "name": "stdout",
     "output_type": "stream",
     "text": [
      "group\n",
      "1-10     0.460619\n",
      "11-50    0.297970\n",
      "51+      0.183592\n",
      "Name: no_education_share, dtype: float64\n"
     ]
    }
   ],
   "source": [
    "# Подсчёт количества сотрудников в каждой компании\n",
    "company_counts = merged_data.groupby('company_id').size().reset_index(name='employee_count')\n",
    "\n",
    "# Определение групп по количеству сотрудников\n",
    "bins = [0, 10, 50, float('inf')]\n",
    "labels = ['1-10', '11-50', '51+']\n",
    "company_groups = pd.cut(company_counts['employee_count'], bins=bins, labels=labels)\n",
    "company_counts['group'] = company_groups\n",
    "\n",
    "# Оценка доли сотрудников без информации об образовании\n",
    "merged_data['has_education'] = ~merged_data['instituition'].isna()\n",
    "no_education_count = merged_data.groupby(['company_id'])['has_education'].apply(lambda x: (~x).mean()).reset_index(name='no_education_share')\n",
    "\n",
    "result = company_counts.merge(no_education_count, on='company_id')\n",
    "result = result.groupby('group')['no_education_share'].mean()\n",
    "\n",
    "print(result)"
   ]
  },
  {
   "cell_type": "code",
   "execution_count": 43,
   "metadata": {},
   "outputs": [
    {
     "name": "stdout",
     "output_type": "stream",
     "text": [
      "            id  first_name    last_name  company_id network_user_name  \\\n",
      "0           10        Mark   Zuckerberg         5.0               NaN   \n",
      "1          100       Peter       Lester        27.0               NaN   \n",
      "2         1000  Dr. Steven  E. Saunders       292.0               NaN   \n",
      "3        10000        Neil        Capel      2526.0               NaN   \n",
      "4       100000         Sue       Pilsch         NaN               NaN   \n",
      "...        ...         ...          ...         ...               ...   \n",
      "226704   99999       Ramon      Peypoch         NaN               NaN   \n",
      "226705  174088     Dr. Ray        Woods    188200.0           network   \n",
      "226706  118386     Ricardo       Durand    143419.0    itechsocialnet   \n",
      "226707  175827      mahesh        kumar         NaN     socialnethubs   \n",
      "226708  178190        Alex        Smith         NaN    esocialnetlike   \n",
      "\n",
      "        person_id                      instituition         graduated_at  \\\n",
      "0            10.0                Harvard University                  NaT   \n",
      "1             NaN                               NaN                  NaN   \n",
      "2             NaN                               NaN                  NaN   \n",
      "3             NaN                               NaN                  NaN   \n",
      "4             NaN                               NaN                  NaN   \n",
      "...           ...                               ...                  ...   \n",
      "226704        NaN                               NaN                  NaN   \n",
      "226705   174088.0  Sydney University Medical School  1982-01-01 00:00:00   \n",
      "226706   118386.0                              ESCS  2004-01-01 00:00:00   \n",
      "226707        NaN                               NaN                  NaN   \n",
      "226708        NaN                               NaN                  NaN   \n",
      "\n",
      "        Отсутствие образования object_id degree_type                 subject  \n",
      "0                        False    p:6265          BS               Economics  \n",
      "1                         True     p:938          BS        Computer Science  \n",
      "2                         True   p:13098         MBA                     NaN  \n",
      "3                         True   p:74038          MS     Applied Mathematics  \n",
      "4                         True   p:89666          MS        Computer Science  \n",
      "...                        ...       ...         ...                     ...  \n",
      "226704                    True  p:257599          BS  Electrical Engineering  \n",
      "226705                   False       NaN         NaN                     NaN  \n",
      "226706                   False       NaN         NaN                     NaN  \n",
      "226707                    True       NaN         NaN                     NaN  \n",
      "226708                    True       NaN         NaN                     NaN  \n",
      "\n",
      "[226709 rows x 12 columns]\n"
     ]
    },
    {
     "data": {
      "text/html": [
       "<div>\n",
       "<style scoped>\n",
       "    .dataframe tbody tr th:only-of-type {\n",
       "        vertical-align: middle;\n",
       "    }\n",
       "\n",
       "    .dataframe tbody tr th {\n",
       "        vertical-align: top;\n",
       "    }\n",
       "\n",
       "    .dataframe thead th {\n",
       "        text-align: right;\n",
       "    }\n",
       "</style>\n",
       "<table border=\"1\" class=\"dataframe\">\n",
       "  <thead>\n",
       "    <tr style=\"text-align: right;\">\n",
       "      <th></th>\n",
       "      <th>id</th>\n",
       "      <th>first_name</th>\n",
       "      <th>last_name</th>\n",
       "      <th>company_id</th>\n",
       "      <th>network_user_name</th>\n",
       "      <th>person_id</th>\n",
       "      <th>instituition</th>\n",
       "      <th>graduated_at</th>\n",
       "      <th>Отсутствие образования</th>\n",
       "      <th>object_id</th>\n",
       "      <th>degree_type</th>\n",
       "      <th>subject</th>\n",
       "    </tr>\n",
       "  </thead>\n",
       "  <tbody>\n",
       "    <tr>\n",
       "      <th>0</th>\n",
       "      <td>10</td>\n",
       "      <td>Mark</td>\n",
       "      <td>Zuckerberg</td>\n",
       "      <td>5.0</td>\n",
       "      <td>NaN</td>\n",
       "      <td>10.0</td>\n",
       "      <td>Harvard University</td>\n",
       "      <td>NaT</td>\n",
       "      <td>False</td>\n",
       "      <td>p:6265</td>\n",
       "      <td>BS</td>\n",
       "      <td>Economics</td>\n",
       "    </tr>\n",
       "    <tr>\n",
       "      <th>1</th>\n",
       "      <td>100</td>\n",
       "      <td>Peter</td>\n",
       "      <td>Lester</td>\n",
       "      <td>27.0</td>\n",
       "      <td>NaN</td>\n",
       "      <td>NaN</td>\n",
       "      <td>NaN</td>\n",
       "      <td>NaN</td>\n",
       "      <td>True</td>\n",
       "      <td>p:938</td>\n",
       "      <td>BS</td>\n",
       "      <td>Computer Science</td>\n",
       "    </tr>\n",
       "    <tr>\n",
       "      <th>2</th>\n",
       "      <td>1000</td>\n",
       "      <td>Dr. Steven</td>\n",
       "      <td>E. Saunders</td>\n",
       "      <td>292.0</td>\n",
       "      <td>NaN</td>\n",
       "      <td>NaN</td>\n",
       "      <td>NaN</td>\n",
       "      <td>NaN</td>\n",
       "      <td>True</td>\n",
       "      <td>p:13098</td>\n",
       "      <td>MBA</td>\n",
       "      <td>NaN</td>\n",
       "    </tr>\n",
       "    <tr>\n",
       "      <th>3</th>\n",
       "      <td>10000</td>\n",
       "      <td>Neil</td>\n",
       "      <td>Capel</td>\n",
       "      <td>2526.0</td>\n",
       "      <td>NaN</td>\n",
       "      <td>NaN</td>\n",
       "      <td>NaN</td>\n",
       "      <td>NaN</td>\n",
       "      <td>True</td>\n",
       "      <td>p:74038</td>\n",
       "      <td>MS</td>\n",
       "      <td>Applied Mathematics</td>\n",
       "    </tr>\n",
       "    <tr>\n",
       "      <th>4</th>\n",
       "      <td>100000</td>\n",
       "      <td>Sue</td>\n",
       "      <td>Pilsch</td>\n",
       "      <td>NaN</td>\n",
       "      <td>NaN</td>\n",
       "      <td>NaN</td>\n",
       "      <td>NaN</td>\n",
       "      <td>NaN</td>\n",
       "      <td>True</td>\n",
       "      <td>p:89666</td>\n",
       "      <td>MS</td>\n",
       "      <td>Computer Science</td>\n",
       "    </tr>\n",
       "    <tr>\n",
       "      <th>5</th>\n",
       "      <td>100002</td>\n",
       "      <td>Keith</td>\n",
       "      <td>Kurzendoerfer</td>\n",
       "      <td>NaN</td>\n",
       "      <td>NaN</td>\n",
       "      <td>NaN</td>\n",
       "      <td>NaN</td>\n",
       "      <td>NaN</td>\n",
       "      <td>True</td>\n",
       "      <td>p:257614</td>\n",
       "      <td>BS</td>\n",
       "      <td>Mechanical Engineering</td>\n",
       "    </tr>\n",
       "    <tr>\n",
       "      <th>6</th>\n",
       "      <td>100006</td>\n",
       "      <td>Courtney</td>\n",
       "      <td>Homer</td>\n",
       "      <td>81558.0</td>\n",
       "      <td>jobsbostontech</td>\n",
       "      <td>100006.0</td>\n",
       "      <td>MIT Sloan School of Management</td>\n",
       "      <td>2004-01-01 00:00:00</td>\n",
       "      <td>False</td>\n",
       "      <td>p:257617</td>\n",
       "      <td>BA</td>\n",
       "      <td>Political Science</td>\n",
       "    </tr>\n",
       "    <tr>\n",
       "      <th>7</th>\n",
       "      <td>100009</td>\n",
       "      <td>Eddy</td>\n",
       "      <td>Badrina</td>\n",
       "      <td>NaN</td>\n",
       "      <td>NaN</td>\n",
       "      <td>NaN</td>\n",
       "      <td>NaN</td>\n",
       "      <td>NaN</td>\n",
       "      <td>True</td>\n",
       "      <td>p:257619</td>\n",
       "      <td>MS</td>\n",
       "      <td>Economics</td>\n",
       "    </tr>\n",
       "    <tr>\n",
       "      <th>8</th>\n",
       "      <td>100010</td>\n",
       "      <td>Michael</td>\n",
       "      <td>Dadashyan</td>\n",
       "      <td>NaN</td>\n",
       "      <td>fbroulette</td>\n",
       "      <td>NaN</td>\n",
       "      <td>NaN</td>\n",
       "      <td>NaN</td>\n",
       "      <td>True</td>\n",
       "      <td>p:257626</td>\n",
       "      <td>NaN</td>\n",
       "      <td>Urban Studies</td>\n",
       "    </tr>\n",
       "    <tr>\n",
       "      <th>9</th>\n",
       "      <td>100011</td>\n",
       "      <td>Jeff</td>\n",
       "      <td>Grell</td>\n",
       "      <td>NaN</td>\n",
       "      <td>NaN</td>\n",
       "      <td>NaN</td>\n",
       "      <td>NaN</td>\n",
       "      <td>NaN</td>\n",
       "      <td>True</td>\n",
       "      <td>p:257626</td>\n",
       "      <td>NaN</td>\n",
       "      <td>Urban Planning</td>\n",
       "    </tr>\n",
       "  </tbody>\n",
       "</table>\n",
       "</div>"
      ],
      "text/plain": [
       "       id  first_name      last_name  company_id network_user_name  person_id  \\\n",
       "0      10        Mark     Zuckerberg         5.0               NaN       10.0   \n",
       "1     100       Peter         Lester        27.0               NaN        NaN   \n",
       "2    1000  Dr. Steven    E. Saunders       292.0               NaN        NaN   \n",
       "3   10000        Neil          Capel      2526.0               NaN        NaN   \n",
       "4  100000         Sue         Pilsch         NaN               NaN        NaN   \n",
       "5  100002       Keith  Kurzendoerfer         NaN               NaN        NaN   \n",
       "6  100006    Courtney          Homer     81558.0    jobsbostontech   100006.0   \n",
       "7  100009        Eddy        Badrina         NaN               NaN        NaN   \n",
       "8  100010     Michael      Dadashyan         NaN        fbroulette        NaN   \n",
       "9  100011        Jeff          Grell         NaN               NaN        NaN   \n",
       "\n",
       "                     instituition         graduated_at  \\\n",
       "0              Harvard University                  NaT   \n",
       "1                             NaN                  NaN   \n",
       "2                             NaN                  NaN   \n",
       "3                             NaN                  NaN   \n",
       "4                             NaN                  NaN   \n",
       "5                             NaN                  NaN   \n",
       "6  MIT Sloan School of Management  2004-01-01 00:00:00   \n",
       "7                             NaN                  NaN   \n",
       "8                             NaN                  NaN   \n",
       "9                             NaN                  NaN   \n",
       "\n",
       "   Отсутствие образования object_id degree_type                 subject  \n",
       "0                   False    p:6265          BS               Economics  \n",
       "1                    True     p:938          BS        Computer Science  \n",
       "2                    True   p:13098         MBA                     NaN  \n",
       "3                    True   p:74038          MS     Applied Mathematics  \n",
       "4                    True   p:89666          MS        Computer Science  \n",
       "5                    True  p:257614          BS  Mechanical Engineering  \n",
       "6                   False  p:257617          BA       Political Science  \n",
       "7                    True  p:257619          MS               Economics  \n",
       "8                    True  p:257626         NaN           Urban Studies  \n",
       "9                    True  p:257626         NaN          Urban Planning  "
      ]
     },
     "execution_count": 43,
     "metadata": {},
     "output_type": "execute_result"
    }
   ],
   "source": [
    "# Выполняем левое соединение по столбцу 'id'\n",
    "people_education_2_df = pd.merge(people_education_df, degrees_df, on='id', how='left')\n",
    "\n",
    "# Выводим результат\n",
    "print(people_education_2_df)\n",
    "\n",
    "people_education_2_df.head(10)"
   ]
  },
  {
   "cell_type": "markdown",
   "metadata": {},
   "source": [
    "Информация о сторудниках в целом оптимальная, но ее можно и увеличить.\n",
    "Да, присоединение таблицы degrees.csv к  текущим таблицам возможно и может быть полезным для более детального анализа образования сотрудников. Оценка доли сотрудников без информации об образовании показала:группа 1-10 -   0.460619,\n",
    "группа 11-50  -  0.297970,\n",
    "группа 51+     -  0.183592."
   ]
  },
  {
   "cell_type": "markdown",
   "metadata": {
    "id": "Lz7qjM32xglW"
   },
   "source": [
    "### 2.3. Объединять или не объединять — вот в чём вопрос\n",
    "\n",
    "Некоторые названия столбцов встречаются в датасетах чаще других. В результате предварительной проверки датасетов было выяснено, что столбец `company_id` подходит для объединения данных.\n",
    "\n",
    "- Установить, подходит ли для объединения данных столбец `network_username`, который встречается в нескольких датасетах. Нам необходимо понимать, дублируется ли для разных датасетов информация в столбцах с таким названием, и если да — то насколько часто.\n",
    "- Оценить, можно ли использовать столбцы с именем `network_username` для объединения данных."
   ]
  },
  {
   "cell_type": "code",
   "execution_count": 44,
   "metadata": {
    "id": "zyI3rt0rxg1O"
   },
   "outputs": [
    {
     "name": "stdout",
     "output_type": "stream",
     "text": [
      "Количество дубликатов в people: 188287\n",
      "Количество дубликатов в company_and_rounds: 138202\n"
     ]
    }
   ],
   "source": [
    "# Проверяем наличие дубликатов в столбце network_username в каждом датасете\n",
    "duplicates_in_people = people_df['network_user_name'].duplicated().sum()\n",
    "duplicates_in_company_and_rounds = company_and_rounds_df['network_user_name'].duplicated().sum()\n",
    "\n",
    "print(f\"Количество дубликатов в people: {duplicates_in_people}\")\n",
    "print(f\"Количество дубликатов в company_and_rounds: {duplicates_in_company_and_rounds}\")\n",
    "\n",
    "\n"
   ]
  },
  {
   "cell_type": "code",
   "execution_count": 45,
   "metadata": {
    "id": "RxOS5rwmFcNW"
   },
   "outputs": [
    {
     "name": "stdout",
     "output_type": "stream",
     "text": [
      "Общие значения network_username: {nan, 'agiletechnosys', 'saulosouto', 'treelifedesigns', 'leomancini', 'bouf', 'tribbldotcom', 'DaleyneGuay', 'mymzoneltd', 'alldealsoz', 'earbits', 'Safeguard', 'helponclick', 'randyhamilton', 'sunforged', 'AYININC', 'qliqsoft', 'homingcloud', 'litemediadesk', 'ali_presseract', 'unbridled_brain', 'epactnetwork', 'isai_fr', 'CreaBiomart', 'encoreseo', 'gutensite', 'criptero', '9lessons', 'toutsocial', 'specialkids', 'filmbudget', 'adsmoke1', 'endorphin_me', 'esioox', 'prisynccom', 'toddjpatrick', 'Lorenburnett', 'vasusrini', 'yokohamacanada', 'vdimauro', 'smartonlinepros', 'salon_zahra', 'njseos', 'davegovan', 'ssg_inc', 'switchcommerce', 'kortingshop', 'happytodos', 'dusten', 'vieditcom', 'cloudacl', 'RowNine', 'elastiv', 'Glydewrite', 'MyShoppingSpy', 'nddwseo', 'rbcarlisle', 'fundojob', 'Ideashower', 'Dibollandassoc', 'tampawebdesign', 'dreamingtech', 'harihansolution', 'Frozenbluemuss', 'RapidBoost', 'visio2france', 'leesfer', 'stage32online', 'visualsteam', 'ihelplounge', 'CHUMNETWORK', 'mybestbuds', 'MikeFish111', 'keepio', 'UnimastersCom', 'rightster', 'treinke3d', 'PatLefler', 'gridspy', 'obiesoftware', 'noisefreaks', 'nattyshirtsusa', 'b2b_for_solar', 'bittenbydesign', 'cybronics', 'maventricks', 'fearlesscomp', 'followdicon', 'snoopff', 'SprinkleBit', 'edsdru', 'pdcmins', 'gs4media', 'inforamadocs', 'InternshipXing', 'skorpyoclub', 'fameusUSA', 'RoadtoValue', 'teamitt', 'waltershimoon', 'globolstaff', 'LM2xEntertain', 'BusyEvent', 'askaticket', 'comnicate', 'itsdeshazer', 'barilliance', 'fuelgrowth', 'bloonatic', 'HometownInsPart', 'syrinxza', 'NitinPradhanCIO', 'onetest_hr', 'Lypsso', 'bunker_studios', 'sleep', '077football', 'Pay4ResultsSEO', 'mikeciccolella', 'techahead', 'gliffy', 'givenext', 'firstscribe', 'taniablackalln', 'LordBendell', 'leximo', 'ethicalbrand', 'coryisaacson', 'massmediagroup', 'integratire', 'IRBarker', 'contentdjapp', 'ivanet', 'b3intelligence', 'Rentlord', 'lasiksandiegod', 'Biz_BT_Intl', 'level11consult', 'hsafe', 'yellowlinkgo', 'jeremi', 'leadprime', 'WhiteboardBYOB', 'yourdailytask', 'gmailxiaojie', 'thewebtaylor', 'RedTricycleMom', 'ipyxel', 'datingbullet', 'Beth_Kindig', 'headhuntable', 'stroumboulis', 'daringsharpe', 'knowlsters', 'mayonstudios', 'Aquavation', 'Kaliusz', 'CogCubed', 'thezentity', 'AparoAnalaytics', 'feelgoodwatches', 'shootsharewin', 'margaretthomas', 'imenucards', 'bigroadinc', 'erwood', 'vocso', 'nepdud', '6kare', 'SageDesignGroup', 'HopesCreek', 'mikemoradi', 'leftysstable', 'SubhakarRao', '41stParameter', 'RTime', 'ByncHQ', 'youbooksapp', 'fastmediamag', 'imensosoftware0', 'inventorlabs', 'haephrati', 'tsheets', 'FLUXpwr', 'forexpromos', 'buuteeq', 'CrowdfundGuy', 'startupers', 'jordansatok', 'webopenings', 'xTuple', 'richardalois', 'smule', 'becoacht', 'lsp_prabhu', 'Manifest_Mind', 'neighby', 'seocorporation', 'johnasmcdonald', 'ELIAZARUS', 'mishaley', 'vzibl', 'JaredMontz', 'intergi', 'Omnifone', 'India_SEO', 'playbackrewards', 'Silent_Order', 'thedealleague', 'TalkGuyStuff', 'Dial800', 'crowdin', 'CStockEarnings', 'localbizreg', 'mctip_it', 'ablegrape', 'IT_Support_HQ', 'digiconsultant', 'hackingtag', 'DanielEndy', 'mrs2be', 'poker', 'manugill1995', 'whatfolio', 'geniot', 'dendesigners', 'Euronixa', 'LilitabKiosk', 'timkinsella1', 'andyrbaker', 'launchbit', 'TurnerDetroit', 'nextcaller', 'stuckonhomework', 'bespokeapp', 'biart', 'csworks', 'touchofmodern', '100mbpsfiber', 'timesofnet', 'aptitudestaff', 'Abcteach', 'halfpennyonline', 'rxprint', 'stakeforce', 'FuelCellsEtc', 'RILawyer', 'tecmoz', 'mycareeri', 'pmwagner', 'raze_the_world', 'justeyewear', 'QueenieDress', 'Invincea', 'gneuman', 'filmzu', 'zingzingtv', 'johnlmaldonado', 'excelmanish', 'greenprophet', 'drupalconnect', 'freeeduaid', 'umebooks', 'fuzemeeting', 'HospitalityXing', 'broadsidemedia', 'mattressinchina', 'innoengines', 'illumemag', 'JLWatine', 'yappsa_store', 'aidasinc', 'bigbluehat', 'editEon', 'webdesign_seo', 'ceodatemyfamily', 'oddsfutures', 'strubleorthodon', 'visioneraab', 'Skirmantas2', 'uruut', 'gavinnewsom4gov', 'InsAccuRate', 'fbroulette', 'Mytravelo', 'explodeseo', 'sietepuentes', 'textwithdextr', 'dellonutrition', 'GardeningFun', 'dbeyer123', 'Sooligan', 'ConnectAndSell', '36kr', 'andacergun', 'probabilityplc', 'OatesPartners', 'ItFits_Me', 'real_tony', 'tennisguru', 'scootpad', 'climbingtrees10', 'Numerounoweb', 'getclockshark', 'Hi_Tech_ITO', 'reichersack', 'bizible', 'cargoh', 'AbsoluteVariety', 'zarpzdotcom', 'Ableton', 'pitchboxapp', 'tugo_co_uk', 'theheuristics', 'mobgold', 'encirca', 'diaetme', 'PikAVenture', 'contentcircles', 'it_jobs_rafikee', 'Apt_Ninjas', 'virams2010', 'mortfertel', 'teamlabdotcom', 'webqueb1', 'chandavid', 'milkshakefactor', 'unanettech', 'academicworks', 'umma_united', 'sextant', 'joblifeza', 'rhytha', 'DynamicFleet', 'wilschroter', 'MELT_MEDIA', 'danielkuperman', 'janzzcom', 'lacantinaprod', 'mitmold', 'judyshapiro', '3Seventy', 'cheapohnetwork', 'GuerillaW', 'videoexplainers', 'doseofstyle_com', 'startupi', 'pennjillette', 'visionhelpdesk', 'nishantsoni123', 'ekidna1968', 'MonthlyMobiles', 'peoplesinnovasn', 'ntractive', 'osscube', 'JustFabOnline', 'bewod', 'devicebee', 'LifeCoachSpot', 'mindahome', 'simplyglobo', 'MounzaInc', 'Togetherville', 'accountantworld', 'cartrescuer', 'clippingpath_WH', 'ClearCopywrite', 'CryoCell', 'NewsletterEx', 'pdesignlab', 'wordsteps_en', 'mygeni', 'onsecrethunt', 'neddesmond', 'amanda_hill', 'avaimobile', 'nickbeske', 'kantrovitzlaw', 'CTOsOnTheMove', 'gr', 'gettsharing', 'capmcllc', 'albertonaranjo', 'richardjwatters', 'opinno', 'templates_sale', 'enswitch', 'cityglance', 'texstarenergytx', 'bulkemailverify', 'PartnerOption', 'bodykitsdepot', 'FourSalesLtd', 'BuildingOps', 'nirjhar', 'sanjnachoudhary', 'Hadafsoft', 'GMITechnologies', 'jordanenglish', 'socialsamba', 'Students3k', 'AltaVistaAero', 'listaustralia', 'moofe', 'cuttle', 'detailreno', 'theFeastBox', 'TheCityStreet', 'careticker', 'galeforcelogic', 'keychainsocial', 'lifeknot', 'reonmobile', 'RCSEposSystems', 'mastertipper007', 'uencounterme', 'Rekaudo', 'atebits', 'anteksiler', 'CourierQuotes', 'freeconference', 'infinetics', 'mtrdesign', 'kenyob', 'travelstreetuk', 'theyoungturks', 'coolilabs', 'SergeGuillermeP', 'atlantists', 'clickssl', 'meltdsp', 'MeliModa', 'soniakhan33', 'DHTransplant', 'Weplann', 'beamstream', 'CloudCEO', 'T_Dispatch', 'chadprey', 'ambientwit', 'qarcodes', 'NeevAdmarketing', 'actualprint', 'seamskarmic', 'AdviceWallet', 'BizVizWiz', 'worldwidesupply', 'timkoelzer', 'twalaba', 'LoveMondaysBr', 'workplacestars', 'buildnative', 'kinderloop', 'thedocsafe', 'SimuSync', 'picshareapp', 'streamuk', 'TEHC_India', 'SkillWizard', 'champagneme', 'ViralNetworkVN', 'armandmusey', 'vanellagroup', 'yourgreenpal', 'absolutmind_eu', 'bintangolym', 'yeatoby', 'hirephpcom', 'digitalexperts', 'funandmobile', 'SeriousGamesInt', 'ITPVoIP', 'manahilestate', 'globalchamber', 'firmaffiliate', 'Agile_IT', 'MetacafeToday', 'vebnest', '22daysnutrition', 'allofcraigslist', 'beglobal', 'perfectfor2', 'tarynsullivan', 'Mirolta', 'Muzieo', 'galinahelpme', 'uniwebb', 'haltngo', 'JM_Search', 'DaxueConsulting', 'KumoConsulting', 'latracker', 'printwhatuwant', 'Reputation911', 'daviker', 'BosleyMedical', 'MSPassport', 'contentkingsmg', 'TiinkkApp', 'tnabielec', 'andrewdudum', 'krimfuk22', 'akmgalerts', 'ellissiau', 'teejclark', 'sgrove', 'milecoreA', 'tikshitravels', 'thesocialnumber', 'rfilippini', 'creditfix67', 'koreanfashioned', 'ImpactSocialMe1', 'futuresearches', 'mocospace', 'karenshackelfo', 'qoiza', 'duckmoose', 'MisterArcher', 'SE_IP', 'marcducas', 'emobisoft', 'shivamconnect', 'brightfireview', 'crosscliq', 'wsrs', 'gerardcorbett', 'jinglepunks', 'RobertWarnerCGN', 'give2gether', 'lendinero', 'romanz', 'Sociallybuzz', 'exceedion', 'janneaaltonen', 'plus__now', 'triviumsys', 'noodleshare', 'Eddie_Godshalk', 'DigitalDiameter', 'oktogoru', 'originatelabs', 'vistexinc', 'giganttweets', 'socialagency1', 'PingarHQ', 'robriggsiii', 'iPhoneAppsDevp', 'vikrantkjain', 'fitnessrepublic', 'wiki_pr', 'appdupe', 'universumtech', 'printezprint', 'moranconsulting', 'tifflyindia', 'HiTechLPO', 'mepdesign', 'mlangschied', 'dotcominfoway', 'burnstek', 'CallCenterXing', 'pin2ping', 'stovefirep', 'sonacall', 'displayads', 'distinctt', 'wearefoalio', 'niyati', 'ErikAndersonPDS', 'RailsTeam', 'jasonkintzler', 'shiftswapme', 'Flow_Studio', 'Chapmanleonard', 'mariodc', 'XCOR', 'AccountingXing', 'TraveDoc', 'BlogsConnection', 'plotterapp', 'zisboombah', '3dsmaxmodeling', 'gDiscountCoupon', 'bosstechnology', 'manageyourtime', 'wiMANme', 'yumedeals3', 'forfone', 'mattjustice', 'urbansleepstore', 'dtexshop', 'ipanematech', 'mumbaigadget', 'ForceITLLC', 'nicocary', 'anzatechnet', 'crazybob', 'staffsquared', 'NORCO2011', 'younitary', 'systemfarmer_hu', 'shieldfunding', 'blinkymonster', 'Layerfield', 'GlamourMod', 'localseoireland', 'chinese', 'audaxhealth', 'Andolasoft', 'emavensolutions', 'whichhotel4me', 'DigitalDialogu1', 'echavando', 'gueime_', 'adambard', 'taggito', 'hhcoak', 'metaconomy', 'davecraige', 'KallystoMedias', 'imusicFX', 'thecandeoagency', 'mktxr', 'LIFEmee', 'Featureworld', 'arpitshah', 'artemis_seo', 'irocke', 'mediatuner', 'zoomcreator', 'somethingnewnow', 'LarryGreenberg', 'ziipa', 'mykuyam', 'delentis', 'itmonteur', 'qmedichealth', 'entrepreneurSF', 'wchangneon', '4evervogue', 'mobilityvalley', 'elettro', 'TheFootballApp', 'razhair', 'the_MADteam', 'TorkMarketing', 'dressmyphone', 'jungroup', 'blackwood_vc', 'andykuiper', 'localisation', 'CDentistryNYC', 'itchimes', 'ohicloud', 'Yomdel', 'coupons2grab', 'clippingdesign', 'cloudfunded', 'TactileDesign', 'tespiliakis', 'hominggame', 'marketing30', 'Derm_Link', 'adMarketplace', 'design_at_NOON', 'spellspace', 'HackBoing', 'spokiyo', 'akmanda', 'byennen', 'AdvertisingXing', 'seo_doctor', 'rcginfosoft', 'mazecard', 'iHerb_Coupon_Co', 'GoldFireStudios', 'theskimm', 'leegunn', 'KasevaCo', 'JesseEps', 'Shillster', 'aviewfrommyseat', 'JRandomF', 'shannon_mullen', 'flytivity', 'whingeing_pom', 'BullockandLees', 'gameutilitiesap', 'gatim', '4collegeparents', 'hamaraguru', 'noisetrend', 'BSPjohn', 'RollOffDD', 'QuintinAdamis', 'gtopala', 'angelramirezGTD', 'IronMikePromo', 'mcichon', 'jumpropers', 'dygestnews', 'brit', 'Nuclear_Coffee', 'graph_me', 'realolaf', 'AblynxABLX', 'socialanimalusa', 'danilodelfino', 'allanoziel', 'socialyteco', 'collegejackets', 'CamelotCastleHo', 'gateskip', 'talentfromindia', 'greenpanelmax', 'mediaoptions', 'gotrexx', 'JanKosutnik', 'LeeandPierson', 'Ace__Ventures', 'PlanetXCafe', 'Galavantier', 'freshtilledsoil', 'virante', 'maxOz', 'webmuch', 'designingstudio', 'Ferald', 'submitshop', 'icdsarch', 'smithsonmartin', 'ipropertyreview', 'Grindr', 'HDScores', 'calibereq', 'brainpulse', 'EOCloud', 'cjharmon', 'jeffstieler', 'Crowdfunding_PR', 'vowch', 'DemeterPower', 'socialbicycles', 'orangecollar', 'DocMate', 'ucentric_org', 'clippingpaths7', 'Magnoliabroad', 'dogalorganikbal', 'PioneeraInc', 'ashishpatel_com', 'Argura', 'priceofmobiles', 'pud', 'teamratio', 'Thetaris_GmbH', 'samirkarande', 'dupageattorneys', 'edictive', 'treptalks', 'tuitionworldwid', 'aravindajith', 'FITRadio', 'SquaredOut', 'd2eu', 'sacdesignet', 'chiefmaverick', 'MedVacation', '1stpageseouk', 'limos4sale', 'RauhmelFoxCEO', 'travelautoinc', 'gsound_app', 'cbarrabes', 'mentorsguild', 'cdnsolutions', 'tmmdata', 'TheSEOProUK', 'bookd', 'ATeam4ADream', 'fuelmileagenow', 'infinityintel', 'Brandroot', 'textloansinfo', 'randolf', 'play2lead', 'NoCrm', 'extendedresults', 'Moonit', 'teamMBH', 'danaharris', 'ACTIVENOW1', 'gbolso', 'mindmatrix', 'officevp', 'FastSpring', 'SunnySaves', 'gmrweb123', 'automotiveseo', 'bob_benedict', 'ecapsnet', 'smash_haus', 'Aikapa_Advisor', 'proprly', 'clientwhys', 'teliapp', 'kepion', 'wealthsprout', 'tektrak', 'list2tech', 'IndusaITSol', 'AntonRock', 'investocontra', 'mashable', 'westingourmet', 'LearnOnEnglish', 'grumomedia', 'mtoag', 'ZoundsHearing1', 'jeffchristian_', 'rockrevelations', 'buzztouchApp', 'Asklas2k', 'usbpromos', 'appfolio', 'tomposerjll', 'nathancarnes', 'cataniaroma', 'delicatezzaUK', 'Logodivine', 'gregmasley', 'jocke', 'egeorgiou', 'sjledet', 'ergo_evolution', 'margaretwallace', 'whydomba', 'natepagel', 'yachtico', 'Elixserve', 'Bizpora', 'morcesinc', 'GuiasLocal', 'jaxcore', 'chaosmap', 'seniorcarehomes', 'tapmap', 'tagionet', 'UBERFAN', 'BizDevAngel', 'Thymometrics', 'three60market', 'vaayaaeducation', 'sidebuydeals', 't_crawford', 'matthagger', 'hoonio', 'veterancentral', 'clouds_media', 'ciscobuy', 'cadcrowd', 'lynxworkflow', 'onlinesdl', 'CrowdFundSites', 'UPFRONTMEDIA', 'ecoemplois', 'itksys', 'StrategicComm', 'yourukky', 'spsoftglobal', 'nxfxcom', 'thrillophilia', 'urnetwork', 'finger_food', 'BridgesAdv', 'mikehubdotnet', 'jomieleung', 'jasoncitron', 'pixelgenio', 'PlayToonGames', 'toby39', 'jetmind', 'bdescary', 'allegiantplans', 'webton', 'Snac', 'hmiah1', 'olinker', 'newsbox', 'sjn_de', 'srestimarketing', 'rprosen', 'zaahah', 'creativemomentu', 'sensorsixhq', 'roadforhealth', 'doizza', 'BWiseGRC', 'onfx', 'TEMAeurope', 'StanfordMagnet', 'rhobi1', 'DesignsByMalyse', 'Ooblur1', 'EichholzLawFirm', 'TelecomXing', 'dnatimes', 'vinko', 'pinaddon', 'silverbackmktg', 'thrivewebboise', 'vantagelocal', 'TranquilDental1', 'michellem', 'evvnt', 'swarmiq_tweets', 'neelsus', 'tomhoganlaw', 'lenstrade', 'adam0shaw', 'firstconversion', 'apdtradedotcom', 'intelen', 'EGAFutura', 'gbraad', 'deansaluti', 'tomvell', 'rno', 'Tap_Track', 'stepru', 'chineseseoshifu', 'exoprise', 'daveevans', 'canecom', 'MastersonDS', 'P2Pspot', 'parkmiyoung', 'PresswirePR', 'hungrylocal', 'TonyaHallRadio', 'hadicurtay', 'orcharddesigns', 'TomChokel', 'guzmanadrian', 'talkto', 'koalentin', 'styleoutthebox', 'ShawWebDgnGroup', 'placcountants', 'diamond2deal', 'gettranscribing', 'blissyinc', 'exelmart', 'hitechweb', 'jongkind_jtc', 'frontdeposit', 'kisi', 'patrickawood', 'oogababy', 'alibhamed', 'leloca', 'tekora', 'WareNinja', 'wheemplay', 'filedir', 'sociocentral', 'seetheprogress', 'aimmobil', 'iovation', 'fitblazeapp', 'writersbloctv', 'live2sellgroup', 'uptilab', 'digitallecom', 'sundstedt', 'EconTechSys', 'tampacosmetic', 'therapistmatch', 'adlibsoftware', 'ukgreetingcards', 'billdouglass', 'arnaudfischer', 'purevpn', 'rwandatours', 'carlislegroup', 'netagidotcom', 'skillendar', 'drs_solutions', 'cofounderslab', 'omarabdodds', 'famefact', 'DShantz', 'pgeorgol', 'yapp', 'horstjens', 'doublegoodapp', 'alansolutions', 'iheartmuzeek', 'paulthind', 'orgyourpeople', 'elementaltech', 'chrishoskin', 'SolidWild', 'BodyShopBids', 'ProlifikSEO', '360up', 'icoupononline', 'jcherbo', 'wnmlive', 'InstaTee', 'simonsezs', 'nrelate', 'ukinkcartridges', 'atCollab', 'garnerseo', 'RobotAppStore', 'iWatchLife', 'epicomcorp', 'dlolimousine', 'nouvelinnovator', 'juhani', 'ezcouponsearch', 'roomsinc', 'toygaroo', 'dv8media', '_readfy', 'IntrepAero', 'ten43tech', 'galdomedia', 'clickariane', 'medclimate', 'blancspotmedia', 'mediaburst', 'IWebServices', 'jimmyrim', 'nydottv', 'GavelisLT', 'kumoink', 'zarsmedia', 'thethinkcircle', 'JustinHammack', 'CW_JenniferB', 'icotalk', 'Giochi_mmo', 'charlesgrimm', 'softwebchicago', 'agrublev', 'netconstructor', 'mpscny', 'techeomania', 'ImagineH2O', 'gnitome', 'royalcrownseo', 'top10', 'hirespace', 'BuySellTradeRV', 'pixel_square', 'fizplaces', 'jeffshjarback', 'yuilop', 'springshot_com', 'bwtradefinance', 'design_run', 'bubblehubdotcom', 'JuxSync', 'furukama', 'fitnessgym_AZ', 'operationoffers', 'etaconsults', 'mythingsapp', 'icemonkeycom', 'FindMySoftware', 'mikeford', 'laseoservices', 'BeautyWalia', 'clhandbook', 'stevefidelity', 'jlantunez', 'sarahjames486', 'inetmarketing2', 'leecontractguru', 'mvpmarketing', 'jheltzel', 'incensetalk', 'AOneBizSolution', 'socialparody', 'aloha', 'steelvaultdata', 'silobreaker', 'eqwity', 'createforfuture', 'mrtejkohli', 'echosec_corp', 'inboundexperts', 'myonlinemaster', 'Accruing', 'fabdrol', 'billesping', 'ambitionbag', 'yougottacall', 'CityShare_news', 'homesacross', 'empeopled', 'SeatNinja', 'VinoEnology', 'biz2credit', 'rinish720', 'ProfStream', 'paulruderman', 'hatchbrands', 'bluegrassstudio', 'aalphaindia', 'dicepricellc', 'Hieroglifs_RO', 'Web_Matrix', 'sgkeil', 'ManmadeNotebook', 'newallstreet', 'gmrtranscripts', 'robertwprice', 'tradiart', 'carpoolworld', 'VacanciesEng', 'mindjolt', 'readyportal', 'AviGlatt', 'orgsync', 'hhc_pune', 'dave_ideate', 'pragermicro', 'hoganmaps', 'InnovoApps', 'chadmureta', 'kanchukaonline', 'SalluHee', 'Agribestfeeds', 'nesishoes', 'NewsIt_Editor', 'busterbenson', 'EcommerceJobs', 'ThreeSistersMkt', 'dvspl', 'egullyindia', 'meingutscheinco', 'AviationXing', 'turian', 'roofmasterscorp', 'makewebvideo', 'cordeliameacher', 'ceosherpa', 'answerslab', 'treeshore', 'firmlyplanted', 'RivetSoftware', 'TAXIBOXstorage', 'ciloryindia', 'forexfx4x', 'warrenwoodhouse', 'Get10', 'mavenlink', 'Revolver_SF', 'rampratetony', 'tentoglou', 'xhtml', 'ekwitycom', 'mnlakeplace', 'jlamba', 'BillBeckLLE', 'nitaicpo', 'fluidhtml', 'perceptionweb', 'dirdim', 'sitercom', 'Greville3', 'www_MyShip_it', 'todleho', 'Miproto', 'getartup', '4Urugs', 'magicsaucemedia', 'securesupport', 'top10pr', 'bargainbusnews', 'squadronlondon', 'shipwire', 'megastarmedia', 'TaglineMachine', 'gerridsmith', 'matt_muncmedia', 'pickagenius', 'jobsbostontech', 'eyewidegreece', 'merrows', 'Webmarketing123', 'sknake', 'play_tank', 'bluebugletech', 'MadeLoud', 'exploramed', 'DeliverySolNW', 'jaredbrown', 'ncryptedcloud', 'AlokiDesign', 'safame20', 'mgifford', 'taiaut_vw', 'comufy', 'CHINICT', 'portalix', 'BariatricPal', 'mystockvectors', 'tyrabanks', 'AvenueSocial', 'seqcentral', 'psquaredla', 'rafflecopter', 'pavelrogozhin', 'mattcutts', 'gowanderu', 'DigitalKDesign', 'ShopTrakket', 'blaremedia', 'ProjectFrog', 'stordokshredder', 'ARTtwo50', 'Conversionista', 'artpreferred', 'clinkmeltd', 'thequotefish', 'covetique', 'dereksheldon', 'tywanwade', 'A1brandz', 'venturehacks', 'paulduggan', 'sportroops', 'netwrkng', 'oemsecrets', 'filebuckit', 'hometrackr', 'TheJobMenu', '8thandWalton', 'esoftload', 'samesurf', 'ideaffect', 'westling', 'personetics', 'marketingtrends', 'nicekicks', 'warrenwilkinson', 'hometify', 'mr1elee', 'expressor', 'agilesoup', 'peontv', 'Xola', 'c3metrics', 'worldfoodtravel', 'inspectlet', 'GetInMyBand', 'riaxe', 'decksharks_rec', 'cavetronics', 'JasonBaudendist', 'hivehealthmedia', 'hardikvparikh', 'GISXing', 'Cympel', 'cheapesto', 'wojodesign', 'healthimghub', 'cruiseind', 'gojiaccess', 'thoughtbus', 'rcg_int', 'upbeatapp', 'secpoint', 'benjaminrudolph', 'sibylvision', 'msprojectserver', 'codeprooftech', 'quirke_', 'jobofer_org', 'SEO_soppnox', 'tiagopita', 'roverpet1', 'govindeng64', 'sl8zrecruiting', 'PhotoRush', 'weareqipp', 'phpkode', 'TripAdvisor', 'KILTR', '8globaltech', 'amkico01', 'dot_crush', 'rushkoff', 'hiptraveler', 'webkitesim', 'sitementrix', 'flysmartfares', 'msksecurity', 'AccessWest', 'indianic', 'minicooper16', 'instanext', 'readrz', 'EngineersJobs', 'asphostportal', 'popnewswire', 'marketingguyatl', 'geoffbrandre', 'CouponMajaa', 'reputami', 'accuracast', 'Quickercity', 'xlfe', 'kagoo_com', 'atechnocrats', 'rentalkharma', 'LinkCaffeine', 'hitreach', 'avggroup', 'five_cool', 'cayugasoftdev', 'aaronwclopton', 'aaswebsolutions', 'tellgator', 'gigstate', 'liamdayan', 'reycalantaol', 'fabrooms', 'ollieparsley', '4koegler', 'caffeinehit', 'xiconet', 'teamweekplan', 'SLPowers', 'dministry', 'scvlemonlaw', 'seedups', 'autoebid', 'credly', 'KarlSastrugi', 'friendfund', 'chandradekrio', 'startup2venture', '4thaspect', 'willscullypower', 'prakarengineers', 'rickvidallon', 'co_simple', 'ctshplc', 'StylingOn', 'angelamack23', 'hatchvalleyco', 'paberata', 'factoryextreme', 'liannefarbes', 'werpetalpushers', 'hypertech_ser', 'pivotalcomputer', 'myvitaminmart_', 'boalt', 'adliptweet', 'datawebflex', 'jaythadeshwar', 'jasonloyet', 'zbra', 'tfmontague', 'ngocthuygroup', 'appsolutesarl', 'irawilley', 'IMRadioOnline', 'wevideo', 'JMaggioRealtor', '360videomapping', 'foodiebytes', 'optionsaway', 'Addictd2Success', 'bwprintworks', 'Weemba', 'victusfate', 'hey_kiki', 'predsolutions', 'inerTRAIN', 'mentorhip', 'gbramlet', 'NJMortgageExprt', 'meta_net', 'mkseoservices', 'dearnlawgroup', 'crowdgather', 'AskEachOtherVIP', 'Vye_Music', 'crocpond', 'vrstorm', 'Polecamyorg', 'lapicamedia', '_huion_', 'cirkulr', '72LuxCEO', 'jade_track', 'BurlCarpetOne', 'threering', 'TamaraWirz777', 'agriya1flv', 'grippo', 'MardenEdwards', 'vozio', 'mobilemagzter', 'karvysolutions', 'groceryalerts', 'AboutOne', 'jroseland', 'shesaidbeauty', 'trendlinei', 'magicrob', 'edeckers', 'clairejarrett', 'tomsplanner', 'absolutetoday', 'krazychimp', 'lawinsider', 'modeflowers', 'embrioodotcom', 'todltweets', 'tamatura1', 'maxmayo', 'mmhull', 'projop', 'cobwebseo', 'leanshop', 'viralseo', 'IntegrityFirstM', 'plicpad', 'tureus', 'akosmasoftware', 'SilkFred', 'exozet', 'anuphilips', 'dinube', 'ea', 'robinjewsbury', 'hypemusicmix', 'ratemax', 'clickbrain', 'grahamclarke', 'eWinWin', 'redpointhq', 'onlymallorca', 'Srishtinovative', 'EarlyTracks', 'InsiderPerks', 'gosmartpixel', 'LibiBITech', 'sawyertraining', 'xellowtweet', 'goodcore', 'spothero', 'uggnohnuy', 'reynoldsdigital', 'pogoplug', 'usjoomlaforce', 'labnol', 'sgbmedia', 'adriancb', 'IWTINDIA', 'igroupasia', 'StrikeInternet', 'Ben_Sky', 'GoTekEnergy', 'w3origin', 'popappfactory', 'koshikabio', 'Famocracy', 'digitalvisiontv', 'IBDeal', 'opitect', 'SalonBookr', 'digitalhotdeal', '_alphabeth', 'buyvite', 'viastudios', 'keemotion', 'conarrative', 'seoindia231', 'PubNub', 'DIMEpr', 'theseoportal', 'bliiir', 'opallabs', 'dandingocpa', 'NickVellios', 'creditaid', 'achshar', 'kurtpenberg', 'interlincWORLD', 'qwikienglish', 'kafechew', 'brand5', 'TLOTL', 'snaplogic', 'ploonge', 'myownitguy', 'TipsDesign', 'coryshaw', 'homecurry', 'CompartiaSL', 'togapit', 'priceride', 'saleswahcrm', 'Fabulonia', 'knokstory', 'puntalunta', 'kbsconsultants', 'naitinofficial', 'altitudedesign', 'colingilchrist', 'thereeveslawgro', 'EntGRCSolutions', 'thawesomeboston', 'lioninside', 'crifici', 'bbetts', 'on_page', 'johndevor', 'glglaw', 'bcmoney', 'goskateschool', 'bohaglass', 'ordrin', 'catchtorolav', 'teespygolf', 'gogofurniture', 'WideVisionTech', 'SureComm', 'Qriffic', 'nevolutionllc', 'intellibank', 'AarowIndustries', 'adwordize', 'space_antiques', 'fantoon', 'CareerTagged', 'jleebiz', 'rahulgchaudhary', 'ipvietnamtour', 'ZumaTechnology', 'lmgpr', 'foodmarketing', 'boydcarter', 'trustembedded', 'schawel', 'gotechmaker', 'geekrowd', 'eventyard', 'TheMusicProduce', 'famebook', 'konstantinfo', 'folmusic', 'insomniacevents', 'dealsourcedir', 'chennaimoms', 'quickcue', 'mygenieinc', 'ideatransplant', 'shelscom', 'potenciald', 'dwhs', 'GigsTask', 'MedicalSEOGuy', 'y8gamesfree', 'KaufmannMerc', 'Debs_Ireland', 'discoveryxa', 'Vconnecta', 'vinny_says', 'RobMarchant', 'handiramp', 'oxyzenwebmedia', 'ITALondon', '21cssindia1', 'robimbeault', 'writework_com', 'camaleon_no', 'Armadillosdo', 'adamwillhoeft', 'entrustet', 'Paknews_pk', 'rajanand', 'behnight', 'flubitweet', 'centeros', 'bellatouch', 'snipsnapapp', 'comodosslstore', 'startupfive', 'autoclaims', 'gremboul', 'ziller_web', 'insightforge', 'mobuyapp', 'eNewsz', 'choicedelhi', 'BartSitek', 'IntroMaps', 'winwinbooks', 'WildMirene', 'AptiGenius', 'LaurenJonesShoe', 'Tpad', 'raffledog', 'ReelGenie', 'veloxsites', 'bobgourley', 'lonroth', 'LorenzTwit', 'Questechie', 'verbling', 'seotraffics', 'spontoguy', 'onlinemarketdk', 'sievetech', 'infosecboy', 'wabisabi9', 'bookdirect', 'gal_away', 'andreadusi_vr', 'electriclenny', 'annfinnbalboa', 'evanreas', 'almostfamouscom', 'shivaconnect1', 'compstak', 'FierceHound', 'geo_will', 'thecmoclub', 'meitrack', 'SaaSy', 'Conjugo', 'boldcollective', 'zettavox', 'tripdibs', 'yreceipts', 'AtomantsIT', 'relocality', 'fannitup', 'pashyaa_tech', 'seedcurve', 'trakt', 'Immigration_AUS', 'interactguru', 'bestfitmobile', 'rajrikhy', 'bwentertainment', 'mememe4u', 'stevenPiPsports', 'digitalignite', 'conversionsupp', 'InsideAxis', 'ZarkoCompare', 'mindtrades', 'rsalistservices', 'askIroyin', 'brettfarmiloe', 'ideeli', 'free2astrology', 'Genecigs', 'bezellcsg', 'amirkhella', 'boonseo', 'youcalc', 'sparqlight', 'mediaretrievers', 'richardcampcpa', 'hywelapbuckler', 'sophiasearch', 'selectlimousine', 'ourlark', 'rlatebooking', 'DailyDerbi', 'hashe', 'LamassuBTC', 'aristotlecircle', 'tdavidson', 'dradept', 'seo_pro', 'crazeagency', 'MobilyTrip', 'intelrev', 'ViVOforce', 'davekusek', 'adthena', 'fightmeofficial', 'WHTVRme', 'i_inspire', 'mizecom', 'TouchMrktg', 'nataliehodge', 'ceoworld', 'afzee', 'droidsecurity', '365retailmarket', '_dataentry', 'babycaremagazin', 'liqueoinc', 'social_gift', 'projecteve1', 'exhilarator', 'MyTennisLessons', 'yourprivacy', 'bestinchennai', 'builderproprty', 'wellnessfx', 'EmergingThreats', 'CarCareKiosk', 'hunome', 'banzailabs', 'Entalysis', 'letsflycheaper', 'cazoomi', 'DNVanLines', 'webdeveloper619', 'mayleesboutique', 'hostedd', 'cloudify', 'Coderbyte', 'IanHSmith', 'animekida', 'clutchcreative', 'FortuneSofttech', 'fiabee', 'BidPal', 'imediadisha', 'trackerbirdnews', 'mattprohaska', 'redalumnos', 'guide2tricksceo', 'EvasDate', 'CoyleAndrew', 'earliz', 'InsightsTechne', 'Bizzun', 'googleandblog', 'fitdeck', 'cellgsmservice', 'shinetechdk', 'coachcanhelp', 'Arcadialeads', 'brcroofing', 'notelr_', 'salestour', 'allprecisehvac', 'simple_click', 'givology', 'CloudNoc', 'azeemaosaf', 'carrollwebdev', 'lunchmemo_com', 'PR_Smart', 'edu_koala', 'yours2share', 'JeweloveIndia', 'tobias_tobias', 'erudify', 'FourElementsMed', 'sibersonik', 'bobjones', 'lord974', 'grouptalent', 'fcohen', 'trifectaky', 'localfoodsys', 'ecobold', 'GuitarHype', 'roshya', 'ScanMedQR', 'arthurmonnet', 'freecamloader', 'MyLocalForums', 'bpublic', 'thebcco', 'soft_start', 'roteximitor', 'greenbirdIT', 'ats_4_solutions', 'viteb', 'modraideja', 'pinciti', 'suwarnasoft', 'movingpres', 'WiseSaaS', 'ncameron', 'bilalfazal', 'autogenietv', 'orderTopia', 'transcriptwave', 'Fedeltahomecare', 'skilledup', 'network11ads', 'firstNeducation', 'ebkcd2', 'multiposting', 'otssolutions', 'TheSockDoc', 'roheenaa', 'KEXINO', 'finance101whiz', 'bioZhena', 'mediaarmor', 'portablegates', 'pearsontech', 'MobiDev_', 'melihozcanli', 'thechive', 'impulsesave', 'InThree', 'killermobile', 'magiclogix', 'planpod', 'BeyconGroup', 'astutehosting', '4goodbuzz', 'supramagnets', '4delite', '_topseos_', 'Weblib', 'jnisby', '65zfere', 'danieltellez', 'InvGate', 'drafols', 'NuHabitat', 'skyrank', 'Montclairadvrs', 'idmypill', 'doughtrading', 'nurepinc', 'michaeldornan', 'osiaffiliate', 'worldwineevents', 'pvroeder', 'merlinsoft', 'egreenbuilding', 'modedefaire', 'myGoodbuzz', 'exosite', 'quentinpain', '_agile', 'merkado', 'yeloworld', 'wizride', 'iwedding', 'seomasteruk', 'kymalabs', 'remoteutilities', 'artionet', 'addoway', 'mnxconnect', 'esauve', 'youlayaway', 'appbackr', '96robots', 'appatyze', 'airfy', 'goodinlaw', 'egointer', 'Nosservices', 'carbonmind', 'doccaster', 'jefftopia', 'brickandmaker', 'socialwok', 'ethoseo', 'localbooking', 'NoochMoney', 'shoutrnet', 'venforo', 'gigantium', 'ktcoupon', 'pofx_adagency', 'Appizon', 'dgillesfr', 'safe2waytexasdd', 'MYSecureTweets', 'robinmoore_me', 'nousinfosystems', 'ofertarca', 'masschallenge', 'MerleDress', 'PromiseLocker', 'ArthurGuy', 'trivetla', 'europeshuttle', 'Club_Digital', 'agenceindigo', 'wiggio', 'furnesh', 'seoalien', 'seo_za', 'rolfeswinton', 'darenslaughter', 'bemobee', 'speechbubblem', 'Brightidea', 'adelerobots', 'billgates', 'buyerly', 'kisshunterSrl', 'coinxinc', 'dealdecor', 'corvisacloud', 'nephoscale', 'basicgov', 'Mixtur', 'mcolimousine', 'Jamesmeorial', 'graticle', 'oggin', 'libberati', 'getfluency', 'allcalltech', 'colin_wt', '71lbs', 'YoungHollywood', 'AdvortoEmily', 'mihollywood', 'connectedgeek', 'customsign', 'offersonclick', 'FabricPaul', 'UVConnect', 'FilmShaft', 'yuriarcurs', 'jojamieson', 'sathivacreation', 'bookitlive', 'feefighters', 'intervolga', 'unitedvirtual', 'sumomi_com', 'bashfoo', 'stackmeup', 'Talisflorida', 'powwowhr', 'PeekedInterest', 'naffyrules', 'internetdj', 'tre_beth', 'ClariumIT', 'InfoGrok', 'ArzuAkcayDesign', 'wavlite', '3zaps', 'New_Healthcare', 'signavio', 'umairhp', 'Socinteract', 'supertintin', 'NimbleChef', 'network', 'indicareer', 'BinaryBonuses', 'bamboudesign', 'althafrahman', 'vcipublisher', 'gilfuseducation', 'keyideas01', 'hugoburge', 'FitforGreen', 'tefdigital', 'PJSweeney', 'premieravdallas', '15marketing', 'seecontrol', 'Sit4Charities', 'gcrocker', 'collectivesoft', 'simplifiedfm', 'ediggs', 'huntergray', 'gocubby', 'pamegan', 'giftbigtweets', 'genadinik', 'ProjectMtn', 'kaleonubegendik', 'samurai_ken', 'bizzduniya', 'PeterMackness', 'bandsonabudget', 'guestblogit', 'expasys', 'LAdvertising', 'undzorg', 'denverseo', 'dressshirtsnyc', 'GodWithMee', 'butu_zone', 'docanimo', 'ecycler', 'GreggLorenzo_', 'bizbroker23', 'gr_brains', 'i_author', 'bahlteam', 'heelsrepublic', 'rfidglobal', 'kuponmax', 'InfraUpgrade', 'girlsmoveout', 'lumiydesign', 'soramaki', 'hannaaase', 'iamwallstreet', 'searchrpm', 'w3trends', 'joinvilleinc', 'getClever', 'elitify', 'wegolook', 'youronlineft', 'Racemi', 'eTimesheets', 'ArmedZilla', 'soloenglish', 'iconprinting', 'enovativegroup', 'lellaninc', 'travelhead', 'mobilemadnesspl', 'optiinfo', 'hotelicopter', 'thebarcodenews', 'espd', 'ibuywesell', 'drquickbooks', 'krushhhbykonica', 'reputationnews', 'ReferralMD', 'gowebbaby', 'shefalimusic', 'karpantschof', 'remotestylist', 'Ayero', 'mycodetree', 'TCSCesar', 'expathos', 'gamby', 'younationwide', 'tea_coupons', 'harlechnnorfolk', 'greenhousegnome', 'zerozendesign', 'V_C_G', 'ninsaudebr', 'plista', 'Vectoriel', 'MVPetrova', 'wattbot', 'beseenontop', 'vbosystems', 'benchbucket', 'GetSwill', 'LuxxLab', '4dabledotcom', 'Thea4shr', 'Listen2thaNoise', 'get_a_game', 'shiftinsurance', 'imomentous', 'bwlucas', 'James_Mensching', 'ParaGate', 'GetBidzy', 'Webfor', 'boardmybiz', 'jm_pouabou', '360campaigner', '9Dot_Strategies', 'yukaichou', 'vidcompare', 'scrattchsearch', 'bradmcevilly', 'eKomi', 'MINNIANDA', 'Picocent', 'completeinsure', 'webhostuk', 'LeanVentures', 'EmilyJS3', 'lgarulli', 'beacab', 'mobiquant', 'bidegy', 'Yellloh', 'ganttic', 'coupsmart', 'Batteriescentau', 'pomomoh', 'orrisindia', 'decodingthegame', 'annacolibri', 'WeAreMystro', 'helloitizen', 'scottrobarge', 'nicelogo', 'mite', 'abovethefraymag', 'adaptlogo', 'lofts_com', 'sensegiz', 'designosoft', 'cometroll', 'tweetintent', 'nitingcs', 'BlackCaesarX', 'rahulch15', 'LehighADC', 'steiblys', 'bradharrison1', 'clippinghq', 'sparkpluggames', 'softactiva', 'suprios', 'simplilearn', 'yoink', 'VMRConsultants', 'AaliyahLina', 'esm_events', 'TouchPointD', 'MedtronicCEO', 'JMikeSmith', 'humidorplaza', 'amhnews', 'web9x', 'antonejohnson', 'incuprisecom', 'seandavidson', 'crowd_supply', 'crowdzu', 'zapevent', 'yourartbay', 'ronniewylers', 'exprtise', 'razorfrog', 'myswapsee', 'hevan_net', 'survey_tool', 'roadtrafficsign', 'superglued', 'benmcdowell', 'Selidbe_Prevoz', 'skillsfinder', 'ryanstevensnu', 'pps_co', 'CyberSponse', 'PolylabsDev', 'B2XCareSolution', 'toolswatch', '99Composers', 'alexdeve', 'luckyprimellc', 'edarabia', 'konoozi', 'phcjam', 'frankbuysphilly', 'KooDooZ', 'iTrendTV', 'gridgain', 'sprike_ltd', 'trampolineprosh', 'webbmedia', 'VOXopolis', 'triangledirect', 'nextdoormedia', 'sslrenewals', 'BOLDGuidance', 'RHPeter', 'byersbush', 'thebigtickets', 'nothingGrinder', 'eSK_en', 'azurati1', 'repolift', 'GroupOffice', 'goplay', 'tampaempire', 'mysurveylab', 'questetra', 'Airtasker', 'harold_solomon', 'analyticsninja', 'RobertSiciliano', 'consultondemand', 'cmscritic', 'DashBurst', 'SFPropertyForce'}\n"
     ]
    }
   ],
   "source": [
    "# Сравниваем значения network_username между датасетами\n",
    "common_usernames = set(people_df['network_user_name']).intersection(set(company_and_rounds_df['network_user_name']))\n",
    "\n",
    "print(f\"Общие значения network_username: {common_usernames}\")"
   ]
  },
  {
   "cell_type": "code",
   "execution_count": 46,
   "metadata": {},
   "outputs": [
    {
     "name": "stdout",
     "output_type": "stream",
     "text": [
      "Процент пересечения: 1.90%\n"
     ]
    }
   ],
   "source": [
    "# Общее количество уникальных значений network_user_name\n",
    "total_unique_usernames = len(set(people_df['network_user_name']) | set(company_and_rounds_df['network_user_name']))\n",
    "\n",
    "# Количество общих значений network_username\n",
    "common_usernames_count = len(common_usernames)\n",
    "\n",
    "# Вычисляем процент пересечения\n",
    "intersection_percentage = (common_usernames_count / total_unique_usernames) * 100\n",
    "\n",
    "print(f\"Процент пересечения: {intersection_percentage:.2f}%\")\n"
   ]
  },
  {
   "cell_type": "markdown",
   "metadata": {
    "id": "_7gjdrGOFcB2"
   },
   "source": [
    "В датасетах часто встречаются повторяющиеся названия, и использование network_user_name (ника компании в сети) не всегда является хорошим способом для объединения данных (Процент пересечения к общему количеству: 1.90%)."
   ]
  },
  {
   "cell_type": "markdown",
   "metadata": {
    "id": "EHcODomVrJg1"
   },
   "source": [
    "\n",
    "### 2.4. Проблемный датасет и причина возникновения пропусков\n",
    "\n",
    "Во время собственного анализа данных у заказчика больше всего вопросов возникло к датасету `company_and_rounds.csv`. В нём много пропусков как раз в информации о раундах, которая заказчику важна.\n",
    "\n",
    "- Любым удобным способом превести данные в вид, который позволит в дальнейшем проводить анализ в разрезе отдельных компаний. Обратить внимание на структуру датасета, порядок и названия столбцов, проанализируйте значения.\n",
    "\n",
    "По гипотезе заказчика данные по компаниям из этой таблицы раньше хранились иначе, более удобным для исследования образом.\n",
    "\n",
    "- Максимальным образом сохраняя данные, сохранив их связность и исключив возможные возникающие при этом ошибки, нужно подготовить данные так, чтобы удобно было отобрать компании по параметрам и рассчитать показатели из расчёта на одну компанию без промежуточных агрегаций."
   ]
  },
  {
   "cell_type": "code",
   "execution_count": 47,
   "metadata": {},
   "outputs": [
    {
     "data": {
      "text/html": [
       "<div>\n",
       "<style scoped>\n",
       "    .dataframe tbody tr th:only-of-type {\n",
       "        vertical-align: middle;\n",
       "    }\n",
       "\n",
       "    .dataframe tbody tr th {\n",
       "        vertical-align: top;\n",
       "    }\n",
       "\n",
       "    .dataframe thead th {\n",
       "        text-align: right;\n",
       "    }\n",
       "</style>\n",
       "<table border=\"1\" class=\"dataframe\">\n",
       "  <thead>\n",
       "    <tr style=\"text-align: right;\">\n",
       "      <th></th>\n",
       "      <th>company.id</th>\n",
       "      <th>name</th>\n",
       "      <th>category_code</th>\n",
       "      <th>status</th>\n",
       "      <th>founded_at</th>\n",
       "      <th>closed_at</th>\n",
       "      <th>domain</th>\n",
       "      <th>network_user_name</th>\n",
       "      <th>country_code</th>\n",
       "      <th>investment_rounds</th>\n",
       "      <th>...</th>\n",
       "      <th>milestones</th>\n",
       "      <th>funding_round_id</th>\n",
       "      <th>company_id</th>\n",
       "      <th>funded_at</th>\n",
       "      <th>funding_round_type</th>\n",
       "      <th>raised_amount</th>\n",
       "      <th>pre_money_valuation</th>\n",
       "      <th>participants</th>\n",
       "      <th>is_first_round</th>\n",
       "      <th>is_last_round</th>\n",
       "    </tr>\n",
       "  </thead>\n",
       "  <tbody>\n",
       "    <tr>\n",
       "      <th>0</th>\n",
       "      <td>1.0</td>\n",
       "      <td>Wetpaint</td>\n",
       "      <td>web</td>\n",
       "      <td>operating</td>\n",
       "      <td>2005-10-17</td>\n",
       "      <td>NaN</td>\n",
       "      <td>wetpaint-inc.com</td>\n",
       "      <td>BachelrWetpaint</td>\n",
       "      <td>USA</td>\n",
       "      <td>0.0</td>\n",
       "      <td>...</td>\n",
       "      <td>5.0</td>\n",
       "      <td>888.0</td>\n",
       "      <td>1.0</td>\n",
       "      <td>2005-10-01</td>\n",
       "      <td>series-a</td>\n",
       "      <td>5250000.0</td>\n",
       "      <td>0.0</td>\n",
       "      <td>2.0</td>\n",
       "      <td>False</td>\n",
       "      <td>True</td>\n",
       "    </tr>\n",
       "    <tr>\n",
       "      <th>1</th>\n",
       "      <td>1.0</td>\n",
       "      <td>Wetpaint</td>\n",
       "      <td>web</td>\n",
       "      <td>operating</td>\n",
       "      <td>2005-10-17</td>\n",
       "      <td>NaN</td>\n",
       "      <td>wetpaint-inc.com</td>\n",
       "      <td>BachelrWetpaint</td>\n",
       "      <td>USA</td>\n",
       "      <td>0.0</td>\n",
       "      <td>...</td>\n",
       "      <td>5.0</td>\n",
       "      <td>889.0</td>\n",
       "      <td>1.0</td>\n",
       "      <td>2007-01-01</td>\n",
       "      <td>series-b</td>\n",
       "      <td>9500000.0</td>\n",
       "      <td>0.0</td>\n",
       "      <td>3.0</td>\n",
       "      <td>False</td>\n",
       "      <td>False</td>\n",
       "    </tr>\n",
       "    <tr>\n",
       "      <th>2</th>\n",
       "      <td>1.0</td>\n",
       "      <td>Wetpaint</td>\n",
       "      <td>web</td>\n",
       "      <td>operating</td>\n",
       "      <td>2005-10-17</td>\n",
       "      <td>NaN</td>\n",
       "      <td>wetpaint-inc.com</td>\n",
       "      <td>BachelrWetpaint</td>\n",
       "      <td>USA</td>\n",
       "      <td>0.0</td>\n",
       "      <td>...</td>\n",
       "      <td>5.0</td>\n",
       "      <td>2312.0</td>\n",
       "      <td>1.0</td>\n",
       "      <td>2008-05-19</td>\n",
       "      <td>series-c+</td>\n",
       "      <td>25000000.0</td>\n",
       "      <td>0.0</td>\n",
       "      <td>4.0</td>\n",
       "      <td>True</td>\n",
       "      <td>False</td>\n",
       "    </tr>\n",
       "    <tr>\n",
       "      <th>3</th>\n",
       "      <td>10.0</td>\n",
       "      <td>Flektor</td>\n",
       "      <td>games_video</td>\n",
       "      <td>acquired</td>\n",
       "      <td>NaN</td>\n",
       "      <td>NaN</td>\n",
       "      <td>flektor.com</td>\n",
       "      <td>NaN</td>\n",
       "      <td>USA</td>\n",
       "      <td>0.0</td>\n",
       "      <td>...</td>\n",
       "      <td>0.0</td>\n",
       "      <td>NaN</td>\n",
       "      <td>NaN</td>\n",
       "      <td>NaT</td>\n",
       "      <td>NaN</td>\n",
       "      <td>NaN</td>\n",
       "      <td>NaN</td>\n",
       "      <td>NaN</td>\n",
       "      <td>True</td>\n",
       "      <td>True</td>\n",
       "    </tr>\n",
       "    <tr>\n",
       "      <th>4</th>\n",
       "      <td>100.0</td>\n",
       "      <td>There</td>\n",
       "      <td>games_video</td>\n",
       "      <td>acquired</td>\n",
       "      <td>NaN</td>\n",
       "      <td>NaN</td>\n",
       "      <td>there.com</td>\n",
       "      <td>NaN</td>\n",
       "      <td>USA</td>\n",
       "      <td>0.0</td>\n",
       "      <td>...</td>\n",
       "      <td>4.0</td>\n",
       "      <td>NaN</td>\n",
       "      <td>NaN</td>\n",
       "      <td>NaT</td>\n",
       "      <td>NaN</td>\n",
       "      <td>NaN</td>\n",
       "      <td>NaN</td>\n",
       "      <td>NaN</td>\n",
       "      <td>True</td>\n",
       "      <td>True</td>\n",
       "    </tr>\n",
       "  </tbody>\n",
       "</table>\n",
       "<p>5 rows × 22 columns</p>\n",
       "</div>"
      ],
      "text/plain": [
       "   company.id      name category_code     status  founded_at closed_at  \\\n",
       "0         1.0  Wetpaint           web  operating  2005-10-17       NaN   \n",
       "1         1.0  Wetpaint           web  operating  2005-10-17       NaN   \n",
       "2         1.0  Wetpaint           web  operating  2005-10-17       NaN   \n",
       "3        10.0   Flektor   games_video   acquired         NaN       NaN   \n",
       "4       100.0     There   games_video   acquired         NaN       NaN   \n",
       "\n",
       "             domain network_user_name country_code  investment_rounds  ...  \\\n",
       "0  wetpaint-inc.com   BachelrWetpaint          USA                0.0  ...   \n",
       "1  wetpaint-inc.com   BachelrWetpaint          USA                0.0  ...   \n",
       "2  wetpaint-inc.com   BachelrWetpaint          USA                0.0  ...   \n",
       "3       flektor.com               NaN          USA                0.0  ...   \n",
       "4         there.com               NaN          USA                0.0  ...   \n",
       "\n",
       "   milestones  funding_round_id  company_id  funded_at  funding_round_type  \\\n",
       "0         5.0             888.0         1.0 2005-10-01            series-a   \n",
       "1         5.0             889.0         1.0 2007-01-01            series-b   \n",
       "2         5.0            2312.0         1.0 2008-05-19           series-c+   \n",
       "3         0.0               NaN         NaN        NaT                 NaN   \n",
       "4         4.0               NaN         NaN        NaT                 NaN   \n",
       "\n",
       "  raised_amount pre_money_valuation   participants  is_first_round  \\\n",
       "0     5250000.0                  0.0           2.0           False   \n",
       "1     9500000.0                  0.0           3.0           False   \n",
       "2    25000000.0                  0.0           4.0            True   \n",
       "3           NaN                  NaN           NaN            True   \n",
       "4           NaN                  NaN           NaN            True   \n",
       "\n",
       "   is_last_round  \n",
       "0           True  \n",
       "1          False  \n",
       "2          False  \n",
       "3           True  \n",
       "4           True  \n",
       "\n",
       "[5 rows x 22 columns]"
      ]
     },
     "execution_count": 47,
     "metadata": {},
     "output_type": "execute_result"
    }
   ],
   "source": [
    "company_and_rounds_df.head()"
   ]
  },
  {
   "cell_type": "code",
   "execution_count": 48,
   "metadata": {
    "id": "oSk7xqu_FbaN"
   },
   "outputs": [
    {
     "name": "stdout",
     "output_type": "stream",
     "text": [
      "<class 'pandas.core.frame.DataFrame'>\n",
      "RangeIndex: 217774 entries, 0 to 217773\n",
      "Data columns (total 22 columns):\n",
      " #   Column                Non-Null Count   Dtype         \n",
      "---  ------                --------------   -----         \n",
      " 0   company.id            217472 non-null  float64       \n",
      " 1   name                  217472 non-null  object        \n",
      " 2   category_code         143886 non-null  object        \n",
      " 3   status                217472 non-null  object        \n",
      " 4   founded_at            109956 non-null  object        \n",
      " 5   closed_at             3449 non-null    object        \n",
      " 6   domain                147159 non-null  object        \n",
      " 7   network_user_name     95534 non-null   object        \n",
      " 8   country_code          108607 non-null  object        \n",
      " 9   investment_rounds     217472 non-null  float64       \n",
      " 10  funding_rounds        217472 non-null  float64       \n",
      " 11  funding_total         217472 non-null  float64       \n",
      " 12  milestones            217472 non-null  float64       \n",
      " 13  funding_round_id      52928 non-null   float64       \n",
      " 14  company_id            52928 non-null   float64       \n",
      " 15  funded_at             52680 non-null   datetime64[ns]\n",
      " 16  funding_round_type    52928 non-null   object        \n",
      " 17  raised_amount         52928 non-null   float64       \n",
      " 18  pre_money_valuation   52928 non-null   float64       \n",
      " 19  participants          52928 non-null   float64       \n",
      " 20  is_first_round        217774 non-null  bool          \n",
      " 21  is_last_round         217774 non-null  bool          \n",
      "dtypes: bool(2), datetime64[ns](1), float64(10), object(9)\n",
      "memory usage: 33.6+ MB\n"
     ]
    }
   ],
   "source": [
    "company_and_rounds_df.info()\n"
   ]
  },
  {
   "cell_type": "code",
   "execution_count": 49,
   "metadata": {
    "id": "9BY9lTUcFbJ-"
   },
   "outputs": [
    {
     "data": {
      "text/plain": [
       "0"
      ]
     },
     "execution_count": 49,
     "metadata": {},
     "output_type": "execute_result"
    }
   ],
   "source": [
    "# Проверяем полные дубликаты в датафрейме company_and_rounds_df\n",
    "company_and_rounds_df.duplicated().sum()"
   ]
  },
  {
   "cell_type": "code",
   "execution_count": 50,
   "metadata": {},
   "outputs": [
    {
     "data": {
      "text/plain": [
       "185834"
      ]
     },
     "execution_count": 50,
     "metadata": {},
     "output_type": "execute_result"
    }
   ],
   "source": [
    "# Проверяем неявные дубликаты в датафрейме company_and_rounds_df\n",
    "company_and_rounds_df.duplicated(subset='company_id').sum()"
   ]
  },
  {
   "cell_type": "code",
   "execution_count": 51,
   "metadata": {},
   "outputs": [
    {
     "data": {
      "text/plain": [
       "company.id                 302\n",
       "name                       302\n",
       "category_code            73888\n",
       "status                     302\n",
       "founded_at              107818\n",
       "closed_at               214325\n",
       "domain                   70615\n",
       "network_user_name       122240\n",
       "country_code            109167\n",
       "investment_rounds          302\n",
       "funding_rounds             302\n",
       "funding_total              302\n",
       "milestones                 302\n",
       "funding_round_id        164846\n",
       "company_id              164846\n",
       "funded_at               165094\n",
       "funding_round_type      164846\n",
       "raised_amount           164846\n",
       "pre_money_valuation     164846\n",
       "participants            164846\n",
       "is_first_round               0\n",
       "is_last_round                0\n",
       "dtype: int64"
      ]
     },
     "execution_count": 51,
     "metadata": {},
     "output_type": "execute_result"
    }
   ],
   "source": [
    "# Подсчитаем количество пропущенных значений в столбцах датафрейма\n",
    "company_and_rounds_df.isna().sum()"
   ]
  },
  {
   "cell_type": "code",
   "execution_count": 52,
   "metadata": {},
   "outputs": [
    {
     "data": {
      "text/plain": [
       "company.id               0.14\n",
       "name                     0.14\n",
       "category_code           33.93\n",
       "status                   0.14\n",
       "founded_at              49.51\n",
       "closed_at               98.42\n",
       "domain                  32.43\n",
       "network_user_name       56.13\n",
       "country_code            50.13\n",
       "investment_rounds        0.14\n",
       "funding_rounds           0.14\n",
       "funding_total            0.14\n",
       "milestones               0.14\n",
       "funding_round_id        75.70\n",
       "company_id              75.70\n",
       "funded_at               75.81\n",
       "funding_round_type      75.70\n",
       "raised_amount           75.70\n",
       "pre_money_valuation     75.70\n",
       "participants            75.70\n",
       "is_first_round           0.00\n",
       "is_last_round            0.00\n",
       "dtype: float64"
      ]
     },
     "execution_count": 52,
     "metadata": {},
     "output_type": "execute_result"
    }
   ],
   "source": [
    "# Выполним оценку на основании  соотношения\n",
    "round((company_and_rounds_df.isna().sum() / company_and_rounds_df.shape[0]*100),2)"
   ]
  },
  {
   "cell_type": "code",
   "execution_count": 53,
   "metadata": {},
   "outputs": [
    {
     "data": {
      "text/plain": [
       "Index(['company.id', 'name', 'category_code', 'status', 'founded_at',\n",
       "       'closed_at', 'domain', 'network_user_name', 'country_code',\n",
       "       'investment_rounds', 'funding_rounds', 'funding_total', 'milestones',\n",
       "       'funding_round_id', 'company_id', 'funded_at', 'funding_round_type',\n",
       "       'raised_amount', 'pre_money_valuation ', 'participants',\n",
       "       'is_first_round', 'is_last_round'],\n",
       "      dtype='object')"
      ]
     },
     "execution_count": 53,
     "metadata": {},
     "output_type": "execute_result"
    }
   ],
   "source": [
    "company_and_rounds_df.columns"
   ]
  },
  {
   "cell_type": "code",
   "execution_count": 54,
   "metadata": {},
   "outputs": [
    {
     "name": "stdout",
     "output_type": "stream",
     "text": [
      "Index(['company.id', 'name', 'category_code', 'status', 'founded_at',\n",
      "       'closed_at', 'domain', 'network_user_name', 'country_code',\n",
      "       'investment_rounds', 'funding_rounds', 'funding_total', 'milestones',\n",
      "       'funding_round_id', 'company_id', 'funded_at', 'funding_round_type',\n",
      "       'raised_amount', 'pre_money_valuation ', 'participants',\n",
      "       'is_first_round', 'is_last_round'],\n",
      "      dtype='object')\n"
     ]
    }
   ],
   "source": [
    "print(company_and_rounds_df.columns)\n"
   ]
  },
  {
   "cell_type": "code",
   "execution_count": 55,
   "metadata": {},
   "outputs": [],
   "source": [
    "# Собираем информацию о компаниях\n",
    "companies_df = company_and_rounds_df[['company.id', 'name', 'category_code', 'status', 'founded_at', 'closed_at', 'domain', 'network_user_name', 'country_code', 'investment_rounds', 'funding_rounds', 'funding_total', 'milestones']].drop_duplicates()\n",
    "\n",
    "# Собираем информацию о раундах\n",
    "rounds_df = company_and_rounds_df[['company_id', 'investment_rounds', 'funding_rounds', 'funding_total', 'milestones', 'funded_at', 'funding_round_type', 'raised_amount', 'pre_money_valuation ', 'participants', 'is_first_round', 'is_last_round']].drop_duplicates()\n"
   ]
  },
  {
   "cell_type": "code",
   "execution_count": 56,
   "metadata": {},
   "outputs": [
    {
     "data": {
      "text/html": [
       "<div>\n",
       "<style scoped>\n",
       "    .dataframe tbody tr th:only-of-type {\n",
       "        vertical-align: middle;\n",
       "    }\n",
       "\n",
       "    .dataframe tbody tr th {\n",
       "        vertical-align: top;\n",
       "    }\n",
       "\n",
       "    .dataframe thead th {\n",
       "        text-align: right;\n",
       "    }\n",
       "</style>\n",
       "<table border=\"1\" class=\"dataframe\">\n",
       "  <thead>\n",
       "    <tr style=\"text-align: right;\">\n",
       "      <th></th>\n",
       "      <th>company.id</th>\n",
       "      <th>name</th>\n",
       "      <th>category_code</th>\n",
       "      <th>status</th>\n",
       "      <th>founded_at</th>\n",
       "      <th>closed_at</th>\n",
       "      <th>domain</th>\n",
       "      <th>network_user_name</th>\n",
       "      <th>country_code</th>\n",
       "      <th>investment_rounds</th>\n",
       "      <th>funding_rounds</th>\n",
       "      <th>funding_total</th>\n",
       "      <th>milestones</th>\n",
       "    </tr>\n",
       "  </thead>\n",
       "  <tbody>\n",
       "    <tr>\n",
       "      <th>0</th>\n",
       "      <td>1.0</td>\n",
       "      <td>Wetpaint</td>\n",
       "      <td>web</td>\n",
       "      <td>operating</td>\n",
       "      <td>2005-10-17</td>\n",
       "      <td>NaN</td>\n",
       "      <td>wetpaint-inc.com</td>\n",
       "      <td>BachelrWetpaint</td>\n",
       "      <td>USA</td>\n",
       "      <td>0.0</td>\n",
       "      <td>3.0</td>\n",
       "      <td>39750000.0</td>\n",
       "      <td>5.0</td>\n",
       "    </tr>\n",
       "    <tr>\n",
       "      <th>3</th>\n",
       "      <td>10.0</td>\n",
       "      <td>Flektor</td>\n",
       "      <td>games_video</td>\n",
       "      <td>acquired</td>\n",
       "      <td>NaN</td>\n",
       "      <td>NaN</td>\n",
       "      <td>flektor.com</td>\n",
       "      <td>NaN</td>\n",
       "      <td>USA</td>\n",
       "      <td>0.0</td>\n",
       "      <td>0.0</td>\n",
       "      <td>0.0</td>\n",
       "      <td>0.0</td>\n",
       "    </tr>\n",
       "    <tr>\n",
       "      <th>4</th>\n",
       "      <td>100.0</td>\n",
       "      <td>There</td>\n",
       "      <td>games_video</td>\n",
       "      <td>acquired</td>\n",
       "      <td>NaN</td>\n",
       "      <td>NaN</td>\n",
       "      <td>there.com</td>\n",
       "      <td>NaN</td>\n",
       "      <td>USA</td>\n",
       "      <td>0.0</td>\n",
       "      <td>0.0</td>\n",
       "      <td>0.0</td>\n",
       "      <td>4.0</td>\n",
       "    </tr>\n",
       "    <tr>\n",
       "      <th>5</th>\n",
       "      <td>10000.0</td>\n",
       "      <td>MYWEBBO</td>\n",
       "      <td>network_hosting</td>\n",
       "      <td>operating</td>\n",
       "      <td>2008-07-26</td>\n",
       "      <td>NaN</td>\n",
       "      <td>mywebbo.com</td>\n",
       "      <td>NaN</td>\n",
       "      <td>NaN</td>\n",
       "      <td>0.0</td>\n",
       "      <td>0.0</td>\n",
       "      <td>0.0</td>\n",
       "      <td>0.0</td>\n",
       "    </tr>\n",
       "    <tr>\n",
       "      <th>6</th>\n",
       "      <td>10001.0</td>\n",
       "      <td>THE Movie Streamer</td>\n",
       "      <td>games_video</td>\n",
       "      <td>operating</td>\n",
       "      <td>2008-07-26</td>\n",
       "      <td>NaN</td>\n",
       "      <td>themoviestreamer.com</td>\n",
       "      <td>NaN</td>\n",
       "      <td>NaN</td>\n",
       "      <td>0.0</td>\n",
       "      <td>0.0</td>\n",
       "      <td>0.0</td>\n",
       "      <td>0.0</td>\n",
       "    </tr>\n",
       "  </tbody>\n",
       "</table>\n",
       "</div>"
      ],
      "text/plain": [
       "   company.id                name    category_code     status  founded_at  \\\n",
       "0         1.0            Wetpaint              web  operating  2005-10-17   \n",
       "3        10.0             Flektor      games_video   acquired         NaN   \n",
       "4       100.0               There      games_video   acquired         NaN   \n",
       "5     10000.0             MYWEBBO  network_hosting  operating  2008-07-26   \n",
       "6     10001.0  THE Movie Streamer      games_video  operating  2008-07-26   \n",
       "\n",
       "  closed_at                domain network_user_name country_code  \\\n",
       "0       NaN      wetpaint-inc.com   BachelrWetpaint          USA   \n",
       "3       NaN           flektor.com               NaN          USA   \n",
       "4       NaN             there.com               NaN          USA   \n",
       "5       NaN           mywebbo.com               NaN          NaN   \n",
       "6       NaN  themoviestreamer.com               NaN          NaN   \n",
       "\n",
       "   investment_rounds  funding_rounds  funding_total  milestones  \n",
       "0                0.0             3.0     39750000.0         5.0  \n",
       "3                0.0             0.0            0.0         0.0  \n",
       "4                0.0             0.0            0.0         4.0  \n",
       "5                0.0             0.0            0.0         0.0  \n",
       "6                0.0             0.0            0.0         0.0  "
      ]
     },
     "execution_count": 56,
     "metadata": {},
     "output_type": "execute_result"
    }
   ],
   "source": [
    "companies_df.head()\n"
   ]
  },
  {
   "cell_type": "code",
   "execution_count": 57,
   "metadata": {},
   "outputs": [
    {
     "name": "stdout",
     "output_type": "stream",
     "text": [
      "<class 'pandas.core.frame.DataFrame'>\n",
      "Int64Index: 196554 entries, 0 to 217472\n",
      "Data columns (total 13 columns):\n",
      " #   Column             Non-Null Count   Dtype  \n",
      "---  ------             --------------   -----  \n",
      " 0   company.id         196553 non-null  float64\n",
      " 1   name               196553 non-null  object \n",
      " 2   category_code      123186 non-null  object \n",
      " 3   status             196553 non-null  object \n",
      " 4   founded_at         91227 non-null   object \n",
      " 5   closed_at          2620 non-null    object \n",
      " 6   domain             126545 non-null  object \n",
      " 7   network_user_name  80591 non-null   object \n",
      " 8   country_code       87990 non-null   object \n",
      " 9   investment_rounds  196553 non-null  float64\n",
      " 10  funding_rounds     196553 non-null  float64\n",
      " 11  funding_total      196553 non-null  float64\n",
      " 12  milestones         196553 non-null  float64\n",
      "dtypes: float64(5), object(8)\n",
      "memory usage: 21.0+ MB\n"
     ]
    }
   ],
   "source": [
    "companies_df.info()"
   ]
  },
  {
   "cell_type": "code",
   "execution_count": 58,
   "metadata": {},
   "outputs": [
    {
     "data": {
      "text/html": [
       "<div>\n",
       "<style scoped>\n",
       "    .dataframe tbody tr th:only-of-type {\n",
       "        vertical-align: middle;\n",
       "    }\n",
       "\n",
       "    .dataframe tbody tr th {\n",
       "        vertical-align: top;\n",
       "    }\n",
       "\n",
       "    .dataframe thead th {\n",
       "        text-align: right;\n",
       "    }\n",
       "</style>\n",
       "<table border=\"1\" class=\"dataframe\">\n",
       "  <thead>\n",
       "    <tr style=\"text-align: right;\">\n",
       "      <th></th>\n",
       "      <th>company_id</th>\n",
       "      <th>investment_rounds</th>\n",
       "      <th>funding_rounds</th>\n",
       "      <th>funding_total</th>\n",
       "      <th>milestones</th>\n",
       "      <th>funded_at</th>\n",
       "      <th>funding_round_type</th>\n",
       "      <th>raised_amount</th>\n",
       "      <th>pre_money_valuation</th>\n",
       "      <th>participants</th>\n",
       "      <th>is_first_round</th>\n",
       "      <th>is_last_round</th>\n",
       "    </tr>\n",
       "  </thead>\n",
       "  <tbody>\n",
       "    <tr>\n",
       "      <th>0</th>\n",
       "      <td>1.0</td>\n",
       "      <td>0.0</td>\n",
       "      <td>3.0</td>\n",
       "      <td>39750000.0</td>\n",
       "      <td>5.0</td>\n",
       "      <td>2005-10-01</td>\n",
       "      <td>series-a</td>\n",
       "      <td>5250000.0</td>\n",
       "      <td>0.0</td>\n",
       "      <td>2.0</td>\n",
       "      <td>False</td>\n",
       "      <td>True</td>\n",
       "    </tr>\n",
       "    <tr>\n",
       "      <th>1</th>\n",
       "      <td>1.0</td>\n",
       "      <td>0.0</td>\n",
       "      <td>3.0</td>\n",
       "      <td>39750000.0</td>\n",
       "      <td>5.0</td>\n",
       "      <td>2007-01-01</td>\n",
       "      <td>series-b</td>\n",
       "      <td>9500000.0</td>\n",
       "      <td>0.0</td>\n",
       "      <td>3.0</td>\n",
       "      <td>False</td>\n",
       "      <td>False</td>\n",
       "    </tr>\n",
       "    <tr>\n",
       "      <th>2</th>\n",
       "      <td>1.0</td>\n",
       "      <td>0.0</td>\n",
       "      <td>3.0</td>\n",
       "      <td>39750000.0</td>\n",
       "      <td>5.0</td>\n",
       "      <td>2008-05-19</td>\n",
       "      <td>series-c+</td>\n",
       "      <td>25000000.0</td>\n",
       "      <td>0.0</td>\n",
       "      <td>4.0</td>\n",
       "      <td>True</td>\n",
       "      <td>False</td>\n",
       "    </tr>\n",
       "    <tr>\n",
       "      <th>3</th>\n",
       "      <td>NaN</td>\n",
       "      <td>0.0</td>\n",
       "      <td>0.0</td>\n",
       "      <td>0.0</td>\n",
       "      <td>0.0</td>\n",
       "      <td>NaT</td>\n",
       "      <td>NaN</td>\n",
       "      <td>NaN</td>\n",
       "      <td>NaN</td>\n",
       "      <td>NaN</td>\n",
       "      <td>True</td>\n",
       "      <td>True</td>\n",
       "    </tr>\n",
       "    <tr>\n",
       "      <th>4</th>\n",
       "      <td>NaN</td>\n",
       "      <td>0.0</td>\n",
       "      <td>0.0</td>\n",
       "      <td>0.0</td>\n",
       "      <td>4.0</td>\n",
       "      <td>NaT</td>\n",
       "      <td>NaN</td>\n",
       "      <td>NaN</td>\n",
       "      <td>NaN</td>\n",
       "      <td>NaN</td>\n",
       "      <td>True</td>\n",
       "      <td>True</td>\n",
       "    </tr>\n",
       "  </tbody>\n",
       "</table>\n",
       "</div>"
      ],
      "text/plain": [
       "   company_id  investment_rounds  funding_rounds  funding_total  milestones  \\\n",
       "0         1.0                0.0             3.0     39750000.0         5.0   \n",
       "1         1.0                0.0             3.0     39750000.0         5.0   \n",
       "2         1.0                0.0             3.0     39750000.0         5.0   \n",
       "3         NaN                0.0             0.0            0.0         0.0   \n",
       "4         NaN                0.0             0.0            0.0         4.0   \n",
       "\n",
       "   funded_at funding_round_type  raised_amount  pre_money_valuation   \\\n",
       "0 2005-10-01           series-a      5250000.0                   0.0   \n",
       "1 2007-01-01           series-b      9500000.0                   0.0   \n",
       "2 2008-05-19          series-c+     25000000.0                   0.0   \n",
       "3        NaT                NaN            NaN                   NaN   \n",
       "4        NaT                NaN            NaN                   NaN   \n",
       "\n",
       "   participants  is_first_round  is_last_round  \n",
       "0           2.0           False           True  \n",
       "1           3.0           False          False  \n",
       "2           4.0            True          False  \n",
       "3           NaN            True           True  \n",
       "4           NaN            True           True  "
      ]
     },
     "execution_count": 58,
     "metadata": {},
     "output_type": "execute_result"
    }
   ],
   "source": [
    "rounds_df.head()"
   ]
  },
  {
   "cell_type": "code",
   "execution_count": 59,
   "metadata": {},
   "outputs": [
    {
     "name": "stdout",
     "output_type": "stream",
     "text": [
      "<class 'pandas.core.frame.DataFrame'>\n",
      "Int64Index: 52943 entries, 0 to 217773\n",
      "Data columns (total 12 columns):\n",
      " #   Column                Non-Null Count  Dtype         \n",
      "---  ------                --------------  -----         \n",
      " 0   company_id            52852 non-null  float64       \n",
      " 1   investment_rounds     52642 non-null  float64       \n",
      " 2   funding_rounds        52642 non-null  float64       \n",
      " 3   funding_total         52642 non-null  float64       \n",
      " 4   milestones            52642 non-null  float64       \n",
      " 5   funded_at             52606 non-null  datetime64[ns]\n",
      " 6   funding_round_type    52852 non-null  object        \n",
      " 7   raised_amount         52852 non-null  float64       \n",
      " 8   pre_money_valuation   52852 non-null  float64       \n",
      " 9   participants          52852 non-null  float64       \n",
      " 10  is_first_round        52943 non-null  bool          \n",
      " 11  is_last_round         52943 non-null  bool          \n",
      "dtypes: bool(2), datetime64[ns](1), float64(8), object(1)\n",
      "memory usage: 4.5+ MB\n"
     ]
    }
   ],
   "source": [
    "rounds_df.info()"
   ]
  },
  {
   "cell_type": "markdown",
   "metadata": {},
   "source": [
    "Скорее всего company_rounds была получена в результате объединения двух меньших таблиц, поэтому было принято решение разбить ее на две companies_df  и rounds_df, где каждая строка это 1 компания, а столбцы содержат только нужныю информацию"
   ]
  },
  {
   "cell_type": "markdown",
   "metadata": {
    "id": "bmVYhphNrJg2"
   },
   "source": [
    "\n",
    "## Шаг 3. Исследовательский анализ объединённых таблиц\n",
    "\n",
    "> Приступите к шагу 3 после проверки ревьюера.\n",
    "\n",
    "<big>Студентам нужно чётко сказать - проверять дальше или не проверять.</big>"
   ]
  },
  {
   "cell_type": "markdown",
   "metadata": {
    "id": "3Di6tCT3rJg2"
   },
   "source": [
    "\n",
    "### 3.1. Объединение данных\n",
    "\n",
    "Объедините данные для ответа на вопросы заказчика, которые касаются интересующих его компаний. Заказчика прежде всего интересуют те компании, которые меняли или готовы менять владельцев. Получение инвестиций или финансирования, по мнению заказчика, означает интерес к покупке или продаже компании.\n",
    "\n",
    "В качестве основы для объединённой таблицы возять данные из обработанного датасета `company_and_rounds.csv` — выбрать только те компании, у которых указаны значения `funding_rounds` или `investment_rounds` больше нуля, или те, у которых в колонке `status` указано `acquired`. В результирующей таблице должно получиться порядка 40 тысяч компаний.\n",
    "\n",
    "Проверить полноту и корректность получившейся таблицы. Далее работать только с этими данными."
   ]
  },
  {
   "cell_type": "code",
   "execution_count": 60,
   "metadata": {
    "id": "kuV1b5MXFg3_"
   },
   "outputs": [],
   "source": [
    "filtered_df = companies_df[(companies_df['funding_rounds'] > 0) | (companies_df['investment_rounds'] > 0) | (companies_df['status'] == 'acquired')]\n"
   ]
  },
  {
   "cell_type": "code",
   "execution_count": 61,
   "metadata": {
    "id": "93v3fEX5FgtP"
   },
   "outputs": [
    {
     "name": "stdout",
     "output_type": "stream",
     "text": [
      "<class 'pandas.core.frame.DataFrame'>\n",
      "Int64Index: 40747 entries, 0 to 217469\n",
      "Data columns (total 13 columns):\n",
      " #   Column             Non-Null Count  Dtype  \n",
      "---  ------             --------------  -----  \n",
      " 0   company.id         40747 non-null  float64\n",
      " 1   name               40747 non-null  object \n",
      " 2   category_code      35315 non-null  object \n",
      " 3   status             40747 non-null  object \n",
      " 4   founded_at         27807 non-null  object \n",
      " 5   closed_at          2128 non-null   object \n",
      " 6   domain             35754 non-null  object \n",
      " 7   network_user_name  20850 non-null  object \n",
      " 8   country_code       34742 non-null  object \n",
      " 9   investment_rounds  40747 non-null  float64\n",
      " 10  funding_rounds     40747 non-null  float64\n",
      " 11  funding_total      40747 non-null  float64\n",
      " 12  milestones         40747 non-null  float64\n",
      "dtypes: float64(5), object(8)\n",
      "memory usage: 4.4+ MB\n"
     ]
    }
   ],
   "source": [
    "filtered_df.info()"
   ]
  },
  {
   "cell_type": "markdown",
   "metadata": {},
   "source": [
    "Датасет с которым теперь предстоит работать filtered_df, в нем 40747 строк и 13 столбцов."
   ]
  },
  {
   "cell_type": "markdown",
   "metadata": {
    "id": "DFHINkV3rJg2"
   },
   "source": [
    "\n",
    "### 3.2. Анализ выбросов\n",
    "\n",
    "Заказчика интересует обычный для рассматриваемого периода размер средств, который предоставлялся компаниям.\n",
    "\n",
    "- По предобработанному столбцу `funding_total` графическим способом оценить, какой размер общего финансирования для одной компании будет типичным, а какой — выбивающимся.\n",
    "- В процессе расчёта значений обратить внимание, например, на показатели, возвращаемые методом `.describe()`, — объясните их. Применимы ли к таким данным обычные способы нахождения типичных значений?"
   ]
  },
  {
   "cell_type": "code",
   "execution_count": 62,
   "metadata": {
    "id": "8jm75fKXrJg2",
    "vscode": {
     "languageId": "plaintext"
    }
   },
   "outputs": [
    {
     "data": {
      "image/png": "[encoded data removed]",
      "text/plain": [
       "<Figure size 720x432 with 1 Axes>"
      ]
     },
     "metadata": {
      "needs_background": "light"
     },
     "output_type": "display_data"
    }
   ],
   "source": [
    "# Построение гистограммы с логарифмической шкалой\n",
    "plt.figure(figsize=(10, 6))\n",
    "plt.hist(filtered_df['funding_total'], bins=20, color='blue', edgecolor='black', log=True)\n",
    "plt.title('Распределение общего финансирования (логарифмическая шкала)')\n",
    "plt.xlabel('Сумма финансирования')\n",
    "plt.ylabel('Количество компаний')\n",
    "plt.grid(axis='y', alpha=0.75)\n",
    "\n",
    "\n",
    "\n",
    "plt.show()"
   ]
  },
  {
   "cell_type": "code",
   "execution_count": 63,
   "metadata": {
    "id": "S1jrfr7rFhcw"
   },
   "outputs": [
    {
     "data": {
      "text/html": [
       "<div>\n",
       "<style scoped>\n",
       "    .dataframe tbody tr th:only-of-type {\n",
       "        vertical-align: middle;\n",
       "    }\n",
       "\n",
       "    .dataframe tbody tr th {\n",
       "        vertical-align: top;\n",
       "    }\n",
       "\n",
       "    .dataframe thead th {\n",
       "        text-align: right;\n",
       "    }\n",
       "</style>\n",
       "<table border=\"1\" class=\"dataframe\">\n",
       "  <thead>\n",
       "    <tr style=\"text-align: right;\">\n",
       "      <th></th>\n",
       "      <th>company.id</th>\n",
       "      <th>investment_rounds</th>\n",
       "      <th>funding_rounds</th>\n",
       "      <th>funding_total</th>\n",
       "      <th>milestones</th>\n",
       "    </tr>\n",
       "  </thead>\n",
       "  <tbody>\n",
       "    <tr>\n",
       "      <th>count</th>\n",
       "      <td>40747.000000</td>\n",
       "      <td>40747.000000</td>\n",
       "      <td>40747.000000</td>\n",
       "      <td>4.074700e+04</td>\n",
       "      <td>40747.000000</td>\n",
       "    </tr>\n",
       "    <tr>\n",
       "      <th>mean</th>\n",
       "      <td>110555.896140</td>\n",
       "      <td>0.150833</td>\n",
       "      <td>1.291531</td>\n",
       "      <td>1.013561e+07</td>\n",
       "      <td>0.803151</td>\n",
       "    </tr>\n",
       "    <tr>\n",
       "      <th>std</th>\n",
       "      <td>90388.070107</td>\n",
       "      <td>3.123291</td>\n",
       "      <td>1.264604</td>\n",
       "      <td>5.646436e+07</td>\n",
       "      <td>1.003431</td>\n",
       "    </tr>\n",
       "    <tr>\n",
       "      <th>min</th>\n",
       "      <td>1.000000</td>\n",
       "      <td>0.000000</td>\n",
       "      <td>0.000000</td>\n",
       "      <td>0.000000e+00</td>\n",
       "      <td>0.000000</td>\n",
       "    </tr>\n",
       "    <tr>\n",
       "      <th>25%</th>\n",
       "      <td>33863.500000</td>\n",
       "      <td>0.000000</td>\n",
       "      <td>1.000000</td>\n",
       "      <td>0.000000e+00</td>\n",
       "      <td>0.000000</td>\n",
       "    </tr>\n",
       "    <tr>\n",
       "      <th>50%</th>\n",
       "      <td>69583.000000</td>\n",
       "      <td>0.000000</td>\n",
       "      <td>1.000000</td>\n",
       "      <td>6.000000e+05</td>\n",
       "      <td>1.000000</td>\n",
       "    </tr>\n",
       "    <tr>\n",
       "      <th>75%</th>\n",
       "      <td>184744.500000</td>\n",
       "      <td>0.000000</td>\n",
       "      <td>2.000000</td>\n",
       "      <td>5.650650e+06</td>\n",
       "      <td>1.000000</td>\n",
       "    </tr>\n",
       "    <tr>\n",
       "      <th>max</th>\n",
       "      <td>286215.000000</td>\n",
       "      <td>478.000000</td>\n",
       "      <td>15.000000</td>\n",
       "      <td>5.700000e+09</td>\n",
       "      <td>9.000000</td>\n",
       "    </tr>\n",
       "  </tbody>\n",
       "</table>\n",
       "</div>"
      ],
      "text/plain": [
       "          company.id  investment_rounds  funding_rounds  funding_total  \\\n",
       "count   40747.000000       40747.000000    40747.000000   4.074700e+04   \n",
       "mean   110555.896140           0.150833        1.291531   1.013561e+07   \n",
       "std     90388.070107           3.123291        1.264604   5.646436e+07   \n",
       "min         1.000000           0.000000        0.000000   0.000000e+00   \n",
       "25%     33863.500000           0.000000        1.000000   0.000000e+00   \n",
       "50%     69583.000000           0.000000        1.000000   6.000000e+05   \n",
       "75%    184744.500000           0.000000        2.000000   5.650650e+06   \n",
       "max    286215.000000         478.000000       15.000000   5.700000e+09   \n",
       "\n",
       "         milestones  \n",
       "count  40747.000000  \n",
       "mean       0.803151  \n",
       "std        1.003431  \n",
       "min        0.000000  \n",
       "25%        0.000000  \n",
       "50%        1.000000  \n",
       "75%        1.000000  \n",
       "max        9.000000  "
      ]
     },
     "execution_count": 63,
     "metadata": {},
     "output_type": "execute_result"
    }
   ],
   "source": [
    "filtered_df.describe()"
   ]
  },
  {
   "cell_type": "code",
   "execution_count": 64,
   "metadata": {},
   "outputs": [
    {
     "data": {
      "image/png": "[encoded data removed]",
      "text/plain": [
       "<Figure size 720x432 with 1 Axes>"
      ]
     },
     "metadata": {
      "needs_background": "light"
     },
     "output_type": "display_data"
    }
   ],
   "source": [
    "plt.figure(figsize=(10, 6))\n",
    "plt.boxplot(filtered_df['funding_total'], vert=False, whis=[5, 95])\n",
    "plt.title('Распределение общего финансирования')\n",
    "plt.xlabel('Сумма финансирования')\n",
    "plt.grid(axis='y', alpha=0.75)\n",
    "plt.show()"
   ]
  },
  {
   "cell_type": "markdown",
   "metadata": {},
   "source": [
    "Обычные способы нахождения типичных значений (среднее, медиана) могут быть применимы, но нужно учитывать распределение данных. Судя по высоким значениям стандартного отклонения и большой разнице между средним и медианой в некоторых столбцах, данные могут быть сильно искажены выбросами. В таких случаях медиана и процентили могут быть более информативными показателями типичности, чем среднее значение."
   ]
  },
  {
   "cell_type": "markdown",
   "metadata": {
    "id": "JqkRAQrIrJg2"
   },
   "source": [
    "\n",
    "### 3.3. Куплены забесплатно?\n",
    "\n",
    "- Исследовать компании, которые были проданы за ноль или за один доллар, и при этом известно, что у них был ненулевой общий объём финансирования.\n",
    "\n",
    "- Рассчитайть аналитически верхнюю и нижнюю границу выбросов для столбца `funding_total` и укажите, каким процентилям границы соответствуют."
   ]
  },
  {
   "cell_type": "code",
   "execution_count": 65,
   "metadata": {},
   "outputs": [
    {
     "name": "stdout",
     "output_type": "stream",
     "text": [
      "<class 'pandas.core.frame.DataFrame'>\n",
      "Int64Index: 40747 entries, 0 to 217469\n",
      "Data columns (total 13 columns):\n",
      " #   Column             Non-Null Count  Dtype  \n",
      "---  ------             --------------  -----  \n",
      " 0   company.id         40747 non-null  float64\n",
      " 1   name               40747 non-null  object \n",
      " 2   category_code      35315 non-null  object \n",
      " 3   status             40747 non-null  object \n",
      " 4   founded_at         27807 non-null  object \n",
      " 5   closed_at          2128 non-null   object \n",
      " 6   domain             35754 non-null  object \n",
      " 7   network_user_name  20850 non-null  object \n",
      " 8   country_code       34742 non-null  object \n",
      " 9   investment_rounds  40747 non-null  float64\n",
      " 10  funding_rounds     40747 non-null  float64\n",
      " 11  funding_total      40747 non-null  float64\n",
      " 12  milestones         40747 non-null  float64\n",
      "dtypes: float64(5), object(8)\n",
      "memory usage: 4.4+ MB\n"
     ]
    }
   ],
   "source": [
    "filtered_df.info()"
   ]
  },
  {
   "cell_type": "code",
   "execution_count": 66,
   "metadata": {},
   "outputs": [
    {
     "name": "stdout",
     "output_type": "stream",
     "text": [
      "<class 'pandas.core.frame.DataFrame'>\n",
      "RangeIndex: 9407 entries, 0 to 9406\n",
      "Data columns (total 6 columns):\n",
      " #   Column                Non-Null Count  Dtype         \n",
      "---  ------                --------------  -----         \n",
      " 0   id                    9407 non-null   int64         \n",
      " 1   acquiring_company_id  9407 non-null   int64         \n",
      " 2   acquired_company_id   9407 non-null   int64         \n",
      " 3   term_code             1831 non-null   object        \n",
      " 4   price_amount          9407 non-null   int64         \n",
      " 5   acquired_at           9378 non-null   datetime64[ns]\n",
      "dtypes: datetime64[ns](1), int64(4), object(1)\n",
      "memory usage: 441.1+ KB\n"
     ]
    }
   ],
   "source": [
    "#Выведем таблицу acquisition.\n",
    "acquisition_df.info()"
   ]
  },
  {
   "cell_type": "code",
   "execution_count": 67,
   "metadata": {},
   "outputs": [
    {
     "data": {
      "text/html": [
       "<div>\n",
       "<style scoped>\n",
       "    .dataframe tbody tr th:only-of-type {\n",
       "        vertical-align: middle;\n",
       "    }\n",
       "\n",
       "    .dataframe tbody tr th {\n",
       "        vertical-align: top;\n",
       "    }\n",
       "\n",
       "    .dataframe thead th {\n",
       "        text-align: right;\n",
       "    }\n",
       "</style>\n",
       "<table border=\"1\" class=\"dataframe\">\n",
       "  <thead>\n",
       "    <tr style=\"text-align: right;\">\n",
       "      <th></th>\n",
       "      <th>id</th>\n",
       "      <th>acquiring_company_id</th>\n",
       "      <th>acquired_company_id</th>\n",
       "      <th>term_code</th>\n",
       "      <th>price_amount</th>\n",
       "      <th>acquired_at</th>\n",
       "      <th>company.id</th>\n",
       "      <th>name</th>\n",
       "      <th>category_code</th>\n",
       "      <th>status</th>\n",
       "      <th>founded_at</th>\n",
       "      <th>closed_at</th>\n",
       "      <th>domain</th>\n",
       "      <th>network_user_name</th>\n",
       "      <th>country_code</th>\n",
       "      <th>investment_rounds</th>\n",
       "      <th>funding_rounds</th>\n",
       "      <th>funding_total</th>\n",
       "      <th>milestones</th>\n",
       "    </tr>\n",
       "  </thead>\n",
       "  <tbody>\n",
       "    <tr>\n",
       "      <th>0</th>\n",
       "      <td>14</td>\n",
       "      <td>318</td>\n",
       "      <td>314</td>\n",
       "      <td>cash</td>\n",
       "      <td>0</td>\n",
       "      <td>2006-10-01</td>\n",
       "      <td>314.0</td>\n",
       "      <td>Reddit</td>\n",
       "      <td>web</td>\n",
       "      <td>acquired</td>\n",
       "      <td>2005-01-01</td>\n",
       "      <td>NaN</td>\n",
       "      <td>reddit.com</td>\n",
       "      <td>reddit</td>\n",
       "      <td>USA</td>\n",
       "      <td>0.0</td>\n",
       "      <td>1.0</td>\n",
       "      <td>100000.0</td>\n",
       "      <td>3.0</td>\n",
       "    </tr>\n",
       "    <tr>\n",
       "      <th>1</th>\n",
       "      <td>65</td>\n",
       "      <td>146</td>\n",
       "      <td>698</td>\n",
       "      <td>cash</td>\n",
       "      <td>0</td>\n",
       "      <td>2007-08-01</td>\n",
       "      <td>698.0</td>\n",
       "      <td>Maya's Mom</td>\n",
       "      <td>web</td>\n",
       "      <td>acquired</td>\n",
       "      <td>NaN</td>\n",
       "      <td>NaN</td>\n",
       "      <td>mayasmom.com</td>\n",
       "      <td>NaN</td>\n",
       "      <td>USA</td>\n",
       "      <td>0.0</td>\n",
       "      <td>1.0</td>\n",
       "      <td>1000000.0</td>\n",
       "      <td>2.0</td>\n",
       "    </tr>\n",
       "    <tr>\n",
       "      <th>2</th>\n",
       "      <td>67</td>\n",
       "      <td>156</td>\n",
       "      <td>718</td>\n",
       "      <td>cash</td>\n",
       "      <td>0</td>\n",
       "      <td>2007-08-01</td>\n",
       "      <td>718.0</td>\n",
       "      <td>Glimpse</td>\n",
       "      <td>ecommerce</td>\n",
       "      <td>acquired</td>\n",
       "      <td>NaN</td>\n",
       "      <td>NaN</td>\n",
       "      <td>glimpse.com</td>\n",
       "      <td>NaN</td>\n",
       "      <td>USA</td>\n",
       "      <td>0.0</td>\n",
       "      <td>1.0</td>\n",
       "      <td>4000000.0</td>\n",
       "      <td>0.0</td>\n",
       "    </tr>\n",
       "    <tr>\n",
       "      <th>3</th>\n",
       "      <td>87</td>\n",
       "      <td>1035</td>\n",
       "      <td>175</td>\n",
       "      <td>cash</td>\n",
       "      <td>0</td>\n",
       "      <td>2007-10-01</td>\n",
       "      <td>175.0</td>\n",
       "      <td>Newsvine</td>\n",
       "      <td>web</td>\n",
       "      <td>acquired</td>\n",
       "      <td>2005-03-31</td>\n",
       "      <td>NaN</td>\n",
       "      <td>newsvine.com</td>\n",
       "      <td>NaN</td>\n",
       "      <td>USA</td>\n",
       "      <td>0.0</td>\n",
       "      <td>1.0</td>\n",
       "      <td>1250000.0</td>\n",
       "      <td>0.0</td>\n",
       "    </tr>\n",
       "    <tr>\n",
       "      <th>4</th>\n",
       "      <td>115</td>\n",
       "      <td>396</td>\n",
       "      <td>1582</td>\n",
       "      <td>cash</td>\n",
       "      <td>0</td>\n",
       "      <td>2007-12-01</td>\n",
       "      <td>1582.0</td>\n",
       "      <td>BeliefNet</td>\n",
       "      <td>web</td>\n",
       "      <td>acquired</td>\n",
       "      <td>2008-01-01</td>\n",
       "      <td>NaN</td>\n",
       "      <td>beliefnet.com</td>\n",
       "      <td>eliefnet</td>\n",
       "      <td>USA</td>\n",
       "      <td>0.0</td>\n",
       "      <td>1.0</td>\n",
       "      <td>7000000.0</td>\n",
       "      <td>3.0</td>\n",
       "    </tr>\n",
       "    <tr>\n",
       "      <th>...</th>\n",
       "      <td>...</td>\n",
       "      <td>...</td>\n",
       "      <td>...</td>\n",
       "      <td>...</td>\n",
       "      <td>...</td>\n",
       "      <td>...</td>\n",
       "      <td>...</td>\n",
       "      <td>...</td>\n",
       "      <td>...</td>\n",
       "      <td>...</td>\n",
       "      <td>...</td>\n",
       "      <td>...</td>\n",
       "      <td>...</td>\n",
       "      <td>...</td>\n",
       "      <td>...</td>\n",
       "      <td>...</td>\n",
       "      <td>...</td>\n",
       "      <td>...</td>\n",
       "      <td>...</td>\n",
       "    </tr>\n",
       "    <tr>\n",
       "      <th>1613</th>\n",
       "      <td>10481</td>\n",
       "      <td>29</td>\n",
       "      <td>165128</td>\n",
       "      <td>NaN</td>\n",
       "      <td>0</td>\n",
       "      <td>2013-12-06</td>\n",
       "      <td>165128.0</td>\n",
       "      <td>EvntLive</td>\n",
       "      <td>music</td>\n",
       "      <td>acquired</td>\n",
       "      <td>NaN</td>\n",
       "      <td>NaN</td>\n",
       "      <td>evntliveinc.com</td>\n",
       "      <td>EVNTLIVE</td>\n",
       "      <td>USA</td>\n",
       "      <td>0.0</td>\n",
       "      <td>1.0</td>\n",
       "      <td>2300000.0</td>\n",
       "      <td>2.0</td>\n",
       "    </tr>\n",
       "    <tr>\n",
       "      <th>1614</th>\n",
       "      <td>10500</td>\n",
       "      <td>42365</td>\n",
       "      <td>79582</td>\n",
       "      <td>NaN</td>\n",
       "      <td>0</td>\n",
       "      <td>2013-12-10</td>\n",
       "      <td>79582.0</td>\n",
       "      <td>lucierna</td>\n",
       "      <td>software</td>\n",
       "      <td>acquired</td>\n",
       "      <td>2009-05-22</td>\n",
       "      <td>NaN</td>\n",
       "      <td>lucierna.com</td>\n",
       "      <td>lucierna_inc</td>\n",
       "      <td>ESP</td>\n",
       "      <td>0.0</td>\n",
       "      <td>1.0</td>\n",
       "      <td>2106600.0</td>\n",
       "      <td>0.0</td>\n",
       "    </tr>\n",
       "    <tr>\n",
       "      <th>1615</th>\n",
       "      <td>10503</td>\n",
       "      <td>1434</td>\n",
       "      <td>60436</td>\n",
       "      <td>NaN</td>\n",
       "      <td>0</td>\n",
       "      <td>2013-12-10</td>\n",
       "      <td>60436.0</td>\n",
       "      <td>Cloudmeter</td>\n",
       "      <td>enterprise</td>\n",
       "      <td>acquired</td>\n",
       "      <td>2007-04-01</td>\n",
       "      <td>NaN</td>\n",
       "      <td>cloudmeter.com</td>\n",
       "      <td>cloudmeter</td>\n",
       "      <td>USA</td>\n",
       "      <td>0.0</td>\n",
       "      <td>1.0</td>\n",
       "      <td>5000000.0</td>\n",
       "      <td>2.0</td>\n",
       "    </tr>\n",
       "    <tr>\n",
       "      <th>1616</th>\n",
       "      <td>10507</td>\n",
       "      <td>29</td>\n",
       "      <td>169154</td>\n",
       "      <td>NaN</td>\n",
       "      <td>0</td>\n",
       "      <td>2013-12-09</td>\n",
       "      <td>169154.0</td>\n",
       "      <td>Quik.io</td>\n",
       "      <td>software</td>\n",
       "      <td>acquired</td>\n",
       "      <td>2011-02-03</td>\n",
       "      <td>NaN</td>\n",
       "      <td>quik.io</td>\n",
       "      <td>quik_io</td>\n",
       "      <td>USA</td>\n",
       "      <td>0.0</td>\n",
       "      <td>2.0</td>\n",
       "      <td>1280000.0</td>\n",
       "      <td>2.0</td>\n",
       "    </tr>\n",
       "    <tr>\n",
       "      <th>1617</th>\n",
       "      <td>10513</td>\n",
       "      <td>43761</td>\n",
       "      <td>43761</td>\n",
       "      <td>NaN</td>\n",
       "      <td>0</td>\n",
       "      <td>2011-11-22</td>\n",
       "      <td>43761.0</td>\n",
       "      <td>Excaliard Pharmaceuticals</td>\n",
       "      <td>biotech</td>\n",
       "      <td>acquired</td>\n",
       "      <td>NaN</td>\n",
       "      <td>NaN</td>\n",
       "      <td>excaliard.com</td>\n",
       "      <td>NaN</td>\n",
       "      <td>USA</td>\n",
       "      <td>0.0</td>\n",
       "      <td>1.0</td>\n",
       "      <td>15500000.0</td>\n",
       "      <td>0.0</td>\n",
       "    </tr>\n",
       "  </tbody>\n",
       "</table>\n",
       "<p>1618 rows × 19 columns</p>\n",
       "</div>"
      ],
      "text/plain": [
       "         id  acquiring_company_id  acquired_company_id term_code  \\\n",
       "0        14                   318                  314      cash   \n",
       "1        65                   146                  698      cash   \n",
       "2        67                   156                  718      cash   \n",
       "3        87                  1035                  175      cash   \n",
       "4       115                   396                 1582      cash   \n",
       "...     ...                   ...                  ...       ...   \n",
       "1613  10481                    29               165128       NaN   \n",
       "1614  10500                 42365                79582       NaN   \n",
       "1615  10503                  1434                60436       NaN   \n",
       "1616  10507                    29               169154       NaN   \n",
       "1617  10513                 43761                43761       NaN   \n",
       "\n",
       "      price_amount acquired_at  company.id                       name  \\\n",
       "0                0  2006-10-01       314.0                     Reddit   \n",
       "1                0  2007-08-01       698.0                 Maya's Mom   \n",
       "2                0  2007-08-01       718.0                    Glimpse   \n",
       "3                0  2007-10-01       175.0                   Newsvine   \n",
       "4                0  2007-12-01      1582.0                  BeliefNet   \n",
       "...            ...         ...         ...                        ...   \n",
       "1613             0  2013-12-06    165128.0                   EvntLive   \n",
       "1614             0  2013-12-10     79582.0                   lucierna   \n",
       "1615             0  2013-12-10     60436.0                 Cloudmeter   \n",
       "1616             0  2013-12-09    169154.0                    Quik.io   \n",
       "1617             0  2011-11-22     43761.0  Excaliard Pharmaceuticals   \n",
       "\n",
       "     category_code    status  founded_at closed_at           domain  \\\n",
       "0              web  acquired  2005-01-01       NaN       reddit.com   \n",
       "1              web  acquired         NaN       NaN     mayasmom.com   \n",
       "2        ecommerce  acquired         NaN       NaN      glimpse.com   \n",
       "3              web  acquired  2005-03-31       NaN     newsvine.com   \n",
       "4              web  acquired  2008-01-01       NaN    beliefnet.com   \n",
       "...            ...       ...         ...       ...              ...   \n",
       "1613         music  acquired         NaN       NaN  evntliveinc.com   \n",
       "1614      software  acquired  2009-05-22       NaN     lucierna.com   \n",
       "1615    enterprise  acquired  2007-04-01       NaN   cloudmeter.com   \n",
       "1616      software  acquired  2011-02-03       NaN          quik.io   \n",
       "1617       biotech  acquired         NaN       NaN    excaliard.com   \n",
       "\n",
       "     network_user_name country_code  investment_rounds  funding_rounds  \\\n",
       "0               reddit          USA                0.0             1.0   \n",
       "1                  NaN          USA                0.0             1.0   \n",
       "2                  NaN          USA                0.0             1.0   \n",
       "3                  NaN          USA                0.0             1.0   \n",
       "4             eliefnet          USA                0.0             1.0   \n",
       "...                ...          ...                ...             ...   \n",
       "1613          EVNTLIVE          USA                0.0             1.0   \n",
       "1614      lucierna_inc          ESP                0.0             1.0   \n",
       "1615        cloudmeter          USA                0.0             1.0   \n",
       "1616           quik_io          USA                0.0             2.0   \n",
       "1617               NaN          USA                0.0             1.0   \n",
       "\n",
       "      funding_total  milestones  \n",
       "0          100000.0         3.0  \n",
       "1         1000000.0         2.0  \n",
       "2         4000000.0         0.0  \n",
       "3         1250000.0         0.0  \n",
       "4         7000000.0         3.0  \n",
       "...             ...         ...  \n",
       "1613      2300000.0         2.0  \n",
       "1614      2106600.0         0.0  \n",
       "1615      5000000.0         2.0  \n",
       "1616      1280000.0         2.0  \n",
       "1617     15500000.0         0.0  \n",
       "\n",
       "[1618 rows x 19 columns]"
      ]
     },
     "execution_count": 67,
     "metadata": {},
     "output_type": "execute_result"
    }
   ],
   "source": [
    "#Фильтруем компании, где цена составляла 1 доллар или меньше\n",
    "zero_dollar_companies = acquisition_df[acquisition_df['price_amount'] <=1]\n",
    "#Фильтруем компании, где  был ненулевой общий объём финансирования.\n",
    "filtered_df_not_null = filtered_df[(filtered_df['funding_total'] != 0)]\n",
    "zero_dollar_filtered_df = pd.merge(zero_dollar_companies, filtered_df_not_null, left_on = 'acquired_company_id', right_on = 'company.id')\n",
    "zero_dollar_filtered_df"
   ]
  },
  {
   "cell_type": "code",
   "execution_count": 68,
   "metadata": {},
   "outputs": [
    {
     "name": "stdout",
     "output_type": "stream",
     "text": [
      "Верхний ус: 35150000.0\n",
      "Нижний ус: 3750.0\n",
      "25-й процентиль: 2000000.0\n",
      "75-й процентиль: 15500000.0\n",
      "Нижняя граница: -18250000.0\n",
      "Верхняя граница: 35750000.0\n"
     ]
    }
   ],
   "source": [
    "# Расчет границ выбросов\n",
    "Q1 = zero_dollar_filtered_df['funding_total'].quantile(0.25)\n",
    "Q3 = zero_dollar_filtered_df['funding_total'].quantile(0.75)\n",
    "IQR = Q3 - Q1\n",
    "\n",
    "# Определяем пороги выбросов\n",
    "lower_bound = Q1 - 1.5 * IQR\n",
    "upper_bound = Q3 + 1.5 * IQR\n",
    "\n",
    "# Находим верхний ус (максимальное значение в пределах верхней границы)\n",
    "# Используем max() с проверкой на непустоту\n",
    "if not zero_dollar_filtered_df[\n",
    "    (zero_dollar_filtered_df['funding_total'] <= upper_bound)\n",
    "].empty:\n",
    "    upper_whisker = zero_dollar_filtered_df[\n",
    "        zero_dollar_filtered_df['funding_total'] <= upper_bound\n",
    "    ]['funding_total'].max()\n",
    "else:\n",
    "    upper_whisker = None\n",
    "\n",
    "# Находим нижний ус (минимальное значение в пределах нижней границы)\n",
    "# Учитывая, что нижняя граница отрицательная, берем минимум из положительных значений\n",
    "if not zero_dollar_filtered_df[\n",
    "    (zero_dollar_filtered_df['funding_total'] >= lower_bound)\n",
    "].empty:\n",
    "    lower_whisker = zero_dollar_filtered_df[\n",
    "        zero_dollar_filtered_df['funding_total'] >= lower_bound\n",
    "    ]['funding_total'].min()\n",
    "else:\n",
    "    lower_whisker = zero_dollar_filtered_df['funding_total'].min()\n",
    "\n",
    "print(f\"Верхний ус: {upper_whisker}\")\n",
    "print(f\"Нижний ус: {lower_whisker}\")\n",
    "print(f\"25-й процентиль: {Q1}\")\n",
    "print(f\"75-й процентиль: {Q3}\")\n",
    "print(f\"Нижняя граница: {lower_bound}\")\n",
    "print(f\"Верхняя граница: {upper_bound}\")"
   ]
  },
  {
   "cell_type": "markdown",
   "metadata": {},
   "source": [
    "Нижняя граница в размере -18 250 000 является результатом математического расчёта и не имеет практического значения по следующим причинам: \n",
    "- Сумма финансирования не может быть отрицательной. \n",
    "- Показатель funding_total отражает реальные денежные вложения.\n",
    "\n",
    "Пояснения к расчёту: Нижняя граница рассчитывается по формуле: Q1 - 1.5 * IQR. \n",
    "В данном случае Q1 (25-й процентиль) равен 2 000 000, а IQR (межквартильный размах) — 13 500 000. При таких значениях получается отрицательное число, что не имеет смысла в контексте реальных финансовых данных.\n"
   ]
  },
  {
   "cell_type": "markdown",
   "metadata": {
    "id": "mEiWpROjrJg2"
   },
   "source": [
    "\n",
    "### 3.4. Цены стартапов по категориям\n",
    "\n",
    "Категории стартапов с типично высокими ценами покупки стартапов и значительным разбросом цен могут быть привлекательными для крупных инвесторов, которые готовы к высоким рискам ради потенциально больших доходов. Среди категорий стартапов выделите категории стартапов, характеризующиеся:\n",
    "\n",
    "- типично высокими ценами;\n",
    "- и наибольшим разбросом цен за стартап.\n",
    "\n",
    "Объяснить, почему решили составить топ именно из такого числа категорий и почему рассчитывали именно так."
   ]
  },
  {
   "cell_type": "code",
   "execution_count": 69,
   "metadata": {},
   "outputs": [],
   "source": [
    "startups_df = pd.merge(acquisition_df, filtered_df, left_on = 'acquired_company_id', right_on = 'company.id')"
   ]
  },
  {
   "cell_type": "code",
   "execution_count": 70,
   "metadata": {},
   "outputs": [
    {
     "data": {
      "text/html": [
       "<div>\n",
       "<style scoped>\n",
       "    .dataframe tbody tr th:only-of-type {\n",
       "        vertical-align: middle;\n",
       "    }\n",
       "\n",
       "    .dataframe tbody tr th {\n",
       "        vertical-align: top;\n",
       "    }\n",
       "\n",
       "    .dataframe thead tr th {\n",
       "        text-align: left;\n",
       "    }\n",
       "\n",
       "    .dataframe thead tr:last-of-type th {\n",
       "        text-align: right;\n",
       "    }\n",
       "</style>\n",
       "<table border=\"1\" class=\"dataframe\">\n",
       "  <thead>\n",
       "    <tr>\n",
       "      <th></th>\n",
       "      <th colspan=\"4\" halign=\"left\">price_amount</th>\n",
       "    </tr>\n",
       "    <tr>\n",
       "      <th></th>\n",
       "      <th>mean</th>\n",
       "      <th>std</th>\n",
       "      <th>min</th>\n",
       "      <th>max</th>\n",
       "    </tr>\n",
       "    <tr>\n",
       "      <th>category_code</th>\n",
       "      <th></th>\n",
       "      <th></th>\n",
       "      <th></th>\n",
       "      <th></th>\n",
       "    </tr>\n",
       "  </thead>\n",
       "  <tbody>\n",
       "    <tr>\n",
       "      <th>advertising</th>\n",
       "      <td>6.946589e+07</td>\n",
       "      <td>2.799226e+08</td>\n",
       "      <td>0</td>\n",
       "      <td>3100000000</td>\n",
       "    </tr>\n",
       "    <tr>\n",
       "      <th>analytics</th>\n",
       "      <td>1.357500e+07</td>\n",
       "      <td>5.267164e+07</td>\n",
       "      <td>0</td>\n",
       "      <td>263000000</td>\n",
       "    </tr>\n",
       "    <tr>\n",
       "      <th>automotive</th>\n",
       "      <td>1.528600e+09</td>\n",
       "      <td>2.297758e+09</td>\n",
       "      <td>0</td>\n",
       "      <td>5200000000</td>\n",
       "    </tr>\n",
       "    <tr>\n",
       "      <th>biotech</th>\n",
       "      <td>4.263121e+08</td>\n",
       "      <td>1.540374e+09</td>\n",
       "      <td>0</td>\n",
       "      <td>20000000000</td>\n",
       "    </tr>\n",
       "    <tr>\n",
       "      <th>cleantech</th>\n",
       "      <td>1.621580e+08</td>\n",
       "      <td>5.522873e+08</td>\n",
       "      <td>0</td>\n",
       "      <td>3750000000</td>\n",
       "    </tr>\n",
       "    <tr>\n",
       "      <th>consulting</th>\n",
       "      <td>6.961104e+07</td>\n",
       "      <td>5.054814e+08</td>\n",
       "      <td>0</td>\n",
       "      <td>5750000000</td>\n",
       "    </tr>\n",
       "    <tr>\n",
       "      <th>design</th>\n",
       "      <td>0.000000e+00</td>\n",
       "      <td>0.000000e+00</td>\n",
       "      <td>0</td>\n",
       "      <td>0</td>\n",
       "    </tr>\n",
       "    <tr>\n",
       "      <th>ecommerce</th>\n",
       "      <td>4.391204e+07</td>\n",
       "      <td>1.512364e+08</td>\n",
       "      <td>0</td>\n",
       "      <td>1250000000</td>\n",
       "    </tr>\n",
       "    <tr>\n",
       "      <th>education</th>\n",
       "      <td>2.423909e+07</td>\n",
       "      <td>1.253642e+08</td>\n",
       "      <td>0</td>\n",
       "      <td>721000000</td>\n",
       "    </tr>\n",
       "    <tr>\n",
       "      <th>enterprise</th>\n",
       "      <td>6.464338e+09</td>\n",
       "      <td>1.280882e+11</td>\n",
       "      <td>0</td>\n",
       "      <td>2600000000000</td>\n",
       "    </tr>\n",
       "    <tr>\n",
       "      <th>fashion</th>\n",
       "      <td>5.113636e+07</td>\n",
       "      <td>9.574291e+07</td>\n",
       "      <td>0</td>\n",
       "      <td>270000000</td>\n",
       "    </tr>\n",
       "    <tr>\n",
       "      <th>finance</th>\n",
       "      <td>3.021988e+08</td>\n",
       "      <td>7.960985e+08</td>\n",
       "      <td>0</td>\n",
       "      <td>4400000000</td>\n",
       "    </tr>\n",
       "    <tr>\n",
       "      <th>games_video</th>\n",
       "      <td>1.140771e+08</td>\n",
       "      <td>7.623746e+08</td>\n",
       "      <td>0</td>\n",
       "      <td>10000000000</td>\n",
       "    </tr>\n",
       "    <tr>\n",
       "      <th>hardware</th>\n",
       "      <td>1.091775e+08</td>\n",
       "      <td>4.239758e+08</td>\n",
       "      <td>0</td>\n",
       "      <td>4600000000</td>\n",
       "    </tr>\n",
       "    <tr>\n",
       "      <th>health</th>\n",
       "      <td>3.944630e+08</td>\n",
       "      <td>1.249084e+09</td>\n",
       "      <td>0</td>\n",
       "      <td>5400000000</td>\n",
       "    </tr>\n",
       "    <tr>\n",
       "      <th>hospitality</th>\n",
       "      <td>2.802182e+08</td>\n",
       "      <td>6.514494e+08</td>\n",
       "      <td>0</td>\n",
       "      <td>2170000000</td>\n",
       "    </tr>\n",
       "    <tr>\n",
       "      <th>legal</th>\n",
       "      <td>0.000000e+00</td>\n",
       "      <td>0.000000e+00</td>\n",
       "      <td>0</td>\n",
       "      <td>0</td>\n",
       "    </tr>\n",
       "    <tr>\n",
       "      <th>local</th>\n",
       "      <td>5.380067e+06</td>\n",
       "      <td>9.318549e+06</td>\n",
       "      <td>0</td>\n",
       "      <td>16140200</td>\n",
       "    </tr>\n",
       "    <tr>\n",
       "      <th>manufacturing</th>\n",
       "      <td>5.892724e+08</td>\n",
       "      <td>9.696580e+08</td>\n",
       "      <td>0</td>\n",
       "      <td>4050000000</td>\n",
       "    </tr>\n",
       "    <tr>\n",
       "      <th>medical</th>\n",
       "      <td>4.228125e+07</td>\n",
       "      <td>1.059509e+08</td>\n",
       "      <td>0</td>\n",
       "      <td>325000000</td>\n",
       "    </tr>\n",
       "    <tr>\n",
       "      <th>messaging</th>\n",
       "      <td>1.552000e+07</td>\n",
       "      <td>4.241277e+07</td>\n",
       "      <td>0</td>\n",
       "      <td>169000000</td>\n",
       "    </tr>\n",
       "    <tr>\n",
       "      <th>mobile</th>\n",
       "      <td>9.878347e+07</td>\n",
       "      <td>7.137738e+08</td>\n",
       "      <td>0</td>\n",
       "      <td>12500000000</td>\n",
       "    </tr>\n",
       "    <tr>\n",
       "      <th>music</th>\n",
       "      <td>1.905733e+07</td>\n",
       "      <td>7.219858e+07</td>\n",
       "      <td>0</td>\n",
       "      <td>280000000</td>\n",
       "    </tr>\n",
       "    <tr>\n",
       "      <th>nanotech</th>\n",
       "      <td>5.840000e+08</td>\n",
       "      <td>NaN</td>\n",
       "      <td>584000000</td>\n",
       "      <td>584000000</td>\n",
       "    </tr>\n",
       "    <tr>\n",
       "      <th>network_hosting</th>\n",
       "      <td>1.195748e+08</td>\n",
       "      <td>4.184677e+08</td>\n",
       "      <td>0</td>\n",
       "      <td>3000000000</td>\n",
       "    </tr>\n",
       "    <tr>\n",
       "      <th>news</th>\n",
       "      <td>3.029630e+07</td>\n",
       "      <td>7.096563e+07</td>\n",
       "      <td>0</td>\n",
       "      <td>315000000</td>\n",
       "    </tr>\n",
       "    <tr>\n",
       "      <th>nonprofit</th>\n",
       "      <td>0.000000e+00</td>\n",
       "      <td>NaN</td>\n",
       "      <td>0</td>\n",
       "      <td>0</td>\n",
       "    </tr>\n",
       "    <tr>\n",
       "      <th>other</th>\n",
       "      <td>1.410059e+08</td>\n",
       "      <td>1.085129e+09</td>\n",
       "      <td>0</td>\n",
       "      <td>18400000000</td>\n",
       "    </tr>\n",
       "    <tr>\n",
       "      <th>photo_video</th>\n",
       "      <td>9.974750e+07</td>\n",
       "      <td>2.877321e+08</td>\n",
       "      <td>0</td>\n",
       "      <td>1010470000</td>\n",
       "    </tr>\n",
       "    <tr>\n",
       "      <th>public_relations</th>\n",
       "      <td>6.151903e+08</td>\n",
       "      <td>4.059244e+09</td>\n",
       "      <td>0</td>\n",
       "      <td>39000000000</td>\n",
       "    </tr>\n",
       "    <tr>\n",
       "      <th>real_estate</th>\n",
       "      <td>1.256143e+09</td>\n",
       "      <td>2.505123e+09</td>\n",
       "      <td>0</td>\n",
       "      <td>6850000000</td>\n",
       "    </tr>\n",
       "    <tr>\n",
       "      <th>search</th>\n",
       "      <td>5.383380e+07</td>\n",
       "      <td>1.941578e+08</td>\n",
       "      <td>0</td>\n",
       "      <td>1200000000</td>\n",
       "    </tr>\n",
       "    <tr>\n",
       "      <th>security</th>\n",
       "      <td>1.656813e+08</td>\n",
       "      <td>7.645662e+08</td>\n",
       "      <td>0</td>\n",
       "      <td>7680000000</td>\n",
       "    </tr>\n",
       "    <tr>\n",
       "      <th>semiconductor</th>\n",
       "      <td>2.038324e+08</td>\n",
       "      <td>7.904889e+08</td>\n",
       "      <td>0</td>\n",
       "      <td>6500000000</td>\n",
       "    </tr>\n",
       "    <tr>\n",
       "      <th>social</th>\n",
       "      <td>9.711538e+06</td>\n",
       "      <td>3.185975e+07</td>\n",
       "      <td>0</td>\n",
       "      <td>151000000</td>\n",
       "    </tr>\n",
       "    <tr>\n",
       "      <th>software</th>\n",
       "      <td>1.082295e+08</td>\n",
       "      <td>6.568300e+08</td>\n",
       "      <td>0</td>\n",
       "      <td>10200000000</td>\n",
       "    </tr>\n",
       "    <tr>\n",
       "      <th>sports</th>\n",
       "      <td>2.490000e+08</td>\n",
       "      <td>4.265618e+08</td>\n",
       "      <td>0</td>\n",
       "      <td>985000000</td>\n",
       "    </tr>\n",
       "    <tr>\n",
       "      <th>transportation</th>\n",
       "      <td>1.928571e+08</td>\n",
       "      <td>4.088486e+08</td>\n",
       "      <td>0</td>\n",
       "      <td>1100000000</td>\n",
       "    </tr>\n",
       "    <tr>\n",
       "      <th>travel</th>\n",
       "      <td>1.625000e+07</td>\n",
       "      <td>5.044630e+07</td>\n",
       "      <td>0</td>\n",
       "      <td>198000000</td>\n",
       "    </tr>\n",
       "    <tr>\n",
       "      <th>web</th>\n",
       "      <td>7.268884e+07</td>\n",
       "      <td>3.761718e+08</td>\n",
       "      <td>0</td>\n",
       "      <td>6400000000</td>\n",
       "    </tr>\n",
       "  </tbody>\n",
       "</table>\n",
       "</div>"
      ],
      "text/plain": [
       "                  price_amount                                        \n",
       "                          mean           std        min            max\n",
       "category_code                                                         \n",
       "advertising       6.946589e+07  2.799226e+08          0     3100000000\n",
       "analytics         1.357500e+07  5.267164e+07          0      263000000\n",
       "automotive        1.528600e+09  2.297758e+09          0     5200000000\n",
       "biotech           4.263121e+08  1.540374e+09          0    20000000000\n",
       "cleantech         1.621580e+08  5.522873e+08          0     3750000000\n",
       "consulting        6.961104e+07  5.054814e+08          0     5750000000\n",
       "design            0.000000e+00  0.000000e+00          0              0\n",
       "ecommerce         4.391204e+07  1.512364e+08          0     1250000000\n",
       "education         2.423909e+07  1.253642e+08          0      721000000\n",
       "enterprise        6.464338e+09  1.280882e+11          0  2600000000000\n",
       "fashion           5.113636e+07  9.574291e+07          0      270000000\n",
       "finance           3.021988e+08  7.960985e+08          0     4400000000\n",
       "games_video       1.140771e+08  7.623746e+08          0    10000000000\n",
       "hardware          1.091775e+08  4.239758e+08          0     4600000000\n",
       "health            3.944630e+08  1.249084e+09          0     5400000000\n",
       "hospitality       2.802182e+08  6.514494e+08          0     2170000000\n",
       "legal             0.000000e+00  0.000000e+00          0              0\n",
       "local             5.380067e+06  9.318549e+06          0       16140200\n",
       "manufacturing     5.892724e+08  9.696580e+08          0     4050000000\n",
       "medical           4.228125e+07  1.059509e+08          0      325000000\n",
       "messaging         1.552000e+07  4.241277e+07          0      169000000\n",
       "mobile            9.878347e+07  7.137738e+08          0    12500000000\n",
       "music             1.905733e+07  7.219858e+07          0      280000000\n",
       "nanotech          5.840000e+08           NaN  584000000      584000000\n",
       "network_hosting   1.195748e+08  4.184677e+08          0     3000000000\n",
       "news              3.029630e+07  7.096563e+07          0      315000000\n",
       "nonprofit         0.000000e+00           NaN          0              0\n",
       "other             1.410059e+08  1.085129e+09          0    18400000000\n",
       "photo_video       9.974750e+07  2.877321e+08          0     1010470000\n",
       "public_relations  6.151903e+08  4.059244e+09          0    39000000000\n",
       "real_estate       1.256143e+09  2.505123e+09          0     6850000000\n",
       "search            5.383380e+07  1.941578e+08          0     1200000000\n",
       "security          1.656813e+08  7.645662e+08          0     7680000000\n",
       "semiconductor     2.038324e+08  7.904889e+08          0     6500000000\n",
       "social            9.711538e+06  3.185975e+07          0      151000000\n",
       "software          1.082295e+08  6.568300e+08          0    10200000000\n",
       "sports            2.490000e+08  4.265618e+08          0      985000000\n",
       "transportation    1.928571e+08  4.088486e+08          0     1100000000\n",
       "travel            1.625000e+07  5.044630e+07          0      198000000\n",
       "web               7.268884e+07  3.761718e+08          0     6400000000"
      ]
     },
     "execution_count": 70,
     "metadata": {},
     "output_type": "execute_result"
    }
   ],
   "source": [
    "category_metrics = startups_df.groupby('category_code', observed=True).agg({\n",
    "    'price_amount': ['mean', 'std', 'min', 'max']})\n",
    "category_metrics"
   ]
  },
  {
   "cell_type": "code",
   "execution_count": 71,
   "metadata": {},
   "outputs": [
    {
     "name": "stdout",
     "output_type": "stream",
     "text": [
      "Категории с высокими ценами:\n",
      "                  price_amount                                        \n",
      "                          mean           std        min            max\n",
      "category_code                                                         \n",
      "enterprise        6.464338e+09  1.280882e+11          0  2600000000000\n",
      "automotive        1.528600e+09  2.297758e+09          0     5200000000\n",
      "real_estate       1.256143e+09  2.505123e+09          0     6850000000\n",
      "public_relations  6.151903e+08  4.059244e+09          0    39000000000\n",
      "manufacturing     5.892724e+08  9.696580e+08          0     4050000000\n",
      "nanotech          5.840000e+08           NaN  584000000      584000000\n",
      "biotech           4.263121e+08  1.540374e+09          0    20000000000\n",
      "health            3.944630e+08  1.249084e+09          0     5400000000\n",
      "finance           3.021988e+08  7.960985e+08          0     4400000000\n",
      "hospitality       2.802182e+08  6.514494e+08          0     2170000000\n",
      "\n",
      "Категории с наибольшим разбросом цен:\n",
      "                  price_amount                                 \n",
      "                          mean           std min            max\n",
      "category_code                                                  \n",
      "enterprise        6.464338e+09  1.280882e+11   0  2600000000000\n",
      "public_relations  6.151903e+08  4.059244e+09   0    39000000000\n",
      "real_estate       1.256143e+09  2.505123e+09   0     6850000000\n",
      "automotive        1.528600e+09  2.297758e+09   0     5200000000\n",
      "biotech           4.263121e+08  1.540374e+09   0    20000000000\n",
      "health            3.944630e+08  1.249084e+09   0     5400000000\n",
      "other             1.410059e+08  1.085129e+09   0    18400000000\n",
      "manufacturing     5.892724e+08  9.696580e+08   0     4050000000\n",
      "finance           3.021988e+08  7.960985e+08   0     4400000000\n",
      "semiconductor     2.038324e+08  7.904889e+08   0     6500000000\n"
     ]
    }
   ],
   "source": [
    "# Сортировка по среднему значению цены\n",
    "high_price_categories = category_metrics.sort_values(\n",
    "    by=('price_amount', 'mean'), ascending=False).head(10)\n",
    "\n",
    "# Сортировка по стандартному отклонению\n",
    "high_variance_categories = category_metrics.sort_values(\n",
    "    by=('price_amount', 'std'), ascending=False).head(10)\n",
    "\n",
    "print(\"Категории с высокими ценами:\")\n",
    "print(high_price_categories)\n",
    "\n",
    "print(\"\\nКатегории с наибольшим разбросом цен:\")\n",
    "print(high_variance_categories)"
   ]
  },
  {
   "cell_type": "markdown",
   "metadata": {},
   "source": [
    "На основании полученных данных можно сделать вывод, что категории с наибольшим разбросом цен (стандартное отклонение) включают:\n",
    "- Enterprise — здесь наблюдается самый большой разброс цен, со стандартным отклонением в 1.28 × 10¹¹ и максимальным значением в 2.6 × 10¹² долларов. Это указывает на значительное разнообразие цен в сделках в этой категории.\n",
    "- Public Relations — также имеет высокий разброс цен с стандартным отклонением 4.06 × 10⁹ долларов и максимальным значением 3.9 × 10¹⁰ долларов.\n",
    "- Real Estate — стандартное отклонение составляет 2.51 × 10⁹, а максимальное значение — 6.85 × 10⁹ долларов.\n",
    "\n",
    "Эти данные могут быть полезны для дальнейшего анализа рынка и определения тенденций в ценообразовании для различных категорий стартапов."
   ]
  },
  {
   "cell_type": "code",
   "execution_count": 72,
   "metadata": {},
   "outputs": [
    {
     "data": {
      "image/png": "[encoded data removed]",
      "text/plain": [
       "<Figure size 720x360 with 1 Axes>"
      ]
     },
     "metadata": {
      "needs_background": "light"
     },
     "output_type": "display_data"
    },
    {
     "data": {
      "image/png": "[encoded data removed]",
      "text/plain": [
       "<Figure size 720x360 with 1 Axes>"
      ]
     },
     "metadata": {
      "needs_background": "light"
     },
     "output_type": "display_data"
    }
   ],
   "source": [
    " #График для категорий с высокими ценами\n",
    "plt.figure(figsize=(10, 5))\n",
    "sns.barplot(x=high_price_categories.index, y=high_price_categories[('price_amount', 'mean')])\n",
    "plt.title('Категории с высокими ценами')\n",
    "plt.xlabel('Категория')\n",
    "plt.ylabel('Средняя цена')\n",
    "plt.xticks(rotation=45)\n",
    "plt.show()\n",
    "\n",
    "# График для категорий с наибольшим разбросом цен\n",
    "plt.figure(figsize=(10, 5))\n",
    "sns.barplot(x=high_variance_categories.index, y=high_variance_categories[('price_amount', 'std')])\n",
    "plt.title('Категории с наибольшим разбросом цен')\n",
    "plt.xlabel('Категория')\n",
    "plt.ylabel('Стандартное отклонение')\n",
    "plt.xticks(rotation=45)\n",
    "plt.show()"
   ]
  },
  {
   "cell_type": "markdown",
   "metadata": {},
   "source": [
    "Среди топа разброса цен и категорий по средней цене лидирует enterprise. Между этой категорией и остальными наблюдается большой разрыв. Это может быть связано со спецификой продукта. Enterprise-решения требуют более сложных технических решений, соответственно и более высоких затрат на разработку и поддержку."
   ]
  },
  {
   "cell_type": "markdown",
   "metadata": {
    "id": "ADOfyVY_rJg3"
   },
   "source": [
    "\n",
    "### 3.5. Сколько раундов продержится стартап перед покупкой\n",
    "\n",
    "- Необходимо проанализировать столбец `funding_rounds`. Исследовать значения столбца. Заказчика интересует типичное значение количества раундов для каждого возможного статуса стартапа.\n",
    "- Построить график, который отображает, сколько в среднем раундов финансирования проходило для стартапов из каждой группы. Сделайть выводы."
   ]
  },
  {
   "cell_type": "code",
   "execution_count": 73,
   "metadata": {
    "id": "hgXMPC4WrJg3",
    "vscode": {
     "languageId": "plaintext"
    }
   },
   "outputs": [
    {
     "name": "stdout",
     "output_type": "stream",
     "text": [
      "               mean  median\n",
      "status                     \n",
      "acquired   0.523526     0.0\n",
      "closed     1.381453     1.0\n",
      "ipo        1.934375     1.0\n",
      "operating  1.522658     1.0\n"
     ]
    }
   ],
   "source": [
    "# Группировка данных по статусу и расчёт среднего количества раундов\n",
    "status_rounds = filtered_df.groupby('status')['funding_rounds'].agg(['mean', 'median'])\n",
    "print(status_rounds)\n",
    " \n"
   ]
  },
  {
   "cell_type": "code",
   "execution_count": 74,
   "metadata": {
    "id": "pV3e7kw5Fj1Y"
   },
   "outputs": [
    {
     "data": {
      "image/png": "[encoded data removed]",
      "text/plain": [
       "<Figure size 720x432 with 1 Axes>"
      ]
     },
     "metadata": {
      "needs_background": "light"
     },
     "output_type": "display_data"
    }
   ],
   "source": [
    "# Группировка данных по статусу и расчёт среднего количества раундов\n",
    "status_rounds = filtered_df.groupby('status')['funding_rounds'].mean().reset_index()\n",
    "\n",
    "# Построение графика\n",
    "plt.figure(figsize=(10, 6))\n",
    "plt.bar(status_rounds['status'], status_rounds['funding_rounds'])\n",
    "plt.title('Среднее количество раундов финансирования по статусам стартапов')\n",
    "plt.xlabel('Статус стартапа')\n",
    "plt.ylabel('Среднее количество раундов')\n",
    "plt.grid(axis='y', alpha=0.75)\n",
    "plt.xticks(rotation=45)  # Поворот меток по оси X для лучшего читаемости\n",
    "plt.show()"
   ]
  },
  {
   "cell_type": "markdown",
   "metadata": {},
   "source": [
    "график показывает, что  статус ipo  имеtn наибольшее количество раундов финансирования в среднем. Это может указывать на более высокий интерес инвесторов к ipo. "
   ]
  },
  {
   "cell_type": "markdown",
   "metadata": {
    "id": "VAFEZ2HBrJg3"
   },
   "source": [
    "\n",
    "## Шаг 4. Итоговый вывод и рекомендации\n"
   ]
  },
  {
   "cell_type": "markdown",
   "metadata": {},
   "source": [
    "В проекте проведён анализ данных о стартапах, включая обработку информации о раундах финансирования и образовании сотрудников. Выявлены тенденции в размерах и количестве раундов финансирования в зависимости от статуса стартапа. Определено, что полнота информации об образовании сотрудников и размер компании влияют на успех. Для основателей стартапов рекомендуется активно привлекать инвестиции, учитывая отраслевые тенденции, и уделять внимание квалификации команды. Это повысит шансы на успешное развитие бизнеса и привлечение инвестиций."
   ]
  }
 ],
 "metadata": {
  "ExecuteTimeLog": [
   {
    "duration": 4614,
    "start_time": "2025-08-14T12:48:06.927Z"
   },
   {
    "duration": 2165,
    "start_time": "2025-08-14T12:52:17.322Z"
   },
   {
    "duration": 11,
    "start_time": "2025-08-14T12:53:33.199Z"
   },
   {
    "duration": 23,
    "start_time": "2025-08-14T12:55:19.550Z"
   },
   {
    "duration": 9,
    "start_time": "2025-08-14T12:55:22.212Z"
   },
   {
    "duration": 77,
    "start_time": "2025-08-14T12:55:24.852Z"
   },
   {
    "duration": 7,
    "start_time": "2025-08-14T12:55:27.054Z"
   },
   {
    "duration": 8,
    "start_time": "2025-08-14T12:55:29.498Z"
   },
   {
    "duration": 9,
    "start_time": "2025-08-14T12:55:31.261Z"
   },
   {
    "duration": 6,
    "start_time": "2025-08-14T12:55:33.328Z"
   },
   {
    "duration": 12,
    "start_time": "2025-08-14T12:56:38.547Z"
   },
   {
    "duration": 20,
    "start_time": "2025-08-14T12:56:53.324Z"
   },
   {
    "duration": 46,
    "start_time": "2025-08-14T12:56:55.054Z"
   },
   {
    "duration": 89,
    "start_time": "2025-08-14T12:56:57.770Z"
   },
   {
    "duration": 21,
    "start_time": "2025-08-14T12:57:06.380Z"
   },
   {
    "duration": 12,
    "start_time": "2025-08-14T12:57:10.928Z"
   },
   {
    "duration": 10,
    "start_time": "2025-08-14T12:57:16.456Z"
   },
   {
    "duration": 3,
    "start_time": "2025-08-14T13:19:55.645Z"
   },
   {
    "duration": 3,
    "start_time": "2025-08-14T13:20:34.634Z"
   },
   {
    "duration": 46,
    "start_time": "2025-08-14T13:31:01.506Z"
   },
   {
    "duration": 3,
    "start_time": "2025-08-14T13:31:08.136Z"
   },
   {
    "duration": 4,
    "start_time": "2025-08-14T13:32:05.189Z"
   },
   {
    "duration": 9,
    "start_time": "2025-08-14T13:33:24.670Z"
   },
   {
    "duration": 4,
    "start_time": "2025-08-14T13:33:29.157Z"
   },
   {
    "duration": 4,
    "start_time": "2025-08-14T13:42:35.834Z"
   },
   {
    "duration": 1733,
    "start_time": "2025-08-14T13:44:07.841Z"
   },
   {
    "duration": 7,
    "start_time": "2025-08-14T13:44:33.015Z"
   },
   {
    "duration": 96,
    "start_time": "2025-08-14T13:45:04.599Z"
   },
   {
    "duration": 13,
    "start_time": "2025-08-14T13:49:32.303Z"
   },
   {
    "duration": 88,
    "start_time": "2025-08-14T13:49:34.370Z"
   },
   {
    "duration": 83,
    "start_time": "2025-08-14T13:50:04.759Z"
   },
   {
    "duration": 11,
    "start_time": "2025-08-14T13:50:09.575Z"
   },
   {
    "duration": 90,
    "start_time": "2025-08-14T13:50:13.441Z"
   },
   {
    "duration": 3,
    "start_time": "2025-08-14T14:00:06.632Z"
   },
   {
    "duration": 1484,
    "start_time": "2025-08-14T14:01:54.574Z"
   },
   {
    "duration": 1288,
    "start_time": "2025-08-14T14:03:21.679Z"
   },
   {
    "duration": 12,
    "start_time": "2025-08-14T14:04:17.512Z"
   },
   {
    "duration": 7,
    "start_time": "2025-08-14T14:04:37.963Z"
   },
   {
    "duration": 10,
    "start_time": "2025-08-14T14:04:40.474Z"
   },
   {
    "duration": 8,
    "start_time": "2025-08-14T14:05:04.471Z"
   },
   {
    "duration": 11,
    "start_time": "2025-08-14T14:05:09.993Z"
   },
   {
    "duration": 4,
    "start_time": "2025-08-14T14:06:20.497Z"
   },
   {
    "duration": 4,
    "start_time": "2025-08-14T14:08:59.555Z"
   },
   {
    "duration": 4,
    "start_time": "2025-08-14T14:09:10.889Z"
   },
   {
    "duration": 24,
    "start_time": "2025-08-14T14:14:10.763Z"
   },
   {
    "duration": 9,
    "start_time": "2025-08-14T14:20:28.596Z"
   },
   {
    "duration": 1701,
    "start_time": "2025-08-14T14:21:06.740Z"
   },
   {
    "duration": 36,
    "start_time": "2025-08-14T14:22:21.795Z"
   },
   {
    "duration": 4,
    "start_time": "2025-08-14T14:22:23.139Z"
   },
   {
    "duration": 7,
    "start_time": "2025-08-14T14:22:23.676Z"
   },
   {
    "duration": 1640,
    "start_time": "2025-08-14T14:22:29.307Z"
   },
   {
    "duration": 3,
    "start_time": "2025-08-14T14:23:12.383Z"
   },
   {
    "duration": 44,
    "start_time": "2025-08-14T14:23:15.929Z"
   },
   {
    "duration": 4,
    "start_time": "2025-08-14T14:23:16.736Z"
   },
   {
    "duration": 3402,
    "start_time": "2025-08-14T14:23:23.527Z"
   },
   {
    "duration": 2396,
    "start_time": "2025-08-14T14:23:26.931Z"
   },
   {
    "duration": 11,
    "start_time": "2025-08-14T14:23:29.329Z"
   },
   {
    "duration": 11,
    "start_time": "2025-08-14T14:23:29.342Z"
   },
   {
    "duration": 22,
    "start_time": "2025-08-14T14:23:29.354Z"
   },
   {
    "duration": 101,
    "start_time": "2025-08-14T14:23:29.377Z"
   },
   {
    "duration": 15,
    "start_time": "2025-08-14T14:23:29.479Z"
   },
   {
    "duration": 40,
    "start_time": "2025-08-14T14:23:29.496Z"
   },
   {
    "duration": 6,
    "start_time": "2025-08-14T14:23:29.538Z"
   },
   {
    "duration": 19,
    "start_time": "2025-08-14T14:23:29.546Z"
   },
   {
    "duration": 24,
    "start_time": "2025-08-14T14:23:29.566Z"
   },
   {
    "duration": 21,
    "start_time": "2025-08-14T14:23:29.591Z"
   },
   {
    "duration": 19,
    "start_time": "2025-08-14T14:23:29.613Z"
   },
   {
    "duration": 10,
    "start_time": "2025-08-14T14:23:29.634Z"
   },
   {
    "duration": 7,
    "start_time": "2025-08-14T14:23:29.645Z"
   },
   {
    "duration": 9,
    "start_time": "2025-08-14T14:23:29.653Z"
   },
   {
    "duration": 26,
    "start_time": "2025-08-14T14:23:29.664Z"
   },
   {
    "duration": 13,
    "start_time": "2025-08-14T14:23:29.692Z"
   },
   {
    "duration": 3,
    "start_time": "2025-08-14T14:23:29.706Z"
   },
   {
    "duration": 62,
    "start_time": "2025-08-14T14:23:29.710Z"
   },
   {
    "duration": 4,
    "start_time": "2025-08-14T14:23:29.774Z"
   },
   {
    "duration": 112,
    "start_time": "2025-08-14T14:23:29.779Z"
   },
   {
    "duration": 90,
    "start_time": "2025-08-14T14:23:29.893Z"
   },
   {
    "duration": 4,
    "start_time": "2025-08-14T14:23:29.990Z"
   },
   {
    "duration": 53,
    "start_time": "2025-08-14T14:23:29.995Z"
   },
   {
    "duration": 82,
    "start_time": "2025-08-14T14:23:30.050Z"
   },
   {
    "duration": 119,
    "start_time": "2025-08-14T14:23:30.133Z"
   },
   {
    "duration": 70,
    "start_time": "2025-08-14T14:23:30.253Z"
   },
   {
    "duration": 34,
    "start_time": "2025-08-14T14:23:30.325Z"
   },
   {
    "duration": 131,
    "start_time": "2025-08-14T14:23:30.361Z"
   },
   {
    "duration": 3428,
    "start_time": "2025-08-14T14:23:55.509Z"
   },
   {
    "duration": 2072,
    "start_time": "2025-08-14T14:23:58.939Z"
   },
   {
    "duration": 11,
    "start_time": "2025-08-14T14:24:01.013Z"
   },
   {
    "duration": 61,
    "start_time": "2025-08-14T14:24:01.026Z"
   },
   {
    "duration": 34,
    "start_time": "2025-08-14T14:24:01.088Z"
   },
   {
    "duration": 146,
    "start_time": "2025-08-14T14:24:01.124Z"
   },
   {
    "duration": 8,
    "start_time": "2025-08-14T14:24:01.271Z"
   },
   {
    "duration": 57,
    "start_time": "2025-08-14T14:24:01.281Z"
   },
   {
    "duration": 6,
    "start_time": "2025-08-14T14:24:01.340Z"
   },
   {
    "duration": 21,
    "start_time": "2025-08-14T14:24:01.348Z"
   },
   {
    "duration": 7,
    "start_time": "2025-08-14T14:24:01.370Z"
   },
   {
    "duration": 31,
    "start_time": "2025-08-14T14:24:01.390Z"
   },
   {
    "duration": 19,
    "start_time": "2025-08-14T14:24:01.423Z"
   },
   {
    "duration": 27,
    "start_time": "2025-08-14T14:24:01.444Z"
   },
   {
    "duration": 31,
    "start_time": "2025-08-14T14:24:01.473Z"
   },
   {
    "duration": 9,
    "start_time": "2025-08-14T14:24:01.506Z"
   },
   {
    "duration": 6,
    "start_time": "2025-08-14T14:24:01.517Z"
   },
   {
    "duration": 54,
    "start_time": "2025-08-14T14:24:01.524Z"
   },
   {
    "duration": 4,
    "start_time": "2025-08-14T14:24:01.580Z"
   },
   {
    "duration": 46,
    "start_time": "2025-08-14T14:24:01.585Z"
   },
   {
    "duration": 3,
    "start_time": "2025-08-14T14:24:01.633Z"
   },
   {
    "duration": 28,
    "start_time": "2025-08-14T14:24:01.638Z"
   },
   {
    "duration": 117,
    "start_time": "2025-08-14T14:24:01.668Z"
   },
   {
    "duration": 4,
    "start_time": "2025-08-14T14:24:01.789Z"
   },
   {
    "duration": 80,
    "start_time": "2025-08-14T14:24:01.794Z"
   },
   {
    "duration": 21,
    "start_time": "2025-08-14T14:24:01.875Z"
   },
   {
    "duration": 17,
    "start_time": "2025-08-14T14:24:01.897Z"
   },
   {
    "duration": 31,
    "start_time": "2025-08-14T14:24:01.916Z"
   },
   {
    "duration": 14,
    "start_time": "2025-08-14T14:24:01.949Z"
   },
   {
    "duration": 103,
    "start_time": "2025-08-14T14:24:01.964Z"
   },
   {
    "duration": 51,
    "start_time": "2025-08-14T14:26:29.320Z"
   },
   {
    "duration": 85,
    "start_time": "2025-08-14T14:26:31.307Z"
   },
   {
    "duration": 23,
    "start_time": "2025-08-14T14:26:35.802Z"
   },
   {
    "duration": 105,
    "start_time": "2025-08-14T14:28:11.855Z"
   },
   {
    "duration": 23,
    "start_time": "2025-08-14T14:28:17.637Z"
   },
   {
    "duration": 29,
    "start_time": "2025-08-14T14:30:07.883Z"
   },
   {
    "duration": 23,
    "start_time": "2025-08-14T14:31:19.208Z"
   },
   {
    "duration": 8,
    "start_time": "2025-08-14T14:31:22.553Z"
   },
   {
    "duration": 1533,
    "start_time": "2025-08-14T14:37:51.882Z"
   },
   {
    "duration": 1670,
    "start_time": "2025-08-14T14:40:06.039Z"
   },
   {
    "duration": 167,
    "start_time": "2025-08-14T14:41:04.576Z"
   },
   {
    "duration": 145,
    "start_time": "2025-08-14T14:41:18.130Z"
   },
   {
    "duration": 5124,
    "start_time": "2025-08-15T12:54:25.553Z"
   },
   {
    "duration": 2336,
    "start_time": "2025-08-15T12:54:30.679Z"
   },
   {
    "duration": 12,
    "start_time": "2025-08-15T12:54:33.017Z"
   },
   {
    "duration": 73,
    "start_time": "2025-08-15T12:54:33.032Z"
   },
   {
    "duration": 32,
    "start_time": "2025-08-15T12:54:33.107Z"
   },
   {
    "duration": 126,
    "start_time": "2025-08-15T12:54:33.140Z"
   },
   {
    "duration": 14,
    "start_time": "2025-08-15T12:54:33.268Z"
   },
   {
    "duration": 66,
    "start_time": "2025-08-15T12:54:33.283Z"
   },
   {
    "duration": 9,
    "start_time": "2025-08-15T12:54:33.351Z"
   },
   {
    "duration": 24,
    "start_time": "2025-08-15T12:54:33.362Z"
   },
   {
    "duration": 39,
    "start_time": "2025-08-15T12:54:33.388Z"
   },
   {
    "duration": 88,
    "start_time": "2025-08-15T12:54:33.429Z"
   },
   {
    "duration": 10,
    "start_time": "2025-08-15T12:54:33.518Z"
   },
   {
    "duration": 47,
    "start_time": "2025-08-15T12:54:33.530Z"
   },
   {
    "duration": 7,
    "start_time": "2025-08-15T12:54:33.579Z"
   },
   {
    "duration": 14,
    "start_time": "2025-08-15T12:54:33.587Z"
   },
   {
    "duration": 16,
    "start_time": "2025-08-15T12:54:33.603Z"
   },
   {
    "duration": 15,
    "start_time": "2025-08-15T12:54:33.620Z"
   },
   {
    "duration": 19,
    "start_time": "2025-08-15T12:54:33.637Z"
   },
   {
    "duration": 56,
    "start_time": "2025-08-15T12:54:33.658Z"
   },
   {
    "duration": 5,
    "start_time": "2025-08-15T12:54:33.716Z"
   },
   {
    "duration": 99,
    "start_time": "2025-08-15T12:54:33.723Z"
   },
   {
    "duration": 98,
    "start_time": "2025-08-15T12:54:33.824Z"
   },
   {
    "duration": 4,
    "start_time": "2025-08-15T12:54:33.924Z"
   },
   {
    "duration": 174,
    "start_time": "2025-08-15T12:54:33.930Z"
   },
   {
    "duration": 5,
    "start_time": "2025-08-15T12:54:34.106Z"
   },
   {
    "duration": 26,
    "start_time": "2025-08-15T12:54:34.113Z"
   },
   {
    "duration": 16,
    "start_time": "2025-08-15T12:54:34.142Z"
   },
   {
    "duration": 13,
    "start_time": "2025-08-15T12:54:34.160Z"
   },
   {
    "duration": 40,
    "start_time": "2025-08-15T12:54:34.175Z"
   },
   {
    "duration": 17,
    "start_time": "2025-08-15T12:54:34.217Z"
   },
   {
    "duration": 193,
    "start_time": "2025-08-15T12:54:34.236Z"
   },
   {
    "duration": 100,
    "start_time": "2025-08-15T12:54:34.431Z"
   },
   {
    "duration": 12,
    "start_time": "2025-08-15T12:54:56.096Z"
   },
   {
    "duration": 62,
    "start_time": "2025-08-15T12:55:38.381Z"
   },
   {
    "duration": 17,
    "start_time": "2025-08-15T12:58:35.780Z"
   },
   {
    "duration": 102,
    "start_time": "2025-08-15T12:59:02.563Z"
   },
   {
    "duration": 16,
    "start_time": "2025-08-15T12:59:07.635Z"
   },
   {
    "duration": 59,
    "start_time": "2025-08-15T12:59:20.251Z"
   },
   {
    "duration": 3645,
    "start_time": "2025-08-15T12:59:26.010Z"
   },
   {
    "duration": 2385,
    "start_time": "2025-08-15T12:59:29.657Z"
   },
   {
    "duration": 16,
    "start_time": "2025-08-15T12:59:32.045Z"
   },
   {
    "duration": 13,
    "start_time": "2025-08-15T12:59:32.064Z"
   },
   {
    "duration": 26,
    "start_time": "2025-08-15T12:59:32.079Z"
   },
   {
    "duration": 113,
    "start_time": "2025-08-15T12:59:32.107Z"
   },
   {
    "duration": 10,
    "start_time": "2025-08-15T12:59:32.221Z"
   },
   {
    "duration": 54,
    "start_time": "2025-08-15T12:59:32.232Z"
   },
   {
    "duration": 8,
    "start_time": "2025-08-15T12:59:32.287Z"
   },
   {
    "duration": 27,
    "start_time": "2025-08-15T12:59:32.298Z"
   },
   {
    "duration": 26,
    "start_time": "2025-08-15T12:59:32.327Z"
   },
   {
    "duration": 34,
    "start_time": "2025-08-15T12:59:32.355Z"
   },
   {
    "duration": 11,
    "start_time": "2025-08-15T12:59:32.390Z"
   },
   {
    "duration": 12,
    "start_time": "2025-08-15T12:59:32.402Z"
   },
   {
    "duration": 8,
    "start_time": "2025-08-15T12:59:32.416Z"
   },
   {
    "duration": 28,
    "start_time": "2025-08-15T12:59:32.425Z"
   },
   {
    "duration": 22,
    "start_time": "2025-08-15T12:59:32.455Z"
   },
   {
    "duration": 26,
    "start_time": "2025-08-15T12:59:32.479Z"
   },
   {
    "duration": 4,
    "start_time": "2025-08-15T12:59:32.506Z"
   },
   {
    "duration": 64,
    "start_time": "2025-08-15T12:59:32.512Z"
   },
   {
    "duration": 4,
    "start_time": "2025-08-15T12:59:32.578Z"
   },
   {
    "duration": 76,
    "start_time": "2025-08-15T12:59:32.583Z"
   },
   {
    "duration": 102,
    "start_time": "2025-08-15T12:59:32.661Z"
   },
   {
    "duration": 4,
    "start_time": "2025-08-15T12:59:32.765Z"
   },
   {
    "duration": 8,
    "start_time": "2025-08-15T12:59:32.777Z"
   },
   {
    "duration": 3,
    "start_time": "2025-08-15T12:59:32.787Z"
   },
   {
    "duration": 25,
    "start_time": "2025-08-15T12:59:32.792Z"
   },
   {
    "duration": 69,
    "start_time": "2025-08-15T12:59:32.820Z"
   },
   {
    "duration": 7,
    "start_time": "2025-08-15T12:59:32.891Z"
   },
   {
    "duration": 5,
    "start_time": "2025-08-15T12:59:32.899Z"
   },
   {
    "duration": 7,
    "start_time": "2025-08-15T12:59:32.905Z"
   },
   {
    "duration": 28,
    "start_time": "2025-08-15T12:59:32.913Z"
   },
   {
    "duration": 34,
    "start_time": "2025-08-15T12:59:32.943Z"
   },
   {
    "duration": 176,
    "start_time": "2025-08-15T12:59:32.978Z"
   },
   {
    "duration": 98,
    "start_time": "2025-08-15T12:59:33.156Z"
   },
   {
    "duration": 68,
    "start_time": "2025-08-15T12:59:33.255Z"
   },
   {
    "duration": 104,
    "start_time": "2025-08-15T13:05:45.114Z"
   },
   {
    "duration": 46,
    "start_time": "2025-08-15T13:07:38.281Z"
   },
   {
    "duration": 10,
    "start_time": "2025-08-15T13:07:41.083Z"
   },
   {
    "duration": 51,
    "start_time": "2025-08-15T13:08:08.536Z"
   },
   {
    "duration": 2493,
    "start_time": "2025-08-15T13:09:27.182Z"
   },
   {
    "duration": 66,
    "start_time": "2025-08-15T13:09:38.520Z"
   },
   {
    "duration": 12,
    "start_time": "2025-08-15T13:09:45.651Z"
   },
   {
    "duration": 15,
    "start_time": "2025-08-15T13:10:06.560Z"
   },
   {
    "duration": 16,
    "start_time": "2025-08-15T13:10:12.527Z"
   },
   {
    "duration": 13,
    "start_time": "2025-08-15T13:10:18.206Z"
   },
   {
    "duration": 27,
    "start_time": "2025-08-15T13:14:31.308Z"
   },
   {
    "duration": 48,
    "start_time": "2025-08-15T13:15:00.526Z"
   },
   {
    "duration": 45,
    "start_time": "2025-08-15T13:15:04.646Z"
   },
   {
    "duration": 3783,
    "start_time": "2025-08-15T13:15:15.301Z"
   },
   {
    "duration": 1966,
    "start_time": "2025-08-15T13:15:19.086Z"
   },
   {
    "duration": 15,
    "start_time": "2025-08-15T13:15:21.054Z"
   },
   {
    "duration": 31,
    "start_time": "2025-08-15T13:15:21.070Z"
   },
   {
    "duration": 113,
    "start_time": "2025-08-15T13:15:21.104Z"
   },
   {
    "duration": 213,
    "start_time": "2025-08-15T13:15:21.219Z"
   },
   {
    "duration": 9,
    "start_time": "2025-08-15T13:15:21.434Z"
   },
   {
    "duration": 143,
    "start_time": "2025-08-15T13:15:21.445Z"
   },
   {
    "duration": 10,
    "start_time": "2025-08-15T13:15:21.590Z"
   },
   {
    "duration": 22,
    "start_time": "2025-08-15T13:15:21.602Z"
   },
   {
    "duration": 9,
    "start_time": "2025-08-15T13:15:21.626Z"
   },
   {
    "duration": 51,
    "start_time": "2025-08-15T13:15:21.637Z"
   },
   {
    "duration": 10,
    "start_time": "2025-08-15T13:15:21.690Z"
   },
   {
    "duration": 15,
    "start_time": "2025-08-15T13:15:21.705Z"
   },
   {
    "duration": 8,
    "start_time": "2025-08-15T13:15:21.722Z"
   },
   {
    "duration": 45,
    "start_time": "2025-08-15T13:15:21.732Z"
   },
   {
    "duration": 9,
    "start_time": "2025-08-15T13:15:21.778Z"
   },
   {
    "duration": 19,
    "start_time": "2025-08-15T13:15:21.789Z"
   },
   {
    "duration": 15,
    "start_time": "2025-08-15T13:15:21.810Z"
   },
   {
    "duration": 59,
    "start_time": "2025-08-15T13:15:21.827Z"
   },
   {
    "duration": 5,
    "start_time": "2025-08-15T13:15:21.888Z"
   },
   {
    "duration": 70,
    "start_time": "2025-08-15T13:15:21.894Z"
   },
   {
    "duration": 129,
    "start_time": "2025-08-15T13:15:21.977Z"
   },
   {
    "duration": 5,
    "start_time": "2025-08-15T13:15:22.107Z"
   },
   {
    "duration": 59,
    "start_time": "2025-08-15T13:15:22.113Z"
   },
   {
    "duration": 5,
    "start_time": "2025-08-15T13:15:22.173Z"
   },
   {
    "duration": 21,
    "start_time": "2025-08-15T13:15:22.179Z"
   },
   {
    "duration": 15,
    "start_time": "2025-08-15T13:15:22.202Z"
   },
   {
    "duration": 4,
    "start_time": "2025-08-15T13:15:22.219Z"
   },
   {
    "duration": 6,
    "start_time": "2025-08-15T13:15:22.224Z"
   },
   {
    "duration": 38,
    "start_time": "2025-08-15T13:15:22.232Z"
   },
   {
    "duration": 39,
    "start_time": "2025-08-15T13:15:22.272Z"
   },
   {
    "duration": 9,
    "start_time": "2025-08-15T13:15:22.313Z"
   },
   {
    "duration": 166,
    "start_time": "2025-08-15T13:15:22.324Z"
   },
   {
    "duration": 101,
    "start_time": "2025-08-15T13:15:22.492Z"
   },
   {
    "duration": 50,
    "start_time": "2025-08-15T13:15:22.595Z"
   },
   {
    "duration": 63,
    "start_time": "2025-08-15T13:15:22.647Z"
   },
   {
    "duration": 14,
    "start_time": "2025-08-15T13:15:22.711Z"
   },
   {
    "duration": 114,
    "start_time": "2025-08-15T13:16:07.686Z"
   },
   {
    "duration": 60,
    "start_time": "2025-08-15T13:16:21.057Z"
   },
   {
    "duration": 82,
    "start_time": "2025-08-15T13:18:18.815Z"
   },
   {
    "duration": 96,
    "start_time": "2025-08-15T13:18:27.553Z"
   },
   {
    "duration": 90,
    "start_time": "2025-08-15T13:18:40.621Z"
   },
   {
    "duration": 93,
    "start_time": "2025-08-15T13:18:48.700Z"
   },
   {
    "duration": 119,
    "start_time": "2025-08-15T13:18:52.472Z"
   },
   {
    "duration": 1659,
    "start_time": "2025-08-15T13:28:00.779Z"
   },
   {
    "duration": 1316,
    "start_time": "2025-08-15T13:32:32.781Z"
   },
   {
    "duration": 1267,
    "start_time": "2025-08-15T13:32:39.905Z"
   },
   {
    "duration": 1537,
    "start_time": "2025-08-15T13:32:42.930Z"
   },
   {
    "duration": 1449,
    "start_time": "2025-08-15T13:32:47.164Z"
   },
   {
    "duration": 60,
    "start_time": "2025-08-15T13:33:16.464Z"
   },
   {
    "duration": 58,
    "start_time": "2025-08-15T13:33:31.672Z"
   },
   {
    "duration": 1277,
    "start_time": "2025-08-15T13:33:36.156Z"
   },
   {
    "duration": 1670,
    "start_time": "2025-08-15T13:34:36.464Z"
   },
   {
    "duration": 42,
    "start_time": "2025-08-15T13:38:33.410Z"
   },
   {
    "duration": 3661,
    "start_time": "2025-08-15T13:38:42.308Z"
   },
   {
    "duration": 2360,
    "start_time": "2025-08-15T13:38:45.971Z"
   },
   {
    "duration": 12,
    "start_time": "2025-08-15T13:38:48.333Z"
   },
   {
    "duration": 24,
    "start_time": "2025-08-15T13:38:48.347Z"
   },
   {
    "duration": 24,
    "start_time": "2025-08-15T13:38:48.372Z"
   },
   {
    "duration": 109,
    "start_time": "2025-08-15T13:38:48.398Z"
   },
   {
    "duration": 9,
    "start_time": "2025-08-15T13:38:48.509Z"
   },
   {
    "duration": 57,
    "start_time": "2025-08-15T13:38:48.519Z"
   },
   {
    "duration": 8,
    "start_time": "2025-08-15T13:38:48.578Z"
   },
   {
    "duration": 33,
    "start_time": "2025-08-15T13:38:48.589Z"
   },
   {
    "duration": 16,
    "start_time": "2025-08-15T13:38:48.624Z"
   },
   {
    "duration": 34,
    "start_time": "2025-08-15T13:38:48.642Z"
   },
   {
    "duration": 20,
    "start_time": "2025-08-15T13:38:48.678Z"
   },
   {
    "duration": 37,
    "start_time": "2025-08-15T13:38:48.699Z"
   },
   {
    "duration": 16,
    "start_time": "2025-08-15T13:38:48.738Z"
   },
   {
    "duration": 20,
    "start_time": "2025-08-15T13:38:48.756Z"
   },
   {
    "duration": 36,
    "start_time": "2025-08-15T13:38:48.777Z"
   },
   {
    "duration": 37,
    "start_time": "2025-08-15T13:38:48.815Z"
   },
   {
    "duration": 8,
    "start_time": "2025-08-15T13:38:48.854Z"
   },
   {
    "duration": 67,
    "start_time": "2025-08-15T13:38:48.863Z"
   },
   {
    "duration": 3,
    "start_time": "2025-08-15T13:38:48.932Z"
   },
   {
    "duration": 89,
    "start_time": "2025-08-15T13:38:48.937Z"
   },
   {
    "duration": 95,
    "start_time": "2025-08-15T13:38:49.028Z"
   },
   {
    "duration": 4,
    "start_time": "2025-08-15T13:38:49.125Z"
   },
   {
    "duration": 11,
    "start_time": "2025-08-15T13:38:49.131Z"
   },
   {
    "duration": 11,
    "start_time": "2025-08-15T13:38:49.144Z"
   },
   {
    "duration": 39,
    "start_time": "2025-08-15T13:38:49.156Z"
   },
   {
    "duration": 56,
    "start_time": "2025-08-15T13:38:49.198Z"
   },
   {
    "duration": 18,
    "start_time": "2025-08-15T13:38:49.255Z"
   },
   {
    "duration": 8,
    "start_time": "2025-08-15T13:38:49.274Z"
   },
   {
    "duration": 7,
    "start_time": "2025-08-15T13:38:49.284Z"
   },
   {
    "duration": 50,
    "start_time": "2025-08-15T13:38:49.292Z"
   },
   {
    "duration": 64,
    "start_time": "2025-08-15T13:38:49.344Z"
   },
   {
    "duration": 165,
    "start_time": "2025-08-15T13:38:49.411Z"
   },
   {
    "duration": 100,
    "start_time": "2025-08-15T13:38:49.578Z"
   },
   {
    "duration": 49,
    "start_time": "2025-08-15T13:38:49.680Z"
   },
   {
    "duration": 62,
    "start_time": "2025-08-15T13:38:49.731Z"
   },
   {
    "duration": 18,
    "start_time": "2025-08-15T13:38:49.795Z"
   },
   {
    "duration": 124,
    "start_time": "2025-08-15T13:38:49.814Z"
   },
   {
    "duration": 44,
    "start_time": "2025-08-15T13:38:49.940Z"
   },
   {
    "duration": 1449,
    "start_time": "2025-08-15T13:38:49.985Z"
   },
   {
    "duration": 55,
    "start_time": "2025-08-15T13:39:00.611Z"
   },
   {
    "duration": 8,
    "start_time": "2025-08-15T14:24:47.673Z"
   },
   {
    "duration": 88,
    "start_time": "2025-08-15T14:24:54.837Z"
   },
   {
    "duration": 362,
    "start_time": "2025-08-15T14:25:46.765Z"
   },
   {
    "duration": 11,
    "start_time": "2025-08-15T14:25:48.955Z"
   },
   {
    "duration": 10,
    "start_time": "2025-08-15T14:25:56.937Z"
   },
   {
    "duration": 28,
    "start_time": "2025-08-15T14:26:09.956Z"
   },
   {
    "duration": 3,
    "start_time": "2025-08-15T14:30:49.761Z"
   },
   {
    "duration": 4,
    "start_time": "2025-08-15T14:30:57.511Z"
   },
   {
    "duration": 3500,
    "start_time": "2025-08-15T14:31:41.674Z"
   },
   {
    "duration": 2160,
    "start_time": "2025-08-15T14:31:45.176Z"
   },
   {
    "duration": 11,
    "start_time": "2025-08-15T14:31:47.340Z"
   },
   {
    "duration": 214,
    "start_time": "2025-08-15T14:31:47.353Z"
   },
   {
    "duration": 33,
    "start_time": "2025-08-15T14:31:47.569Z"
   },
   {
    "duration": 122,
    "start_time": "2025-08-15T14:31:47.604Z"
   },
   {
    "duration": 9,
    "start_time": "2025-08-15T14:31:47.727Z"
   },
   {
    "duration": 57,
    "start_time": "2025-08-15T14:31:47.738Z"
   },
   {
    "duration": 6,
    "start_time": "2025-08-15T14:31:47.798Z"
   },
   {
    "duration": 34,
    "start_time": "2025-08-15T14:31:47.806Z"
   },
   {
    "duration": 10,
    "start_time": "2025-08-15T14:31:47.841Z"
   },
   {
    "duration": 37,
    "start_time": "2025-08-15T14:31:47.852Z"
   },
   {
    "duration": 10,
    "start_time": "2025-08-15T14:31:47.890Z"
   },
   {
    "duration": 18,
    "start_time": "2025-08-15T14:31:47.901Z"
   },
   {
    "duration": 11,
    "start_time": "2025-08-15T14:31:47.920Z"
   },
   {
    "duration": 10,
    "start_time": "2025-08-15T14:31:47.932Z"
   },
   {
    "duration": 6,
    "start_time": "2025-08-15T14:31:47.944Z"
   },
   {
    "duration": 11,
    "start_time": "2025-08-15T14:31:47.976Z"
   },
   {
    "duration": 7,
    "start_time": "2025-08-15T14:31:47.988Z"
   },
   {
    "duration": 68,
    "start_time": "2025-08-15T14:31:47.997Z"
   },
   {
    "duration": 3,
    "start_time": "2025-08-15T14:31:48.067Z"
   },
   {
    "duration": 71,
    "start_time": "2025-08-15T14:31:48.072Z"
   },
   {
    "duration": 105,
    "start_time": "2025-08-15T14:31:48.144Z"
   },
   {
    "duration": 4,
    "start_time": "2025-08-15T14:31:48.250Z"
   },
   {
    "duration": 22,
    "start_time": "2025-08-15T14:31:48.256Z"
   },
   {
    "duration": 3,
    "start_time": "2025-08-15T14:31:48.280Z"
   },
   {
    "duration": 18,
    "start_time": "2025-08-15T14:31:48.286Z"
   },
   {
    "duration": 14,
    "start_time": "2025-08-15T14:31:48.306Z"
   },
   {
    "duration": 4,
    "start_time": "2025-08-15T14:31:48.322Z"
   },
   {
    "duration": 6,
    "start_time": "2025-08-15T14:31:48.327Z"
   },
   {
    "duration": 34,
    "start_time": "2025-08-15T14:31:48.334Z"
   },
   {
    "duration": 34,
    "start_time": "2025-08-15T14:31:48.369Z"
   },
   {
    "duration": 7,
    "start_time": "2025-08-15T14:31:48.405Z"
   },
   {
    "duration": 166,
    "start_time": "2025-08-15T14:31:48.413Z"
   },
   {
    "duration": 104,
    "start_time": "2025-08-15T14:31:48.581Z"
   },
   {
    "duration": 55,
    "start_time": "2025-08-15T14:31:48.687Z"
   },
   {
    "duration": 55,
    "start_time": "2025-08-15T14:31:48.744Z"
   },
   {
    "duration": 12,
    "start_time": "2025-08-15T14:31:48.801Z"
   },
   {
    "duration": 120,
    "start_time": "2025-08-15T14:31:48.815Z"
   },
   {
    "duration": 42,
    "start_time": "2025-08-15T14:31:48.937Z"
   },
   {
    "duration": 49,
    "start_time": "2025-08-15T14:31:48.981Z"
   },
   {
    "duration": 120,
    "start_time": "2025-08-15T14:31:49.032Z"
   },
   {
    "duration": 349,
    "start_time": "2025-08-15T14:31:49.154Z"
   },
   {
    "duration": 24,
    "start_time": "2025-08-15T14:31:49.505Z"
   },
   {
    "duration": 25,
    "start_time": "2025-08-15T14:31:49.531Z"
   },
   {
    "duration": 95,
    "start_time": "2025-08-15T14:32:13.108Z"
   },
   {
    "duration": 10,
    "start_time": "2025-08-15T14:32:16.014Z"
   },
   {
    "duration": 10,
    "start_time": "2025-08-15T14:32:21.787Z"
   },
   {
    "duration": 4,
    "start_time": "2025-08-15T14:32:24.981Z"
   },
   {
    "duration": 95,
    "start_time": "2025-08-15T14:33:22.397Z"
   },
   {
    "duration": 22,
    "start_time": "2025-08-15T14:33:40.154Z"
   },
   {
    "duration": 99,
    "start_time": "2025-08-15T14:33:49.608Z"
   },
   {
    "duration": 99,
    "start_time": "2025-08-15T14:34:40.778Z"
   },
   {
    "duration": 93,
    "start_time": "2025-08-15T14:34:48.000Z"
   },
   {
    "duration": 5134,
    "start_time": "2025-08-15T14:49:30.041Z"
   },
   {
    "duration": 3143,
    "start_time": "2025-08-15T14:49:35.177Z"
   },
   {
    "duration": 12,
    "start_time": "2025-08-15T14:49:38.321Z"
   },
   {
    "duration": 11,
    "start_time": "2025-08-15T14:49:38.335Z"
   },
   {
    "duration": 23,
    "start_time": "2025-08-15T14:49:38.347Z"
   },
   {
    "duration": 95,
    "start_time": "2025-08-15T14:49:38.372Z"
   },
   {
    "duration": 9,
    "start_time": "2025-08-15T14:49:38.468Z"
   },
   {
    "duration": 47,
    "start_time": "2025-08-15T14:49:38.478Z"
   },
   {
    "duration": 7,
    "start_time": "2025-08-15T14:49:38.527Z"
   },
   {
    "duration": 40,
    "start_time": "2025-08-15T14:49:38.536Z"
   },
   {
    "duration": 8,
    "start_time": "2025-08-15T14:49:38.577Z"
   },
   {
    "duration": 25,
    "start_time": "2025-08-15T14:49:38.586Z"
   },
   {
    "duration": 66,
    "start_time": "2025-08-15T14:49:38.613Z"
   },
   {
    "duration": 17,
    "start_time": "2025-08-15T14:49:38.680Z"
   },
   {
    "duration": 8,
    "start_time": "2025-08-15T14:49:38.699Z"
   },
   {
    "duration": 11,
    "start_time": "2025-08-15T14:49:38.709Z"
   },
   {
    "duration": 6,
    "start_time": "2025-08-15T14:49:38.722Z"
   },
   {
    "duration": 11,
    "start_time": "2025-08-15T14:49:38.730Z"
   },
   {
    "duration": 21,
    "start_time": "2025-08-15T14:49:38.742Z"
   },
   {
    "duration": 65,
    "start_time": "2025-08-15T14:49:38.765Z"
   },
   {
    "duration": 4,
    "start_time": "2025-08-15T14:49:38.831Z"
   },
   {
    "duration": 77,
    "start_time": "2025-08-15T14:49:38.836Z"
   },
   {
    "duration": 90,
    "start_time": "2025-08-15T14:49:38.915Z"
   },
   {
    "duration": 4,
    "start_time": "2025-08-15T14:49:39.007Z"
   },
   {
    "duration": 11,
    "start_time": "2025-08-15T14:49:39.012Z"
   },
   {
    "duration": 3,
    "start_time": "2025-08-15T14:49:39.025Z"
   },
   {
    "duration": 37,
    "start_time": "2025-08-15T14:49:39.030Z"
   },
   {
    "duration": 14,
    "start_time": "2025-08-15T14:49:39.070Z"
   },
   {
    "duration": 4,
    "start_time": "2025-08-15T14:49:39.086Z"
   },
   {
    "duration": 4,
    "start_time": "2025-08-15T14:49:39.091Z"
   },
   {
    "duration": 7,
    "start_time": "2025-08-15T14:49:39.096Z"
   },
   {
    "duration": 24,
    "start_time": "2025-08-15T14:49:39.104Z"
   },
   {
    "duration": 38,
    "start_time": "2025-08-15T14:49:39.130Z"
   },
   {
    "duration": 177,
    "start_time": "2025-08-15T14:49:39.170Z"
   },
   {
    "duration": 98,
    "start_time": "2025-08-15T14:49:39.348Z"
   },
   {
    "duration": 57,
    "start_time": "2025-08-15T14:49:39.448Z"
   },
   {
    "duration": 55,
    "start_time": "2025-08-15T14:49:39.507Z"
   },
   {
    "duration": 13,
    "start_time": "2025-08-15T14:49:39.564Z"
   },
   {
    "duration": 118,
    "start_time": "2025-08-15T14:49:39.578Z"
   },
   {
    "duration": 32,
    "start_time": "2025-08-15T14:49:39.698Z"
   },
   {
    "duration": 110,
    "start_time": "2025-08-15T14:49:39.732Z"
   },
   {
    "duration": 90,
    "start_time": "2025-08-15T14:49:39.843Z"
   },
   {
    "duration": 392,
    "start_time": "2025-08-15T14:49:39.934Z"
   },
   {
    "duration": 35,
    "start_time": "2025-08-15T14:49:40.328Z"
   },
   {
    "duration": 80,
    "start_time": "2025-08-15T14:49:40.364Z"
   },
   {
    "duration": 94,
    "start_time": "2025-08-15T14:49:40.446Z"
   },
   {
    "duration": 2,
    "start_time": "2025-08-15T14:49:40.541Z"
   },
   {
    "duration": 9,
    "start_time": "2025-08-15T14:49:48.039Z"
   },
   {
    "duration": 14,
    "start_time": "2025-08-15T14:49:59.342Z"
   },
   {
    "duration": 9,
    "start_time": "2025-08-15T14:50:09.871Z"
   },
   {
    "duration": 179,
    "start_time": "2025-08-15T14:53:50.725Z"
   },
   {
    "duration": 1516,
    "start_time": "2025-08-16T14:18:54.063Z"
   },
   {
    "duration": 3651,
    "start_time": "2025-08-16T14:19:04.342Z"
   },
   {
    "duration": 15,
    "start_time": "2025-08-16T14:23:40.303Z"
   },
   {
    "duration": 3596,
    "start_time": "2025-08-16T14:23:45.905Z"
   },
   {
    "duration": 2445,
    "start_time": "2025-08-16T14:23:49.503Z"
   },
   {
    "duration": 12,
    "start_time": "2025-08-16T14:23:51.950Z"
   },
   {
    "duration": 16,
    "start_time": "2025-08-16T14:23:51.964Z"
   },
   {
    "duration": 26,
    "start_time": "2025-08-16T14:23:51.982Z"
   },
   {
    "duration": 107,
    "start_time": "2025-08-16T14:23:52.009Z"
   },
   {
    "duration": 9,
    "start_time": "2025-08-16T14:23:52.117Z"
   },
   {
    "duration": 55,
    "start_time": "2025-08-16T14:23:52.127Z"
   },
   {
    "duration": 7,
    "start_time": "2025-08-16T14:23:52.184Z"
   },
   {
    "duration": 34,
    "start_time": "2025-08-16T14:23:52.194Z"
   },
   {
    "duration": 36,
    "start_time": "2025-08-16T14:23:52.231Z"
   },
   {
    "duration": 53,
    "start_time": "2025-08-16T14:23:52.268Z"
   },
   {
    "duration": 10,
    "start_time": "2025-08-16T14:23:52.323Z"
   },
   {
    "duration": 23,
    "start_time": "2025-08-16T14:23:52.334Z"
   },
   {
    "duration": 12,
    "start_time": "2025-08-16T14:23:52.358Z"
   },
   {
    "duration": 11,
    "start_time": "2025-08-16T14:23:52.372Z"
   },
   {
    "duration": 6,
    "start_time": "2025-08-16T14:23:52.384Z"
   },
   {
    "duration": 11,
    "start_time": "2025-08-16T14:23:52.392Z"
   },
   {
    "duration": 4,
    "start_time": "2025-08-16T14:23:52.404Z"
   },
   {
    "duration": 71,
    "start_time": "2025-08-16T14:23:52.409Z"
   },
   {
    "duration": 4,
    "start_time": "2025-08-16T14:23:52.482Z"
   },
   {
    "duration": 80,
    "start_time": "2025-08-16T14:23:52.487Z"
   },
   {
    "duration": 91,
    "start_time": "2025-08-16T14:23:52.568Z"
   },
   {
    "duration": 13,
    "start_time": "2025-08-16T14:23:52.661Z"
   },
   {
    "duration": 8,
    "start_time": "2025-08-16T14:23:52.676Z"
   },
   {
    "duration": 4,
    "start_time": "2025-08-16T14:23:52.686Z"
   },
   {
    "duration": 18,
    "start_time": "2025-08-16T14:23:52.692Z"
   },
   {
    "duration": 22,
    "start_time": "2025-08-16T14:23:52.713Z"
   },
   {
    "duration": 35,
    "start_time": "2025-08-16T14:23:52.737Z"
   },
   {
    "duration": 4,
    "start_time": "2025-08-16T14:23:52.774Z"
   },
   {
    "duration": 6,
    "start_time": "2025-08-16T14:23:52.780Z"
   },
   {
    "duration": 29,
    "start_time": "2025-08-16T14:23:52.787Z"
   },
   {
    "duration": 10,
    "start_time": "2025-08-16T14:23:52.818Z"
   },
   {
    "duration": 192,
    "start_time": "2025-08-16T14:23:52.830Z"
   },
   {
    "duration": 98,
    "start_time": "2025-08-16T14:23:53.024Z"
   },
   {
    "duration": 56,
    "start_time": "2025-08-16T14:23:53.123Z"
   },
   {
    "duration": 43,
    "start_time": "2025-08-16T14:23:53.181Z"
   },
   {
    "duration": 14,
    "start_time": "2025-08-16T14:23:53.226Z"
   },
   {
    "duration": 121,
    "start_time": "2025-08-16T14:23:53.241Z"
   },
   {
    "duration": 36,
    "start_time": "2025-08-16T14:23:53.363Z"
   },
   {
    "duration": 50,
    "start_time": "2025-08-16T14:23:53.401Z"
   },
   {
    "duration": 87,
    "start_time": "2025-08-16T14:23:53.470Z"
   },
   {
    "duration": 376,
    "start_time": "2025-08-16T14:23:53.559Z"
   },
   {
    "duration": 26,
    "start_time": "2025-08-16T14:23:53.936Z"
   },
   {
    "duration": 82,
    "start_time": "2025-08-16T14:23:53.971Z"
   },
   {
    "duration": 92,
    "start_time": "2025-08-16T14:23:54.055Z"
   },
   {
    "duration": 2,
    "start_time": "2025-08-16T14:23:54.149Z"
   },
   {
    "duration": 4874,
    "start_time": "2025-08-16T18:28:03.232Z"
   },
   {
    "duration": 3661,
    "start_time": "2025-08-16T18:28:08.108Z"
   },
   {
    "duration": 12,
    "start_time": "2025-08-16T18:28:11.770Z"
   },
   {
    "duration": 37,
    "start_time": "2025-08-16T18:28:11.783Z"
   },
   {
    "duration": 24,
    "start_time": "2025-08-16T18:28:11.822Z"
   },
   {
    "duration": 227,
    "start_time": "2025-08-16T18:28:11.848Z"
   },
   {
    "duration": 9,
    "start_time": "2025-08-16T18:28:12.077Z"
   },
   {
    "duration": 81,
    "start_time": "2025-08-16T18:28:12.089Z"
   },
   {
    "duration": 7,
    "start_time": "2025-08-16T18:28:12.172Z"
   },
   {
    "duration": 35,
    "start_time": "2025-08-16T18:28:12.181Z"
   },
   {
    "duration": 44,
    "start_time": "2025-08-16T18:28:12.219Z"
   },
   {
    "duration": 52,
    "start_time": "2025-08-16T18:28:12.266Z"
   },
   {
    "duration": 12,
    "start_time": "2025-08-16T18:28:12.320Z"
   },
   {
    "duration": 18,
    "start_time": "2025-08-16T18:28:12.336Z"
   },
   {
    "duration": 8,
    "start_time": "2025-08-16T18:28:12.356Z"
   },
   {
    "duration": 13,
    "start_time": "2025-08-16T18:28:12.366Z"
   },
   {
    "duration": 7,
    "start_time": "2025-08-16T18:28:12.381Z"
   },
   {
    "duration": 32,
    "start_time": "2025-08-16T18:28:12.389Z"
   },
   {
    "duration": 17,
    "start_time": "2025-08-16T18:28:12.422Z"
   },
   {
    "duration": 71,
    "start_time": "2025-08-16T18:28:12.441Z"
   },
   {
    "duration": 4,
    "start_time": "2025-08-16T18:28:12.514Z"
   },
   {
    "duration": 89,
    "start_time": "2025-08-16T18:28:12.520Z"
   },
   {
    "duration": 99,
    "start_time": "2025-08-16T18:28:12.611Z"
   },
   {
    "duration": 4,
    "start_time": "2025-08-16T18:28:12.712Z"
   },
   {
    "duration": 42,
    "start_time": "2025-08-16T18:28:12.718Z"
   },
   {
    "duration": 5,
    "start_time": "2025-08-16T18:28:12.762Z"
   },
   {
    "duration": 33,
    "start_time": "2025-08-16T18:28:12.770Z"
   },
   {
    "duration": 142,
    "start_time": "2025-08-16T18:28:12.805Z"
   },
   {
    "duration": 4,
    "start_time": "2025-08-16T18:28:12.949Z"
   },
   {
    "duration": 10,
    "start_time": "2025-08-16T18:28:12.955Z"
   },
   {
    "duration": 14,
    "start_time": "2025-08-16T18:28:12.967Z"
   },
   {
    "duration": 36,
    "start_time": "2025-08-16T18:28:12.983Z"
   },
   {
    "duration": 14,
    "start_time": "2025-08-16T18:28:13.021Z"
   },
   {
    "duration": 174,
    "start_time": "2025-08-16T18:28:13.036Z"
   },
   {
    "duration": 102,
    "start_time": "2025-08-16T18:28:13.212Z"
   },
   {
    "duration": 60,
    "start_time": "2025-08-16T18:28:13.316Z"
   },
   {
    "duration": 66,
    "start_time": "2025-08-16T18:28:13.378Z"
   },
   {
    "duration": 15,
    "start_time": "2025-08-16T18:28:13.446Z"
   },
   {
    "duration": 134,
    "start_time": "2025-08-16T18:28:13.463Z"
   },
   {
    "duration": 40,
    "start_time": "2025-08-16T18:28:13.598Z"
   },
   {
    "duration": 50,
    "start_time": "2025-08-16T18:28:13.643Z"
   },
   {
    "duration": 128,
    "start_time": "2025-08-16T18:28:13.695Z"
   },
   {
    "duration": 407,
    "start_time": "2025-08-16T18:28:13.825Z"
   },
   {
    "duration": 29,
    "start_time": "2025-08-16T18:28:14.235Z"
   },
   {
    "duration": 122,
    "start_time": "2025-08-16T18:28:14.267Z"
   },
   {
    "duration": 94,
    "start_time": "2025-08-16T18:28:14.390Z"
   },
   {
    "duration": 2,
    "start_time": "2025-08-16T18:28:14.486Z"
   },
   {
    "duration": 24,
    "start_time": "2025-08-16T18:30:27.716Z"
   },
   {
    "duration": 5,
    "start_time": "2025-08-16T18:30:32.904Z"
   },
   {
    "duration": 3701,
    "start_time": "2025-08-16T18:30:39.213Z"
   },
   {
    "duration": 3007,
    "start_time": "2025-08-16T18:30:42.916Z"
   },
   {
    "duration": 16,
    "start_time": "2025-08-16T18:30:45.926Z"
   },
   {
    "duration": 42,
    "start_time": "2025-08-16T18:30:45.946Z"
   },
   {
    "duration": 23,
    "start_time": "2025-08-16T18:30:45.991Z"
   },
   {
    "duration": 122,
    "start_time": "2025-08-16T18:30:46.016Z"
   },
   {
    "duration": 9,
    "start_time": "2025-08-16T18:30:46.140Z"
   },
   {
    "duration": 64,
    "start_time": "2025-08-16T18:30:46.151Z"
   },
   {
    "duration": 8,
    "start_time": "2025-08-16T18:30:46.216Z"
   },
   {
    "duration": 34,
    "start_time": "2025-08-16T18:30:46.225Z"
   },
   {
    "duration": 24,
    "start_time": "2025-08-16T18:30:46.262Z"
   },
   {
    "duration": 66,
    "start_time": "2025-08-16T18:30:46.289Z"
   },
   {
    "duration": 16,
    "start_time": "2025-08-16T18:30:46.357Z"
   },
   {
    "duration": 15,
    "start_time": "2025-08-16T18:30:46.376Z"
   },
   {
    "duration": 20,
    "start_time": "2025-08-16T18:30:46.393Z"
   },
   {
    "duration": 13,
    "start_time": "2025-08-16T18:30:46.415Z"
   },
   {
    "duration": 8,
    "start_time": "2025-08-16T18:30:46.429Z"
   },
   {
    "duration": 18,
    "start_time": "2025-08-16T18:30:46.438Z"
   },
   {
    "duration": 22,
    "start_time": "2025-08-16T18:30:46.458Z"
   },
   {
    "duration": 50,
    "start_time": "2025-08-16T18:30:46.482Z"
   },
   {
    "duration": 4,
    "start_time": "2025-08-16T18:30:46.534Z"
   },
   {
    "duration": 82,
    "start_time": "2025-08-16T18:30:46.540Z"
   },
   {
    "duration": 89,
    "start_time": "2025-08-16T18:30:46.624Z"
   },
   {
    "duration": 4,
    "start_time": "2025-08-16T18:30:46.715Z"
   },
   {
    "duration": 80,
    "start_time": "2025-08-16T18:30:46.721Z"
   },
   {
    "duration": 129,
    "start_time": "2025-08-16T18:30:46.803Z"
   },
   {
    "duration": 32,
    "start_time": "2025-08-16T18:30:46.934Z"
   },
   {
    "duration": 28,
    "start_time": "2025-08-16T18:30:46.968Z"
   },
   {
    "duration": 21,
    "start_time": "2025-08-16T18:30:46.998Z"
   },
   {
    "duration": 5,
    "start_time": "2025-08-16T18:30:47.021Z"
   },
   {
    "duration": 29,
    "start_time": "2025-08-16T18:30:47.027Z"
   },
   {
    "duration": 29,
    "start_time": "2025-08-16T18:30:47.058Z"
   },
   {
    "duration": 8,
    "start_time": "2025-08-16T18:30:47.089Z"
   },
   {
    "duration": 251,
    "start_time": "2025-08-16T18:30:47.099Z"
   },
   {
    "duration": 103,
    "start_time": "2025-08-16T18:30:47.353Z"
   },
   {
    "duration": 50,
    "start_time": "2025-08-16T18:30:47.458Z"
   },
   {
    "duration": 74,
    "start_time": "2025-08-16T18:30:47.510Z"
   },
   {
    "duration": 15,
    "start_time": "2025-08-16T18:30:47.586Z"
   },
   {
    "duration": 125,
    "start_time": "2025-08-16T18:30:47.603Z"
   },
   {
    "duration": 29,
    "start_time": "2025-08-16T18:30:47.730Z"
   },
   {
    "duration": 117,
    "start_time": "2025-08-16T18:30:47.763Z"
   },
   {
    "duration": 196,
    "start_time": "2025-08-16T18:30:47.882Z"
   },
   {
    "duration": 377,
    "start_time": "2025-08-16T18:30:48.080Z"
   },
   {
    "duration": 11,
    "start_time": "2025-08-16T18:30:48.459Z"
   },
   {
    "duration": 101,
    "start_time": "2025-08-16T18:30:48.472Z"
   },
   {
    "duration": 88,
    "start_time": "2025-08-16T18:30:48.574Z"
   },
   {
    "duration": 2,
    "start_time": "2025-08-16T18:30:48.664Z"
   },
   {
    "duration": 84,
    "start_time": "2025-08-16T18:34:10.916Z"
   },
   {
    "duration": 96,
    "start_time": "2025-08-16T18:34:25.876Z"
   },
   {
    "duration": 131,
    "start_time": "2025-08-16T18:34:57.497Z"
   },
   {
    "duration": 77,
    "start_time": "2025-08-16T18:35:05.245Z"
   },
   {
    "duration": 68,
    "start_time": "2025-08-16T18:35:18.053Z"
   },
   {
    "duration": 97,
    "start_time": "2025-08-16T18:38:59.433Z"
   },
   {
    "duration": 412,
    "start_time": "2025-08-16T18:39:06.458Z"
   },
   {
    "duration": 10,
    "start_time": "2025-08-16T18:39:25.802Z"
   },
   {
    "duration": 350,
    "start_time": "2025-08-16T18:39:53.015Z"
   },
   {
    "duration": 20,
    "start_time": "2025-08-16T18:39:59.921Z"
   },
   {
    "duration": 72,
    "start_time": "2025-08-16T18:40:20.935Z"
   },
   {
    "duration": 1998,
    "start_time": "2025-08-16T18:41:08.345Z"
   },
   {
    "duration": 1944,
    "start_time": "2025-08-16T18:41:19.206Z"
   },
   {
    "duration": 3,
    "start_time": "2025-08-16T18:41:53.885Z"
   },
   {
    "duration": 16,
    "start_time": "2025-08-16T18:43:35.096Z"
   },
   {
    "duration": 2430,
    "start_time": "2025-08-16T18:45:16.910Z"
   },
   {
    "duration": 78,
    "start_time": "2025-08-16T18:47:06.202Z"
   },
   {
    "duration": 30,
    "start_time": "2025-08-16T18:49:18.727Z"
   },
   {
    "duration": 75,
    "start_time": "2025-08-16T18:55:18.718Z"
   },
   {
    "duration": 19,
    "start_time": "2025-08-16T18:57:00.465Z"
   },
   {
    "duration": 8,
    "start_time": "2025-08-16T18:58:20.641Z"
   },
   {
    "duration": 8,
    "start_time": "2025-08-16T18:58:25.125Z"
   },
   {
    "duration": 8,
    "start_time": "2025-08-16T18:58:50.278Z"
   },
   {
    "duration": 4,
    "start_time": "2025-08-16T18:59:00.501Z"
   },
   {
    "duration": 382,
    "start_time": "2025-08-16T18:59:41.752Z"
   },
   {
    "duration": 354,
    "start_time": "2025-08-16T18:59:44.819Z"
   },
   {
    "duration": 15,
    "start_time": "2025-08-16T19:00:19.844Z"
   },
   {
    "duration": 11,
    "start_time": "2025-08-16T19:00:26.627Z"
   },
   {
    "duration": 16,
    "start_time": "2025-08-16T19:00:31.316Z"
   },
   {
    "duration": 11,
    "start_time": "2025-08-16T19:00:54.583Z"
   },
   {
    "duration": 70,
    "start_time": "2025-08-16T19:00:58.002Z"
   },
   {
    "duration": 12,
    "start_time": "2025-08-16T19:01:03.804Z"
   },
   {
    "duration": 69,
    "start_time": "2025-08-16T19:01:11.717Z"
   },
   {
    "duration": 14,
    "start_time": "2025-08-16T19:01:25.755Z"
   },
   {
    "duration": 14,
    "start_time": "2025-08-16T19:01:27.692Z"
   },
   {
    "duration": 92,
    "start_time": "2025-08-16T19:02:39.960Z"
   },
   {
    "duration": 5051,
    "start_time": "2025-08-17T05:52:34.873Z"
   },
   {
    "duration": 2522,
    "start_time": "2025-08-17T05:52:39.926Z"
   },
   {
    "duration": 12,
    "start_time": "2025-08-17T05:52:42.450Z"
   },
   {
    "duration": 44,
    "start_time": "2025-08-17T05:52:42.465Z"
   },
   {
    "duration": 24,
    "start_time": "2025-08-17T05:52:42.511Z"
   },
   {
    "duration": 101,
    "start_time": "2025-08-17T05:52:42.537Z"
   },
   {
    "duration": 8,
    "start_time": "2025-08-17T05:52:42.640Z"
   },
   {
    "duration": 52,
    "start_time": "2025-08-17T05:52:42.650Z"
   },
   {
    "duration": 8,
    "start_time": "2025-08-17T05:52:42.703Z"
   },
   {
    "duration": 19,
    "start_time": "2025-08-17T05:52:42.713Z"
   },
   {
    "duration": 7,
    "start_time": "2025-08-17T05:52:42.733Z"
   },
   {
    "duration": 60,
    "start_time": "2025-08-17T05:52:42.742Z"
   },
   {
    "duration": 9,
    "start_time": "2025-08-17T05:52:42.804Z"
   },
   {
    "duration": 16,
    "start_time": "2025-08-17T05:52:42.815Z"
   },
   {
    "duration": 8,
    "start_time": "2025-08-17T05:52:42.833Z"
   },
   {
    "duration": 68,
    "start_time": "2025-08-17T05:52:42.842Z"
   },
   {
    "duration": 23,
    "start_time": "2025-08-17T05:52:42.913Z"
   },
   {
    "duration": 42,
    "start_time": "2025-08-17T05:52:42.938Z"
   },
   {
    "duration": 5,
    "start_time": "2025-08-17T05:52:42.982Z"
   },
   {
    "duration": 117,
    "start_time": "2025-08-17T05:52:42.989Z"
   },
   {
    "duration": 5,
    "start_time": "2025-08-17T05:52:43.108Z"
   },
   {
    "duration": 72,
    "start_time": "2025-08-17T05:52:43.115Z"
   },
   {
    "duration": 98,
    "start_time": "2025-08-17T05:52:43.189Z"
   },
   {
    "duration": 6,
    "start_time": "2025-08-17T05:52:43.288Z"
   },
   {
    "duration": 55,
    "start_time": "2025-08-17T05:52:43.296Z"
   },
   {
    "duration": 4,
    "start_time": "2025-08-17T05:52:43.353Z"
   },
   {
    "duration": 39,
    "start_time": "2025-08-17T05:52:43.359Z"
   },
   {
    "duration": 15,
    "start_time": "2025-08-17T05:52:43.402Z"
   },
   {
    "duration": 3,
    "start_time": "2025-08-17T05:52:43.419Z"
   },
   {
    "duration": 6,
    "start_time": "2025-08-17T05:52:43.424Z"
   },
   {
    "duration": 8,
    "start_time": "2025-08-17T05:52:43.431Z"
   },
   {
    "duration": 52,
    "start_time": "2025-08-17T05:52:43.441Z"
   },
   {
    "duration": 9,
    "start_time": "2025-08-17T05:52:43.495Z"
   },
   {
    "duration": 166,
    "start_time": "2025-08-17T05:52:43.505Z"
   },
   {
    "duration": 6,
    "start_time": "2025-08-17T05:52:43.674Z"
   },
   {
    "duration": 2442,
    "start_time": "2025-08-17T05:52:43.683Z"
   },
   {
    "duration": 89,
    "start_time": "2025-08-17T05:52:46.127Z"
   },
   {
    "duration": 67,
    "start_time": "2025-08-17T05:52:46.217Z"
   },
   {
    "duration": 17,
    "start_time": "2025-08-17T05:52:46.285Z"
   },
   {
    "duration": 128,
    "start_time": "2025-08-17T05:52:46.304Z"
   },
   {
    "duration": 27,
    "start_time": "2025-08-17T05:52:46.433Z"
   },
   {
    "duration": 72,
    "start_time": "2025-08-17T05:52:46.471Z"
   },
   {
    "duration": 8971,
    "start_time": "2025-08-17T05:52:46.544Z"
   },
   {
    "duration": 75,
    "start_time": "2025-08-17T05:52:55.517Z"
   },
   {
    "duration": 30,
    "start_time": "2025-08-17T05:52:55.594Z"
   },
   {
    "duration": 123,
    "start_time": "2025-08-17T05:52:55.626Z"
   },
   {
    "duration": 403,
    "start_time": "2025-08-17T05:52:55.751Z"
   },
   {
    "duration": 26,
    "start_time": "2025-08-17T05:52:56.156Z"
   },
   {
    "duration": 134,
    "start_time": "2025-08-17T05:52:56.184Z"
   },
   {
    "duration": 96,
    "start_time": "2025-08-17T05:52:56.319Z"
   },
   {
    "duration": 4,
    "start_time": "2025-08-17T05:52:56.417Z"
   },
   {
    "duration": 425,
    "start_time": "2025-08-17T05:52:56.422Z"
   },
   {
    "duration": 12,
    "start_time": "2025-08-17T05:52:56.848Z"
   },
   {
    "duration": 116,
    "start_time": "2025-08-17T05:52:56.861Z"
   },
   {
    "duration": 21,
    "start_time": "2025-08-17T05:52:56.980Z"
   },
   {
    "duration": 40,
    "start_time": "2025-08-17T05:52:57.003Z"
   },
   {
    "duration": 10,
    "start_time": "2025-08-17T05:53:02.511Z"
   },
   {
    "duration": 25,
    "start_time": "2025-08-17T05:53:23.862Z"
   },
   {
    "duration": 8,
    "start_time": "2025-08-17T05:53:48.110Z"
   },
   {
    "duration": 15,
    "start_time": "2025-08-17T05:53:59.958Z"
   },
   {
    "duration": 16,
    "start_time": "2025-08-17T05:54:06.528Z"
   },
   {
    "duration": 51,
    "start_time": "2025-08-18T11:06:11.174Z"
   },
   {
    "duration": 4826,
    "start_time": "2025-08-18T11:07:35.655Z"
   },
   {
    "duration": 2049,
    "start_time": "2025-08-18T11:07:40.483Z"
   },
   {
    "duration": 12,
    "start_time": "2025-08-18T11:07:42.533Z"
   },
   {
    "duration": 11,
    "start_time": "2025-08-18T11:07:42.547Z"
   },
   {
    "duration": 25,
    "start_time": "2025-08-18T11:07:42.560Z"
   },
   {
    "duration": 146,
    "start_time": "2025-08-18T11:07:42.586Z"
   },
   {
    "duration": 9,
    "start_time": "2025-08-18T11:07:42.734Z"
   },
   {
    "duration": 60,
    "start_time": "2025-08-18T11:07:42.744Z"
   },
   {
    "duration": 44,
    "start_time": "2025-08-18T11:07:42.806Z"
   },
   {
    "duration": 25,
    "start_time": "2025-08-18T11:07:42.851Z"
   },
   {
    "duration": 8,
    "start_time": "2025-08-18T11:07:42.877Z"
   },
   {
    "duration": 27,
    "start_time": "2025-08-18T11:07:42.887Z"
   },
   {
    "duration": 9,
    "start_time": "2025-08-18T11:07:42.916Z"
   },
   {
    "duration": 34,
    "start_time": "2025-08-18T11:07:42.928Z"
   },
   {
    "duration": 7,
    "start_time": "2025-08-18T11:07:42.964Z"
   },
   {
    "duration": 10,
    "start_time": "2025-08-18T11:07:42.973Z"
   },
   {
    "duration": 7,
    "start_time": "2025-08-18T11:07:42.984Z"
   },
   {
    "duration": 81,
    "start_time": "2025-08-18T11:07:42.993Z"
   },
   {
    "duration": 4,
    "start_time": "2025-08-18T11:07:43.076Z"
   },
   {
    "duration": 49,
    "start_time": "2025-08-18T11:07:43.082Z"
   },
   {
    "duration": 5,
    "start_time": "2025-08-18T11:07:43.134Z"
   },
   {
    "duration": 81,
    "start_time": "2025-08-18T11:07:43.140Z"
   },
   {
    "duration": 91,
    "start_time": "2025-08-18T11:07:43.222Z"
   },
   {
    "duration": 4,
    "start_time": "2025-08-18T11:07:43.315Z"
   },
   {
    "duration": 8,
    "start_time": "2025-08-18T11:07:43.320Z"
   },
   {
    "duration": 3,
    "start_time": "2025-08-18T11:07:43.330Z"
   },
   {
    "duration": 48,
    "start_time": "2025-08-18T11:07:43.335Z"
   },
   {
    "duration": 18,
    "start_time": "2025-08-18T11:07:43.385Z"
   },
   {
    "duration": 4,
    "start_time": "2025-08-18T11:07:43.404Z"
   },
   {
    "duration": 7,
    "start_time": "2025-08-18T11:07:43.409Z"
   },
   {
    "duration": 12,
    "start_time": "2025-08-18T11:07:43.418Z"
   },
   {
    "duration": 31,
    "start_time": "2025-08-18T11:07:43.432Z"
   },
   {
    "duration": 7,
    "start_time": "2025-08-18T11:07:43.465Z"
   },
   {
    "duration": 172,
    "start_time": "2025-08-18T11:07:43.474Z"
   },
   {
    "duration": 2,
    "start_time": "2025-08-18T11:07:43.648Z"
   },
   {
    "duration": 1977,
    "start_time": "2025-08-18T11:07:43.651Z"
   },
   {
    "duration": 68,
    "start_time": "2025-08-18T11:07:45.630Z"
   },
   {
    "duration": 64,
    "start_time": "2025-08-18T11:07:45.700Z"
   },
   {
    "duration": 13,
    "start_time": "2025-08-18T11:07:45.766Z"
   },
   {
    "duration": 113,
    "start_time": "2025-08-18T11:07:45.781Z"
   },
   {
    "duration": 0,
    "start_time": "2025-08-18T11:07:45.896Z"
   },
   {
    "duration": 0,
    "start_time": "2025-08-18T11:07:45.897Z"
   },
   {
    "duration": 0,
    "start_time": "2025-08-18T11:07:45.898Z"
   },
   {
    "duration": 0,
    "start_time": "2025-08-18T11:07:45.899Z"
   },
   {
    "duration": 0,
    "start_time": "2025-08-18T11:07:45.900Z"
   },
   {
    "duration": 0,
    "start_time": "2025-08-18T11:07:45.901Z"
   },
   {
    "duration": 0,
    "start_time": "2025-08-18T11:07:45.902Z"
   },
   {
    "duration": 0,
    "start_time": "2025-08-18T11:07:45.903Z"
   },
   {
    "duration": 0,
    "start_time": "2025-08-18T11:07:45.904Z"
   },
   {
    "duration": 0,
    "start_time": "2025-08-18T11:07:45.905Z"
   },
   {
    "duration": 0,
    "start_time": "2025-08-18T11:07:45.906Z"
   },
   {
    "duration": 0,
    "start_time": "2025-08-18T11:07:45.907Z"
   },
   {
    "duration": 0,
    "start_time": "2025-08-18T11:07:45.908Z"
   },
   {
    "duration": 0,
    "start_time": "2025-08-18T11:07:45.909Z"
   },
   {
    "duration": 0,
    "start_time": "2025-08-18T11:07:45.910Z"
   },
   {
    "duration": 0,
    "start_time": "2025-08-18T11:07:45.911Z"
   },
   {
    "duration": 13,
    "start_time": "2025-08-18T11:08:21.638Z"
   },
   {
    "duration": 63,
    "start_time": "2025-08-18T11:11:10.880Z"
   },
   {
    "duration": 55,
    "start_time": "2025-08-18T11:11:50.292Z"
   },
   {
    "duration": 11,
    "start_time": "2025-08-18T11:17:14.044Z"
   },
   {
    "duration": 52,
    "start_time": "2025-08-18T11:18:05.048Z"
   },
   {
    "duration": 11,
    "start_time": "2025-08-18T11:18:38.614Z"
   },
   {
    "duration": 11,
    "start_time": "2025-08-18T11:19:38.568Z"
   },
   {
    "duration": 23,
    "start_time": "2025-08-18T11:19:58.242Z"
   },
   {
    "duration": 21,
    "start_time": "2025-08-18T11:21:05.281Z"
   },
   {
    "duration": 22,
    "start_time": "2025-08-18T11:21:18.962Z"
   },
   {
    "duration": 22,
    "start_time": "2025-08-18T11:21:22.576Z"
   },
   {
    "duration": 23,
    "start_time": "2025-08-18T11:24:16.154Z"
   },
   {
    "duration": 10,
    "start_time": "2025-08-18T11:24:39.726Z"
   },
   {
    "duration": 37,
    "start_time": "2025-08-18T11:24:46.478Z"
   },
   {
    "duration": 9,
    "start_time": "2025-08-18T11:26:59.839Z"
   },
   {
    "duration": 17,
    "start_time": "2025-08-18T11:27:38.495Z"
   },
   {
    "duration": 15,
    "start_time": "2025-08-18T11:28:55.180Z"
   },
   {
    "duration": 9,
    "start_time": "2025-08-18T11:29:46.222Z"
   },
   {
    "duration": 9,
    "start_time": "2025-08-18T11:30:09.298Z"
   },
   {
    "duration": 12,
    "start_time": "2025-08-18T11:30:59.180Z"
   },
   {
    "duration": 104,
    "start_time": "2025-08-18T11:31:51.701Z"
   },
   {
    "duration": 123,
    "start_time": "2025-08-18T11:31:54.157Z"
   },
   {
    "duration": 13,
    "start_time": "2025-08-18T11:32:07.330Z"
   },
   {
    "duration": 2613,
    "start_time": "2025-08-18T11:34:09.174Z"
   },
   {
    "duration": 17,
    "start_time": "2025-08-18T11:39:32.704Z"
   },
   {
    "duration": 3877,
    "start_time": "2025-08-18T11:39:37.885Z"
   },
   {
    "duration": 2475,
    "start_time": "2025-08-18T11:39:41.764Z"
   },
   {
    "duration": 13,
    "start_time": "2025-08-18T11:39:44.241Z"
   },
   {
    "duration": 64,
    "start_time": "2025-08-18T11:39:44.257Z"
   },
   {
    "duration": 72,
    "start_time": "2025-08-18T11:39:44.322Z"
   },
   {
    "duration": 104,
    "start_time": "2025-08-18T11:39:44.396Z"
   },
   {
    "duration": 9,
    "start_time": "2025-08-18T11:39:44.502Z"
   },
   {
    "duration": 52,
    "start_time": "2025-08-18T11:39:44.513Z"
   },
   {
    "duration": 8,
    "start_time": "2025-08-18T11:39:44.567Z"
   },
   {
    "duration": 116,
    "start_time": "2025-08-18T11:39:44.578Z"
   },
   {
    "duration": 23,
    "start_time": "2025-08-18T11:39:44.695Z"
   },
   {
    "duration": 101,
    "start_time": "2025-08-18T11:39:44.720Z"
   },
   {
    "duration": 14,
    "start_time": "2025-08-18T11:39:44.823Z"
   },
   {
    "duration": 16,
    "start_time": "2025-08-18T11:39:44.839Z"
   },
   {
    "duration": 11,
    "start_time": "2025-08-18T11:39:44.857Z"
   },
   {
    "duration": 11,
    "start_time": "2025-08-18T11:39:44.872Z"
   },
   {
    "duration": 84,
    "start_time": "2025-08-18T11:39:44.884Z"
   },
   {
    "duration": 19,
    "start_time": "2025-08-18T11:39:44.970Z"
   },
   {
    "duration": 12,
    "start_time": "2025-08-18T11:39:44.992Z"
   },
   {
    "duration": 104,
    "start_time": "2025-08-18T11:39:45.006Z"
   },
   {
    "duration": 13,
    "start_time": "2025-08-18T11:39:45.112Z"
   },
   {
    "duration": 149,
    "start_time": "2025-08-18T11:39:45.127Z"
   },
   {
    "duration": 89,
    "start_time": "2025-08-18T11:39:45.278Z"
   },
   {
    "duration": 3,
    "start_time": "2025-08-18T11:39:45.369Z"
   },
   {
    "duration": 38,
    "start_time": "2025-08-18T11:39:45.374Z"
   },
   {
    "duration": 19,
    "start_time": "2025-08-18T11:39:45.414Z"
   },
   {
    "duration": 27,
    "start_time": "2025-08-18T11:39:45.434Z"
   },
   {
    "duration": 27,
    "start_time": "2025-08-18T11:39:45.465Z"
   },
   {
    "duration": 15,
    "start_time": "2025-08-18T11:39:45.493Z"
   },
   {
    "duration": 18,
    "start_time": "2025-08-18T11:39:45.509Z"
   },
   {
    "duration": 19,
    "start_time": "2025-08-18T11:39:45.529Z"
   },
   {
    "duration": 28,
    "start_time": "2025-08-18T11:39:45.549Z"
   },
   {
    "duration": 9,
    "start_time": "2025-08-18T11:39:45.578Z"
   },
   {
    "duration": 179,
    "start_time": "2025-08-18T11:39:45.589Z"
   },
   {
    "duration": 3,
    "start_time": "2025-08-18T11:39:45.770Z"
   },
   {
    "duration": 2115,
    "start_time": "2025-08-18T11:39:45.775Z"
   },
   {
    "duration": 87,
    "start_time": "2025-08-18T11:39:47.892Z"
   },
   {
    "duration": 48,
    "start_time": "2025-08-18T11:39:47.981Z"
   },
   {
    "duration": 31,
    "start_time": "2025-08-18T11:39:48.031Z"
   },
   {
    "duration": 105,
    "start_time": "2025-08-18T11:39:48.064Z"
   },
   {
    "duration": 12,
    "start_time": "2025-08-18T11:39:48.170Z"
   },
   {
    "duration": 2740,
    "start_time": "2025-08-18T11:39:48.184Z"
   },
   {
    "duration": 119,
    "start_time": "2025-08-18T11:39:50.925Z"
   },
   {
    "duration": 35,
    "start_time": "2025-08-18T11:39:51.045Z"
   },
   {
    "duration": 55,
    "start_time": "2025-08-18T11:39:51.082Z"
   },
   {
    "duration": 126,
    "start_time": "2025-08-18T11:39:51.138Z"
   },
   {
    "duration": 26,
    "start_time": "2025-08-18T11:39:51.265Z"
   },
   {
    "duration": 99,
    "start_time": "2025-08-18T11:39:51.293Z"
   },
   {
    "duration": 420,
    "start_time": "2025-08-18T11:39:51.393Z"
   },
   {
    "duration": 11,
    "start_time": "2025-08-18T11:39:51.815Z"
   },
   {
    "duration": 111,
    "start_time": "2025-08-18T11:39:51.827Z"
   },
   {
    "duration": 92,
    "start_time": "2025-08-18T11:39:51.940Z"
   },
   {
    "duration": 4,
    "start_time": "2025-08-18T11:39:52.034Z"
   },
   {
    "duration": 116,
    "start_time": "2025-08-18T11:39:52.039Z"
   },
   {
    "duration": 0,
    "start_time": "2025-08-18T11:39:52.156Z"
   },
   {
    "duration": 0,
    "start_time": "2025-08-18T11:39:52.158Z"
   },
   {
    "duration": 0,
    "start_time": "2025-08-18T11:39:52.162Z"
   },
   {
    "duration": 0,
    "start_time": "2025-08-18T11:39:52.164Z"
   },
   {
    "duration": 13,
    "start_time": "2025-08-18T11:43:11.705Z"
   },
   {
    "duration": 4,
    "start_time": "2025-08-18T11:43:15.140Z"
   },
   {
    "duration": 414,
    "start_time": "2025-08-18T11:43:56.389Z"
   },
   {
    "duration": 382,
    "start_time": "2025-08-18T11:44:10.318Z"
   },
   {
    "duration": 18,
    "start_time": "2025-08-18T11:45:02.740Z"
   },
   {
    "duration": 3500,
    "start_time": "2025-08-18T11:45:07.975Z"
   },
   {
    "duration": 2470,
    "start_time": "2025-08-18T11:45:11.484Z"
   },
   {
    "duration": 13,
    "start_time": "2025-08-18T11:45:13.956Z"
   },
   {
    "duration": 50,
    "start_time": "2025-08-18T11:45:13.971Z"
   },
   {
    "duration": 26,
    "start_time": "2025-08-18T11:45:14.022Z"
   },
   {
    "duration": 106,
    "start_time": "2025-08-18T11:45:14.050Z"
   },
   {
    "duration": 11,
    "start_time": "2025-08-18T11:45:14.158Z"
   },
   {
    "duration": 324,
    "start_time": "2025-08-18T11:45:14.170Z"
   },
   {
    "duration": 7,
    "start_time": "2025-08-18T11:45:14.496Z"
   },
   {
    "duration": 19,
    "start_time": "2025-08-18T11:45:14.505Z"
   },
   {
    "duration": 7,
    "start_time": "2025-08-18T11:45:14.526Z"
   },
   {
    "duration": 43,
    "start_time": "2025-08-18T11:45:14.535Z"
   },
   {
    "duration": 9,
    "start_time": "2025-08-18T11:45:14.580Z"
   },
   {
    "duration": 96,
    "start_time": "2025-08-18T11:45:14.590Z"
   },
   {
    "duration": 34,
    "start_time": "2025-08-18T11:45:14.688Z"
   },
   {
    "duration": 106,
    "start_time": "2025-08-18T11:45:14.723Z"
   },
   {
    "duration": 12,
    "start_time": "2025-08-18T11:45:14.831Z"
   },
   {
    "duration": 13,
    "start_time": "2025-08-18T11:45:14.845Z"
   },
   {
    "duration": 4,
    "start_time": "2025-08-18T11:45:14.860Z"
   },
   {
    "duration": 54,
    "start_time": "2025-08-18T11:45:14.865Z"
   },
   {
    "duration": 4,
    "start_time": "2025-08-18T11:45:14.921Z"
   },
   {
    "duration": 162,
    "start_time": "2025-08-18T11:45:14.926Z"
   },
   {
    "duration": 96,
    "start_time": "2025-08-18T11:45:15.090Z"
   },
   {
    "duration": 4,
    "start_time": "2025-08-18T11:45:15.188Z"
   },
   {
    "duration": 101,
    "start_time": "2025-08-18T11:45:15.193Z"
   },
   {
    "duration": 24,
    "start_time": "2025-08-18T11:45:15.296Z"
   },
   {
    "duration": 52,
    "start_time": "2025-08-18T11:45:15.321Z"
   },
   {
    "duration": 36,
    "start_time": "2025-08-18T11:45:15.377Z"
   },
   {
    "duration": 8,
    "start_time": "2025-08-18T11:45:15.415Z"
   },
   {
    "duration": 9,
    "start_time": "2025-08-18T11:45:15.425Z"
   },
   {
    "duration": 33,
    "start_time": "2025-08-18T11:45:15.435Z"
   },
   {
    "duration": 40,
    "start_time": "2025-08-18T11:45:15.470Z"
   },
   {
    "duration": 8,
    "start_time": "2025-08-18T11:45:15.512Z"
   },
   {
    "duration": 155,
    "start_time": "2025-08-18T11:45:15.522Z"
   },
   {
    "duration": 3,
    "start_time": "2025-08-18T11:45:15.678Z"
   },
   {
    "duration": 1951,
    "start_time": "2025-08-18T11:45:15.683Z"
   },
   {
    "duration": 70,
    "start_time": "2025-08-18T11:45:17.636Z"
   },
   {
    "duration": 54,
    "start_time": "2025-08-18T11:45:17.708Z"
   },
   {
    "duration": 14,
    "start_time": "2025-08-18T11:45:17.764Z"
   },
   {
    "duration": 119,
    "start_time": "2025-08-18T11:45:17.780Z"
   },
   {
    "duration": 16,
    "start_time": "2025-08-18T11:45:17.901Z"
   },
   {
    "duration": 2616,
    "start_time": "2025-08-18T11:45:17.921Z"
   },
   {
    "duration": 127,
    "start_time": "2025-08-18T11:45:20.538Z"
   },
   {
    "duration": 31,
    "start_time": "2025-08-18T11:45:20.667Z"
   },
   {
    "duration": 66,
    "start_time": "2025-08-18T11:45:20.699Z"
   },
   {
    "duration": 116,
    "start_time": "2025-08-18T11:45:20.766Z"
   },
   {
    "duration": 122,
    "start_time": "2025-08-18T11:45:20.884Z"
   },
   {
    "duration": 102,
    "start_time": "2025-08-18T11:45:21.008Z"
   },
   {
    "duration": 396,
    "start_time": "2025-08-18T11:45:21.112Z"
   },
   {
    "duration": 11,
    "start_time": "2025-08-18T11:45:21.510Z"
   },
   {
    "duration": 101,
    "start_time": "2025-08-18T11:45:21.523Z"
   },
   {
    "duration": 92,
    "start_time": "2025-08-18T11:45:21.625Z"
   },
   {
    "duration": 4,
    "start_time": "2025-08-18T11:45:21.719Z"
   },
   {
    "duration": 9,
    "start_time": "2025-08-18T11:45:21.724Z"
   },
   {
    "duration": 15,
    "start_time": "2025-08-18T11:45:22.171Z"
   },
   {
    "duration": 264,
    "start_time": "2025-08-18T11:45:22.187Z"
   },
   {
    "duration": 16,
    "start_time": "2025-08-18T11:45:22.452Z"
   },
   {
    "duration": 16,
    "start_time": "2025-08-18T11:45:22.469Z"
   },
   {
    "duration": 398,
    "start_time": "2025-08-18T11:45:22.488Z"
   },
   {
    "duration": 14,
    "start_time": "2025-08-18T11:45:22.888Z"
   },
   {
    "duration": 4931,
    "start_time": "2025-08-18T17:52:47.349Z"
   },
   {
    "duration": 2359,
    "start_time": "2025-08-18T17:52:52.282Z"
   },
   {
    "duration": 12,
    "start_time": "2025-08-18T17:52:54.643Z"
   },
   {
    "duration": 24,
    "start_time": "2025-08-18T17:52:54.656Z"
   },
   {
    "duration": 22,
    "start_time": "2025-08-18T17:52:54.682Z"
   },
   {
    "duration": 98,
    "start_time": "2025-08-18T17:52:54.705Z"
   },
   {
    "duration": 9,
    "start_time": "2025-08-18T17:52:54.804Z"
   },
   {
    "duration": 48,
    "start_time": "2025-08-18T17:52:54.814Z"
   },
   {
    "duration": 7,
    "start_time": "2025-08-18T17:52:54.863Z"
   },
   {
    "duration": 19,
    "start_time": "2025-08-18T17:52:54.871Z"
   },
   {
    "duration": 7,
    "start_time": "2025-08-18T17:52:54.891Z"
   },
   {
    "duration": 31,
    "start_time": "2025-08-18T17:52:54.899Z"
   },
   {
    "duration": 9,
    "start_time": "2025-08-18T17:52:54.950Z"
   },
   {
    "duration": 12,
    "start_time": "2025-08-18T17:52:54.962Z"
   },
   {
    "duration": 7,
    "start_time": "2025-08-18T17:52:54.975Z"
   },
   {
    "duration": 8,
    "start_time": "2025-08-18T17:52:54.983Z"
   },
   {
    "duration": 9,
    "start_time": "2025-08-18T17:52:54.992Z"
   },
   {
    "duration": 17,
    "start_time": "2025-08-18T17:52:55.003Z"
   },
   {
    "duration": 46,
    "start_time": "2025-08-18T17:52:55.021Z"
   },
   {
    "duration": 52,
    "start_time": "2025-08-18T17:52:55.068Z"
   },
   {
    "duration": 4,
    "start_time": "2025-08-18T17:52:55.122Z"
   },
   {
    "duration": 72,
    "start_time": "2025-08-18T17:52:55.128Z"
   },
   {
    "duration": 103,
    "start_time": "2025-08-18T17:52:55.204Z"
   },
   {
    "duration": 4,
    "start_time": "2025-08-18T17:52:55.309Z"
   },
   {
    "duration": 13,
    "start_time": "2025-08-18T17:52:55.315Z"
   },
   {
    "duration": 19,
    "start_time": "2025-08-18T17:52:55.330Z"
   },
   {
    "duration": 16,
    "start_time": "2025-08-18T17:52:55.351Z"
   },
   {
    "duration": 28,
    "start_time": "2025-08-18T17:52:55.368Z"
   },
   {
    "duration": 8,
    "start_time": "2025-08-18T17:52:55.398Z"
   },
   {
    "duration": 15,
    "start_time": "2025-08-18T17:52:55.407Z"
   },
   {
    "duration": 9,
    "start_time": "2025-08-18T17:52:55.423Z"
   },
   {
    "duration": 25,
    "start_time": "2025-08-18T17:52:55.433Z"
   },
   {
    "duration": 9,
    "start_time": "2025-08-18T17:52:55.460Z"
   },
   {
    "duration": 167,
    "start_time": "2025-08-18T17:52:55.470Z"
   },
   {
    "duration": 3,
    "start_time": "2025-08-18T17:52:55.639Z"
   },
   {
    "duration": 1931,
    "start_time": "2025-08-18T17:52:55.643Z"
   },
   {
    "duration": 58,
    "start_time": "2025-08-18T17:52:57.576Z"
   },
   {
    "duration": 44,
    "start_time": "2025-08-18T17:52:57.648Z"
   },
   {
    "duration": 13,
    "start_time": "2025-08-18T17:52:57.693Z"
   },
   {
    "duration": 122,
    "start_time": "2025-08-18T17:52:57.707Z"
   },
   {
    "duration": 11,
    "start_time": "2025-08-18T17:52:57.833Z"
   },
   {
    "duration": 2568,
    "start_time": "2025-08-18T17:52:57.849Z"
   },
   {
    "duration": 116,
    "start_time": "2025-08-18T17:53:00.418Z"
   },
   {
    "duration": 32,
    "start_time": "2025-08-18T17:53:00.535Z"
   },
   {
    "duration": 48,
    "start_time": "2025-08-18T17:53:00.569Z"
   },
   {
    "duration": 74,
    "start_time": "2025-08-18T17:53:00.619Z"
   },
   {
    "duration": 48,
    "start_time": "2025-08-18T17:53:00.695Z"
   },
   {
    "duration": 85,
    "start_time": "2025-08-18T17:53:00.745Z"
   },
   {
    "duration": 377,
    "start_time": "2025-08-18T17:53:00.831Z"
   },
   {
    "duration": 11,
    "start_time": "2025-08-18T17:53:01.209Z"
   },
   {
    "duration": 95,
    "start_time": "2025-08-18T17:53:01.222Z"
   },
   {
    "duration": 92,
    "start_time": "2025-08-18T17:53:01.319Z"
   },
   {
    "duration": 4,
    "start_time": "2025-08-18T17:53:01.412Z"
   },
   {
    "duration": 19,
    "start_time": "2025-08-18T17:53:01.417Z"
   },
   {
    "duration": 427,
    "start_time": "2025-08-18T17:53:01.438Z"
   },
   {
    "duration": 14,
    "start_time": "2025-08-18T17:53:01.866Z"
   },
   {
    "duration": 82,
    "start_time": "2025-08-18T17:53:01.882Z"
   },
   {
    "duration": 15,
    "start_time": "2025-08-18T17:53:01.966Z"
   },
   {
    "duration": 18,
    "start_time": "2025-08-18T17:53:01.982Z"
   },
   {
    "duration": 94,
    "start_time": "2025-08-18T17:55:44.547Z"
   },
   {
    "duration": 8,
    "start_time": "2025-08-18T17:55:46.458Z"
   },
   {
    "duration": 1244,
    "start_time": "2025-08-18T17:56:22.268Z"
   },
   {
    "duration": 1541,
    "start_time": "2025-08-18T17:57:26.386Z"
   },
   {
    "duration": 75,
    "start_time": "2025-08-18T17:58:02.900Z"
   },
   {
    "duration": 4,
    "start_time": "2025-08-18T17:58:11.582Z"
   },
   {
    "duration": 25,
    "start_time": "2025-08-18T17:58:33.815Z"
   },
   {
    "duration": 38,
    "start_time": "2025-08-18T17:58:38.672Z"
   },
   {
    "duration": 18,
    "start_time": "2025-08-18T17:59:35.092Z"
   },
   {
    "duration": 3478,
    "start_time": "2025-08-18T17:59:40.482Z"
   },
   {
    "duration": 2006,
    "start_time": "2025-08-18T17:59:43.962Z"
   },
   {
    "duration": 13,
    "start_time": "2025-08-18T17:59:45.969Z"
   },
   {
    "duration": 196,
    "start_time": "2025-08-18T17:59:45.984Z"
   },
   {
    "duration": 124,
    "start_time": "2025-08-18T17:59:46.181Z"
   },
   {
    "duration": 125,
    "start_time": "2025-08-18T17:59:46.307Z"
   },
   {
    "duration": 8,
    "start_time": "2025-08-18T17:59:46.434Z"
   },
   {
    "duration": 50,
    "start_time": "2025-08-18T17:59:46.448Z"
   },
   {
    "duration": 11,
    "start_time": "2025-08-18T17:59:46.501Z"
   },
   {
    "duration": 42,
    "start_time": "2025-08-18T17:59:46.516Z"
   },
   {
    "duration": 12,
    "start_time": "2025-08-18T17:59:46.560Z"
   },
   {
    "duration": 42,
    "start_time": "2025-08-18T17:59:46.574Z"
   },
   {
    "duration": 18,
    "start_time": "2025-08-18T17:59:46.617Z"
   },
   {
    "duration": 23,
    "start_time": "2025-08-18T17:59:46.636Z"
   },
   {
    "duration": 8,
    "start_time": "2025-08-18T17:59:46.660Z"
   },
   {
    "duration": 14,
    "start_time": "2025-08-18T17:59:46.669Z"
   },
   {
    "duration": 13,
    "start_time": "2025-08-18T17:59:46.685Z"
   },
   {
    "duration": 14,
    "start_time": "2025-08-18T17:59:46.699Z"
   },
   {
    "duration": 7,
    "start_time": "2025-08-18T17:59:46.715Z"
   },
   {
    "duration": 59,
    "start_time": "2025-08-18T17:59:46.724Z"
   },
   {
    "duration": 4,
    "start_time": "2025-08-18T17:59:46.785Z"
   },
   {
    "duration": 69,
    "start_time": "2025-08-18T17:59:46.791Z"
   },
   {
    "duration": 95,
    "start_time": "2025-08-18T17:59:46.861Z"
   },
   {
    "duration": 4,
    "start_time": "2025-08-18T17:59:46.957Z"
   },
   {
    "duration": 20,
    "start_time": "2025-08-18T17:59:46.962Z"
   },
   {
    "duration": 4,
    "start_time": "2025-08-18T17:59:46.983Z"
   },
   {
    "duration": 20,
    "start_time": "2025-08-18T17:59:46.988Z"
   },
   {
    "duration": 14,
    "start_time": "2025-08-18T17:59:47.013Z"
   },
   {
    "duration": 21,
    "start_time": "2025-08-18T17:59:47.029Z"
   },
   {
    "duration": 10,
    "start_time": "2025-08-18T17:59:47.052Z"
   },
   {
    "duration": 7,
    "start_time": "2025-08-18T17:59:47.064Z"
   },
   {
    "duration": 24,
    "start_time": "2025-08-18T17:59:47.073Z"
   },
   {
    "duration": 29,
    "start_time": "2025-08-18T17:59:47.099Z"
   },
   {
    "duration": 176,
    "start_time": "2025-08-18T17:59:47.130Z"
   },
   {
    "duration": 2,
    "start_time": "2025-08-18T17:59:47.307Z"
   },
   {
    "duration": 1960,
    "start_time": "2025-08-18T17:59:47.311Z"
   },
   {
    "duration": 58,
    "start_time": "2025-08-18T17:59:49.272Z"
   },
   {
    "duration": 56,
    "start_time": "2025-08-18T17:59:49.332Z"
   },
   {
    "duration": 12,
    "start_time": "2025-08-18T17:59:49.390Z"
   },
   {
    "duration": 116,
    "start_time": "2025-08-18T17:59:49.403Z"
   },
   {
    "duration": 11,
    "start_time": "2025-08-18T17:59:49.521Z"
   },
   {
    "duration": 2539,
    "start_time": "2025-08-18T17:59:49.534Z"
   },
   {
    "duration": 118,
    "start_time": "2025-08-18T17:59:52.074Z"
   },
   {
    "duration": 107,
    "start_time": "2025-08-18T17:59:52.194Z"
   },
   {
    "duration": 53,
    "start_time": "2025-08-18T17:59:52.303Z"
   },
   {
    "duration": 54,
    "start_time": "2025-08-18T17:59:52.358Z"
   },
   {
    "duration": 36,
    "start_time": "2025-08-18T17:59:52.414Z"
   },
   {
    "duration": 86,
    "start_time": "2025-08-18T17:59:52.451Z"
   },
   {
    "duration": 364,
    "start_time": "2025-08-18T17:59:52.538Z"
   },
   {
    "duration": 10,
    "start_time": "2025-08-18T17:59:52.904Z"
   },
   {
    "duration": 93,
    "start_time": "2025-08-18T17:59:52.916Z"
   },
   {
    "duration": 91,
    "start_time": "2025-08-18T17:59:53.010Z"
   },
   {
    "duration": 4,
    "start_time": "2025-08-18T17:59:53.102Z"
   },
   {
    "duration": 22,
    "start_time": "2025-08-18T17:59:53.107Z"
   },
   {
    "duration": 104,
    "start_time": "2025-08-18T17:59:53.130Z"
   },
   {
    "duration": 0,
    "start_time": "2025-08-18T17:59:53.235Z"
   },
   {
    "duration": 0,
    "start_time": "2025-08-18T17:59:53.236Z"
   },
   {
    "duration": 0,
    "start_time": "2025-08-18T17:59:53.237Z"
   },
   {
    "duration": 0,
    "start_time": "2025-08-18T17:59:53.238Z"
   },
   {
    "duration": 0,
    "start_time": "2025-08-18T17:59:53.239Z"
   },
   {
    "duration": 0,
    "start_time": "2025-08-18T17:59:53.241Z"
   },
   {
    "duration": 85,
    "start_time": "2025-08-18T18:00:51.169Z"
   },
   {
    "duration": 38,
    "start_time": "2025-08-18T18:01:15.131Z"
   },
   {
    "duration": 42,
    "start_time": "2025-08-18T18:01:16.051Z"
   },
   {
    "duration": 344,
    "start_time": "2025-08-18T18:02:00.545Z"
   },
   {
    "duration": 424,
    "start_time": "2025-08-18T18:02:09.328Z"
   },
   {
    "duration": 14,
    "start_time": "2025-08-18T18:02:13.375Z"
   },
   {
    "duration": 69,
    "start_time": "2025-08-18T18:02:13.821Z"
   },
   {
    "duration": 17,
    "start_time": "2025-08-18T18:02:14.266Z"
   },
   {
    "duration": 14,
    "start_time": "2025-08-18T18:02:14.730Z"
   },
   {
    "duration": 25,
    "start_time": "2025-08-18T18:02:38.801Z"
   },
   {
    "duration": 28,
    "start_time": "2025-08-18T18:02:42.044Z"
   },
   {
    "duration": 157,
    "start_time": "2025-08-18T18:06:43.527Z"
   },
   {
    "duration": 792,
    "start_time": "2025-08-18T18:08:06.439Z"
   },
   {
    "duration": 439,
    "start_time": "2025-08-18T18:08:33.414Z"
   },
   {
    "duration": 29,
    "start_time": "2025-08-18T18:09:01.876Z"
   },
   {
    "duration": 385,
    "start_time": "2025-08-18T18:12:25.532Z"
   },
   {
    "duration": 111,
    "start_time": "2025-08-18T18:12:33.004Z"
   },
   {
    "duration": 19,
    "start_time": "2025-08-18T18:15:54.969Z"
   },
   {
    "duration": 14,
    "start_time": "2025-08-18T18:16:26.938Z"
   },
   {
    "duration": 3554,
    "start_time": "2025-08-18T18:16:34.502Z"
   },
   {
    "duration": 2032,
    "start_time": "2025-08-18T18:16:38.058Z"
   },
   {
    "duration": 12,
    "start_time": "2025-08-18T18:16:40.091Z"
   },
   {
    "duration": 127,
    "start_time": "2025-08-18T18:16:40.105Z"
   },
   {
    "duration": 125,
    "start_time": "2025-08-18T18:16:40.234Z"
   },
   {
    "duration": 106,
    "start_time": "2025-08-18T18:16:40.361Z"
   },
   {
    "duration": 9,
    "start_time": "2025-08-18T18:16:40.468Z"
   },
   {
    "duration": 43,
    "start_time": "2025-08-18T18:16:40.478Z"
   },
   {
    "duration": 7,
    "start_time": "2025-08-18T18:16:40.523Z"
   },
   {
    "duration": 34,
    "start_time": "2025-08-18T18:16:40.531Z"
   },
   {
    "duration": 6,
    "start_time": "2025-08-18T18:16:40.567Z"
   },
   {
    "duration": 23,
    "start_time": "2025-08-18T18:16:40.575Z"
   },
   {
    "duration": 11,
    "start_time": "2025-08-18T18:16:40.599Z"
   },
   {
    "duration": 37,
    "start_time": "2025-08-18T18:16:40.614Z"
   },
   {
    "duration": 7,
    "start_time": "2025-08-18T18:16:40.652Z"
   },
   {
    "duration": 16,
    "start_time": "2025-08-18T18:16:40.661Z"
   },
   {
    "duration": 6,
    "start_time": "2025-08-18T18:16:40.679Z"
   },
   {
    "duration": 46,
    "start_time": "2025-08-18T18:16:40.687Z"
   },
   {
    "duration": 7,
    "start_time": "2025-08-18T18:16:40.735Z"
   },
   {
    "duration": 52,
    "start_time": "2025-08-18T18:16:40.743Z"
   },
   {
    "duration": 4,
    "start_time": "2025-08-18T18:16:40.797Z"
   },
   {
    "duration": 82,
    "start_time": "2025-08-18T18:16:40.802Z"
   },
   {
    "duration": 105,
    "start_time": "2025-08-18T18:16:40.886Z"
   },
   {
    "duration": 4,
    "start_time": "2025-08-18T18:16:40.992Z"
   },
   {
    "duration": 37,
    "start_time": "2025-08-18T18:16:40.998Z"
   },
   {
    "duration": 33,
    "start_time": "2025-08-18T18:16:41.037Z"
   },
   {
    "duration": 34,
    "start_time": "2025-08-18T18:16:41.072Z"
   },
   {
    "duration": 44,
    "start_time": "2025-08-18T18:16:41.108Z"
   },
   {
    "duration": 3,
    "start_time": "2025-08-18T18:16:41.154Z"
   },
   {
    "duration": 6,
    "start_time": "2025-08-18T18:16:41.159Z"
   },
   {
    "duration": 6,
    "start_time": "2025-08-18T18:16:41.166Z"
   },
   {
    "duration": 23,
    "start_time": "2025-08-18T18:16:41.173Z"
   },
   {
    "duration": 8,
    "start_time": "2025-08-18T18:16:41.197Z"
   },
   {
    "duration": 178,
    "start_time": "2025-08-18T18:16:41.206Z"
   },
   {
    "duration": 2,
    "start_time": "2025-08-18T18:16:41.386Z"
   },
   {
    "duration": 1972,
    "start_time": "2025-08-18T18:16:41.390Z"
   },
   {
    "duration": 58,
    "start_time": "2025-08-18T18:16:43.364Z"
   },
   {
    "duration": 64,
    "start_time": "2025-08-18T18:16:43.424Z"
   },
   {
    "duration": 13,
    "start_time": "2025-08-18T18:16:43.489Z"
   },
   {
    "duration": 109,
    "start_time": "2025-08-18T18:16:43.504Z"
   },
   {
    "duration": 13,
    "start_time": "2025-08-18T18:16:43.617Z"
   },
   {
    "duration": 2738,
    "start_time": "2025-08-18T18:16:43.632Z"
   },
   {
    "duration": 128,
    "start_time": "2025-08-18T18:16:46.372Z"
   },
   {
    "duration": 47,
    "start_time": "2025-08-18T18:16:46.502Z"
   },
   {
    "duration": 47,
    "start_time": "2025-08-18T18:16:46.551Z"
   },
   {
    "duration": 78,
    "start_time": "2025-08-18T18:16:46.600Z"
   },
   {
    "duration": 28,
    "start_time": "2025-08-18T18:16:46.679Z"
   },
   {
    "duration": 103,
    "start_time": "2025-08-18T18:16:46.709Z"
   },
   {
    "duration": 369,
    "start_time": "2025-08-18T18:16:46.813Z"
   },
   {
    "duration": 11,
    "start_time": "2025-08-18T18:16:47.183Z"
   },
   {
    "duration": 172,
    "start_time": "2025-08-18T18:16:47.195Z"
   },
   {
    "duration": 87,
    "start_time": "2025-08-18T18:16:47.369Z"
   },
   {
    "duration": 4,
    "start_time": "2025-08-18T18:16:47.458Z"
   },
   {
    "duration": 8,
    "start_time": "2025-08-18T18:16:47.463Z"
   },
   {
    "duration": 467,
    "start_time": "2025-08-18T18:16:47.472Z"
   },
   {
    "duration": 14,
    "start_time": "2025-08-18T18:16:47.941Z"
   },
   {
    "duration": 71,
    "start_time": "2025-08-18T18:16:47.957Z"
   },
   {
    "duration": 46,
    "start_time": "2025-08-18T18:16:48.030Z"
   },
   {
    "duration": 274,
    "start_time": "2025-08-18T18:16:48.077Z"
   },
   {
    "duration": 25,
    "start_time": "2025-08-18T18:16:48.353Z"
   },
   {
    "duration": 27,
    "start_time": "2025-08-18T18:16:48.379Z"
   },
   {
    "duration": 514,
    "start_time": "2025-08-18T18:16:48.407Z"
   },
   {
    "duration": 38,
    "start_time": "2025-08-18T18:16:48.923Z"
   },
   {
    "duration": 119,
    "start_time": "2025-08-18T18:16:48.963Z"
   },
   {
    "duration": 23,
    "start_time": "2025-08-18T18:16:49.084Z"
   },
   {
    "duration": 18,
    "start_time": "2025-08-18T18:17:38.922Z"
   },
   {
    "duration": 8,
    "start_time": "2025-08-18T18:17:48.093Z"
   },
   {
    "duration": 19,
    "start_time": "2025-08-18T18:21:54.817Z"
   },
   {
    "duration": 10,
    "start_time": "2025-08-18T18:22:17.274Z"
   },
   {
    "duration": 18,
    "start_time": "2025-08-18T18:22:59.644Z"
   },
   {
    "duration": 13,
    "start_time": "2025-08-18T18:23:02.688Z"
   },
   {
    "duration": 14,
    "start_time": "2025-08-18T18:23:06.411Z"
   },
   {
    "duration": 8,
    "start_time": "2025-08-18T18:23:10.910Z"
   },
   {
    "duration": 11,
    "start_time": "2025-08-18T18:25:59.001Z"
   },
   {
    "duration": 242,
    "start_time": "2025-08-18T18:28:47.663Z"
   },
   {
    "duration": 47,
    "start_time": "2025-08-19T11:04:49.694Z"
   },
   {
    "duration": 6,
    "start_time": "2025-08-19T11:06:33.823Z"
   },
   {
    "duration": 4744,
    "start_time": "2025-08-19T11:06:44.286Z"
   },
   {
    "duration": 2368,
    "start_time": "2025-08-19T11:06:49.032Z"
   },
   {
    "duration": 11,
    "start_time": "2025-08-19T11:06:51.402Z"
   },
   {
    "duration": 158,
    "start_time": "2025-08-19T11:06:51.414Z"
   },
   {
    "duration": 108,
    "start_time": "2025-08-19T11:06:51.574Z"
   },
   {
    "duration": 264,
    "start_time": "2025-08-19T11:06:51.684Z"
   },
   {
    "duration": 9,
    "start_time": "2025-08-19T11:06:51.949Z"
   },
   {
    "duration": 60,
    "start_time": "2025-08-19T11:06:51.959Z"
   },
   {
    "duration": 57,
    "start_time": "2025-08-19T11:06:52.021Z"
   },
   {
    "duration": 226,
    "start_time": "2025-08-19T11:06:52.079Z"
   },
   {
    "duration": 51,
    "start_time": "2025-08-19T11:06:52.307Z"
   },
   {
    "duration": 69,
    "start_time": "2025-08-19T11:06:52.360Z"
   },
   {
    "duration": 51,
    "start_time": "2025-08-19T11:06:52.431Z"
   },
   {
    "duration": 147,
    "start_time": "2025-08-19T11:06:52.485Z"
   },
   {
    "duration": 47,
    "start_time": "2025-08-19T11:06:52.634Z"
   },
   {
    "duration": 42,
    "start_time": "2025-08-19T11:06:52.682Z"
   },
   {
    "duration": 80,
    "start_time": "2025-08-19T11:06:52.726Z"
   },
   {
    "duration": 78,
    "start_time": "2025-08-19T11:06:52.807Z"
   },
   {
    "duration": 153,
    "start_time": "2025-08-19T11:06:52.886Z"
   },
   {
    "duration": 122,
    "start_time": "2025-08-19T11:06:53.041Z"
   },
   {
    "duration": 35,
    "start_time": "2025-08-19T11:06:53.165Z"
   },
   {
    "duration": 112,
    "start_time": "2025-08-19T11:06:53.201Z"
   },
   {
    "duration": 87,
    "start_time": "2025-08-19T11:06:53.315Z"
   },
   {
    "duration": 46,
    "start_time": "2025-08-19T11:06:53.403Z"
   },
   {
    "duration": 35,
    "start_time": "2025-08-19T11:06:53.451Z"
   },
   {
    "duration": 48,
    "start_time": "2025-08-19T11:06:53.488Z"
   },
   {
    "duration": 329,
    "start_time": "2025-08-19T11:06:53.537Z"
   },
   {
    "duration": 61,
    "start_time": "2025-08-19T11:06:53.868Z"
   },
   {
    "duration": 51,
    "start_time": "2025-08-19T11:06:53.931Z"
   },
   {
    "duration": 44,
    "start_time": "2025-08-19T11:06:53.983Z"
   },
   {
    "duration": 53,
    "start_time": "2025-08-19T11:06:54.028Z"
   },
   {
    "duration": 41,
    "start_time": "2025-08-19T11:06:54.082Z"
   },
   {
    "duration": 17,
    "start_time": "2025-08-19T11:06:54.124Z"
   },
   {
    "duration": 186,
    "start_time": "2025-08-19T11:06:54.142Z"
   },
   {
    "duration": 2,
    "start_time": "2025-08-19T11:06:54.330Z"
   },
   {
    "duration": 2028,
    "start_time": "2025-08-19T11:06:54.333Z"
   },
   {
    "duration": 65,
    "start_time": "2025-08-19T11:06:56.363Z"
   },
   {
    "duration": 63,
    "start_time": "2025-08-19T11:06:56.429Z"
   },
   {
    "duration": 37,
    "start_time": "2025-08-19T11:06:56.493Z"
   },
   {
    "duration": 135,
    "start_time": "2025-08-19T11:06:56.531Z"
   },
   {
    "duration": 11,
    "start_time": "2025-08-19T11:06:56.671Z"
   },
   {
    "duration": 2514,
    "start_time": "2025-08-19T11:06:56.683Z"
   },
   {
    "duration": 108,
    "start_time": "2025-08-19T11:06:59.199Z"
   },
   {
    "duration": 29,
    "start_time": "2025-08-19T11:06:59.308Z"
   },
   {
    "duration": 155,
    "start_time": "2025-08-19T11:06:59.339Z"
   },
   {
    "duration": 176,
    "start_time": "2025-08-19T11:06:59.495Z"
   },
   {
    "duration": 233,
    "start_time": "2025-08-19T11:06:59.673Z"
   },
   {
    "duration": 112,
    "start_time": "2025-08-19T11:06:59.908Z"
   },
   {
    "duration": 357,
    "start_time": "2025-08-19T11:07:00.021Z"
   },
   {
    "duration": 19,
    "start_time": "2025-08-19T11:07:00.380Z"
   },
   {
    "duration": 343,
    "start_time": "2025-08-19T11:07:00.401Z"
   },
   {
    "duration": 414,
    "start_time": "2025-08-19T11:07:00.746Z"
   },
   {
    "duration": 4,
    "start_time": "2025-08-19T11:07:01.162Z"
   },
   {
    "duration": 81,
    "start_time": "2025-08-19T11:07:01.168Z"
   },
   {
    "duration": 440,
    "start_time": "2025-08-19T11:07:01.251Z"
   },
   {
    "duration": 13,
    "start_time": "2025-08-19T11:07:01.693Z"
   },
   {
    "duration": 257,
    "start_time": "2025-08-19T11:07:01.707Z"
   },
   {
    "duration": 16,
    "start_time": "2025-08-19T11:07:01.965Z"
   },
   {
    "duration": 38,
    "start_time": "2025-08-19T11:07:01.982Z"
   },
   {
    "duration": 25,
    "start_time": "2025-08-19T11:07:02.022Z"
   },
   {
    "duration": 37,
    "start_time": "2025-08-19T11:07:02.048Z"
   },
   {
    "duration": 723,
    "start_time": "2025-08-19T11:07:02.087Z"
   },
   {
    "duration": 30,
    "start_time": "2025-08-19T11:07:02.812Z"
   },
   {
    "duration": 131,
    "start_time": "2025-08-19T11:07:02.844Z"
   },
   {
    "duration": 66,
    "start_time": "2025-08-19T11:07:02.977Z"
   },
   {
    "duration": 93,
    "start_time": "2025-08-19T11:07:03.045Z"
   },
   {
    "duration": 28,
    "start_time": "2025-08-19T11:07:03.140Z"
   },
   {
    "duration": 63,
    "start_time": "2025-08-19T11:07:03.169Z"
   },
   {
    "duration": 24,
    "start_time": "2025-08-19T11:07:03.234Z"
   },
   {
    "duration": 48,
    "start_time": "2025-08-19T11:07:03.260Z"
   },
   {
    "duration": 88,
    "start_time": "2025-08-19T11:07:03.310Z"
   },
   {
    "duration": 62,
    "start_time": "2025-08-19T11:07:03.400Z"
   },
   {
    "duration": 249,
    "start_time": "2025-08-19T11:07:03.464Z"
   },
   {
    "duration": 96,
    "start_time": "2025-08-19T11:08:21.327Z"
   },
   {
    "duration": 22,
    "start_time": "2025-08-19T11:10:13.430Z"
   },
   {
    "duration": 31,
    "start_time": "2025-08-19T11:15:21.113Z"
   },
   {
    "duration": 21,
    "start_time": "2025-08-19T11:21:12.932Z"
   },
   {
    "duration": 19,
    "start_time": "2025-08-19T11:24:29.966Z"
   },
   {
    "duration": 16,
    "start_time": "2025-08-19T11:25:05.279Z"
   },
   {
    "duration": 27,
    "start_time": "2025-08-19T11:26:00.698Z"
   },
   {
    "duration": 46,
    "start_time": "2025-08-19T11:26:29.705Z"
   },
   {
    "duration": 39,
    "start_time": "2025-08-19T11:26:39.678Z"
   },
   {
    "duration": 12,
    "start_time": "2025-08-19T11:27:22.829Z"
   },
   {
    "duration": 16,
    "start_time": "2025-08-19T11:29:25.076Z"
   },
   {
    "duration": 12,
    "start_time": "2025-08-19T11:46:57.248Z"
   },
   {
    "duration": 8,
    "start_time": "2025-08-19T12:05:00.883Z"
   },
   {
    "duration": 10,
    "start_time": "2025-08-19T12:05:10.073Z"
   },
   {
    "duration": 8,
    "start_time": "2025-08-19T12:05:23.097Z"
   },
   {
    "duration": 24,
    "start_time": "2025-08-19T12:06:43.919Z"
   },
   {
    "duration": 18,
    "start_time": "2025-08-19T12:49:12.267Z"
   },
   {
    "duration": 13,
    "start_time": "2025-08-19T12:52:49.951Z"
   },
   {
    "duration": 12,
    "start_time": "2025-08-19T12:53:03.170Z"
   },
   {
    "duration": 129,
    "start_time": "2025-08-19T12:56:51.711Z"
   },
   {
    "duration": 128,
    "start_time": "2025-08-19T12:58:55.270Z"
   },
   {
    "duration": 377,
    "start_time": "2025-08-19T13:05:59.979Z"
   },
   {
    "duration": 49,
    "start_time": "2025-08-19T13:08:32.837Z"
   },
   {
    "duration": 33,
    "start_time": "2025-08-19T13:09:34.859Z"
   },
   {
    "duration": 18524,
    "start_time": "2025-10-03T14:43:54.374Z"
   },
   {
    "duration": 2288,
    "start_time": "2025-10-03T14:44:12.901Z"
   },
   {
    "duration": 13,
    "start_time": "2025-10-03T14:44:15.191Z"
   },
   {
    "duration": 52,
    "start_time": "2025-10-03T14:44:15.207Z"
   },
   {
    "duration": 33,
    "start_time": "2025-10-03T14:44:15.268Z"
   },
   {
    "duration": 140,
    "start_time": "2025-10-03T14:44:15.303Z"
   },
   {
    "duration": 24,
    "start_time": "2025-10-03T14:44:15.445Z"
   },
   {
    "duration": 66,
    "start_time": "2025-10-03T14:44:15.471Z"
   },
   {
    "duration": 27,
    "start_time": "2025-10-03T14:44:15.539Z"
   },
   {
    "duration": 24,
    "start_time": "2025-10-03T14:44:15.570Z"
   },
   {
    "duration": 74,
    "start_time": "2025-10-03T14:44:15.596Z"
   },
   {
    "duration": 31,
    "start_time": "2025-10-03T14:44:15.672Z"
   },
   {
    "duration": 14,
    "start_time": "2025-10-03T14:44:15.705Z"
   },
   {
    "duration": 12,
    "start_time": "2025-10-03T14:44:15.721Z"
   },
   {
    "duration": 6,
    "start_time": "2025-10-03T14:44:15.735Z"
   },
   {
    "duration": 12,
    "start_time": "2025-10-03T14:44:15.759Z"
   },
   {
    "duration": 7,
    "start_time": "2025-10-03T14:44:15.773Z"
   },
   {
    "duration": 18,
    "start_time": "2025-10-03T14:44:15.782Z"
   },
   {
    "duration": 3,
    "start_time": "2025-10-03T14:44:15.801Z"
   },
   {
    "duration": 65,
    "start_time": "2025-10-03T14:44:15.806Z"
   },
   {
    "duration": 7,
    "start_time": "2025-10-03T14:44:15.873Z"
   },
   {
    "duration": 1130,
    "start_time": "2025-10-03T14:44:15.882Z"
   },
   {
    "duration": 0,
    "start_time": "2025-10-03T14:44:17.016Z"
   },
   {
    "duration": 0,
    "start_time": "2025-10-03T14:44:17.017Z"
   },
   {
    "duration": 0,
    "start_time": "2025-10-03T14:44:17.018Z"
   },
   {
    "duration": 0,
    "start_time": "2025-10-03T14:44:17.019Z"
   },
   {
    "duration": 0,
    "start_time": "2025-10-03T14:44:17.020Z"
   },
   {
    "duration": 0,
    "start_time": "2025-10-03T14:44:17.021Z"
   },
   {
    "duration": 0,
    "start_time": "2025-10-03T14:44:17.022Z"
   },
   {
    "duration": 0,
    "start_time": "2025-10-03T14:44:17.023Z"
   },
   {
    "duration": 0,
    "start_time": "2025-10-03T14:44:17.024Z"
   },
   {
    "duration": 0,
    "start_time": "2025-10-03T14:44:17.025Z"
   },
   {
    "duration": 0,
    "start_time": "2025-10-03T14:44:17.026Z"
   },
   {
    "duration": 0,
    "start_time": "2025-10-03T14:44:17.027Z"
   },
   {
    "duration": 0,
    "start_time": "2025-10-03T14:44:17.028Z"
   },
   {
    "duration": 0,
    "start_time": "2025-10-03T14:44:17.029Z"
   },
   {
    "duration": 0,
    "start_time": "2025-10-03T14:44:17.030Z"
   },
   {
    "duration": 0,
    "start_time": "2025-10-03T14:44:17.031Z"
   },
   {
    "duration": 0,
    "start_time": "2025-10-03T14:44:17.032Z"
   },
   {
    "duration": 0,
    "start_time": "2025-10-03T14:44:17.033Z"
   },
   {
    "duration": 0,
    "start_time": "2025-10-03T14:44:17.034Z"
   },
   {
    "duration": 0,
    "start_time": "2025-10-03T14:44:17.035Z"
   },
   {
    "duration": 0,
    "start_time": "2025-10-03T14:44:17.036Z"
   },
   {
    "duration": 0,
    "start_time": "2025-10-03T14:44:17.037Z"
   },
   {
    "duration": 0,
    "start_time": "2025-10-03T14:44:17.038Z"
   },
   {
    "duration": 0,
    "start_time": "2025-10-03T14:44:17.039Z"
   },
   {
    "duration": 0,
    "start_time": "2025-10-03T14:44:17.040Z"
   },
   {
    "duration": 0,
    "start_time": "2025-10-03T14:44:17.041Z"
   },
   {
    "duration": 0,
    "start_time": "2025-10-03T14:44:17.042Z"
   },
   {
    "duration": 0,
    "start_time": "2025-10-03T14:44:17.043Z"
   },
   {
    "duration": 0,
    "start_time": "2025-10-03T14:44:17.044Z"
   },
   {
    "duration": 0,
    "start_time": "2025-10-03T14:44:17.045Z"
   },
   {
    "duration": 0,
    "start_time": "2025-10-03T14:44:17.046Z"
   },
   {
    "duration": 0,
    "start_time": "2025-10-03T14:44:17.047Z"
   },
   {
    "duration": 0,
    "start_time": "2025-10-03T14:44:17.048Z"
   },
   {
    "duration": 0,
    "start_time": "2025-10-03T14:44:17.049Z"
   },
   {
    "duration": 0,
    "start_time": "2025-10-03T14:44:17.052Z"
   },
   {
    "duration": 0,
    "start_time": "2025-10-03T14:44:17.053Z"
   },
   {
    "duration": 0,
    "start_time": "2025-10-03T14:44:17.054Z"
   },
   {
    "duration": 0,
    "start_time": "2025-10-03T14:44:17.055Z"
   },
   {
    "duration": 0,
    "start_time": "2025-10-03T14:44:17.055Z"
   },
   {
    "duration": 0,
    "start_time": "2025-10-03T14:44:17.059Z"
   },
   {
    "duration": 0,
    "start_time": "2025-10-03T14:44:17.060Z"
   },
   {
    "duration": 0,
    "start_time": "2025-10-03T14:44:17.060Z"
   },
   {
    "duration": 0,
    "start_time": "2025-10-03T14:44:17.061Z"
   },
   {
    "duration": 0,
    "start_time": "2025-10-03T14:44:17.063Z"
   },
   {
    "duration": 0,
    "start_time": "2025-10-03T14:44:17.064Z"
   },
   {
    "duration": 0,
    "start_time": "2025-10-03T14:44:17.066Z"
   },
   {
    "duration": 0,
    "start_time": "2025-10-03T14:44:17.066Z"
   },
   {
    "duration": 0,
    "start_time": "2025-10-03T14:44:17.067Z"
   },
   {
    "duration": 0,
    "start_time": "2025-10-03T14:44:17.068Z"
   },
   {
    "duration": 0,
    "start_time": "2025-10-03T14:44:17.070Z"
   },
   {
    "duration": 0,
    "start_time": "2025-10-03T14:44:17.071Z"
   },
   {
    "duration": 0,
    "start_time": "2025-10-03T14:44:17.071Z"
   },
   {
    "duration": 96,
    "start_time": "2025-10-03T14:44:29.870Z"
   },
   {
    "duration": 3626,
    "start_time": "2025-10-03T14:44:35.536Z"
   },
   {
    "duration": 1935,
    "start_time": "2025-10-03T14:44:39.167Z"
   },
   {
    "duration": 11,
    "start_time": "2025-10-03T14:44:41.103Z"
   },
   {
    "duration": 10,
    "start_time": "2025-10-03T14:44:41.116Z"
   },
   {
    "duration": 30,
    "start_time": "2025-10-03T14:44:41.127Z"
   },
   {
    "duration": 146,
    "start_time": "2025-10-03T14:44:41.165Z"
   },
   {
    "duration": 8,
    "start_time": "2025-10-03T14:44:41.313Z"
   },
   {
    "duration": 53,
    "start_time": "2025-10-03T14:44:41.322Z"
   },
   {
    "duration": 52,
    "start_time": "2025-10-03T14:44:41.377Z"
   },
   {
    "duration": 18,
    "start_time": "2025-10-03T14:44:41.431Z"
   },
   {
    "duration": 16,
    "start_time": "2025-10-03T14:44:41.450Z"
   },
   {
    "duration": 21,
    "start_time": "2025-10-03T14:44:41.467Z"
   },
   {
    "duration": 8,
    "start_time": "2025-10-03T14:44:41.490Z"
   },
   {
    "duration": 11,
    "start_time": "2025-10-03T14:44:41.500Z"
   },
   {
    "duration": 6,
    "start_time": "2025-10-03T14:44:41.513Z"
   },
   {
    "duration": 36,
    "start_time": "2025-10-03T14:44:41.521Z"
   },
   {
    "duration": 8,
    "start_time": "2025-10-03T14:44:41.558Z"
   },
   {
    "duration": 75,
    "start_time": "2025-10-03T14:44:41.568Z"
   },
   {
    "duration": 8,
    "start_time": "2025-10-03T14:44:41.645Z"
   },
   {
    "duration": 42,
    "start_time": "2025-10-03T14:44:41.666Z"
   },
   {
    "duration": 5,
    "start_time": "2025-10-03T14:44:41.710Z"
   },
   {
    "duration": 1123,
    "start_time": "2025-10-03T14:44:41.716Z"
   },
   {
    "duration": 0,
    "start_time": "2025-10-03T14:44:42.842Z"
   },
   {
    "duration": 0,
    "start_time": "2025-10-03T14:44:42.844Z"
   },
   {
    "duration": 0,
    "start_time": "2025-10-03T14:44:42.846Z"
   },
   {
    "duration": 0,
    "start_time": "2025-10-03T14:44:42.848Z"
   },
   {
    "duration": 0,
    "start_time": "2025-10-03T14:44:42.852Z"
   },
   {
    "duration": 0,
    "start_time": "2025-10-03T14:44:42.853Z"
   },
   {
    "duration": 0,
    "start_time": "2025-10-03T14:44:42.854Z"
   },
   {
    "duration": 0,
    "start_time": "2025-10-03T14:44:42.855Z"
   },
   {
    "duration": 0,
    "start_time": "2025-10-03T14:44:42.856Z"
   },
   {
    "duration": 0,
    "start_time": "2025-10-03T14:44:42.857Z"
   },
   {
    "duration": 0,
    "start_time": "2025-10-03T14:44:42.859Z"
   },
   {
    "duration": 0,
    "start_time": "2025-10-03T14:44:42.859Z"
   },
   {
    "duration": 0,
    "start_time": "2025-10-03T14:44:42.860Z"
   },
   {
    "duration": 0,
    "start_time": "2025-10-03T14:44:42.861Z"
   },
   {
    "duration": 0,
    "start_time": "2025-10-03T14:44:42.870Z"
   },
   {
    "duration": 0,
    "start_time": "2025-10-03T14:44:42.871Z"
   },
   {
    "duration": 0,
    "start_time": "2025-10-03T14:44:42.872Z"
   },
   {
    "duration": 0,
    "start_time": "2025-10-03T14:44:42.874Z"
   },
   {
    "duration": 0,
    "start_time": "2025-10-03T14:44:42.875Z"
   },
   {
    "duration": 0,
    "start_time": "2025-10-03T14:44:42.877Z"
   },
   {
    "duration": 0,
    "start_time": "2025-10-03T14:44:42.878Z"
   },
   {
    "duration": 0,
    "start_time": "2025-10-03T14:44:42.880Z"
   },
   {
    "duration": 0,
    "start_time": "2025-10-03T14:44:42.881Z"
   },
   {
    "duration": 0,
    "start_time": "2025-10-03T14:44:42.883Z"
   },
   {
    "duration": 0,
    "start_time": "2025-10-03T14:44:42.884Z"
   },
   {
    "duration": 0,
    "start_time": "2025-10-03T14:44:42.885Z"
   },
   {
    "duration": 0,
    "start_time": "2025-10-03T14:44:42.887Z"
   },
   {
    "duration": 0,
    "start_time": "2025-10-03T14:44:42.889Z"
   },
   {
    "duration": 0,
    "start_time": "2025-10-03T14:44:42.890Z"
   },
   {
    "duration": 0,
    "start_time": "2025-10-03T14:44:42.891Z"
   },
   {
    "duration": 0,
    "start_time": "2025-10-03T14:44:42.893Z"
   },
   {
    "duration": 0,
    "start_time": "2025-10-03T14:44:42.894Z"
   },
   {
    "duration": 0,
    "start_time": "2025-10-03T14:44:42.895Z"
   },
   {
    "duration": 0,
    "start_time": "2025-10-03T14:44:42.896Z"
   },
   {
    "duration": 0,
    "start_time": "2025-10-03T14:44:42.897Z"
   },
   {
    "duration": 0,
    "start_time": "2025-10-03T14:44:42.898Z"
   },
   {
    "duration": 0,
    "start_time": "2025-10-03T14:44:42.899Z"
   },
   {
    "duration": 0,
    "start_time": "2025-10-03T14:44:42.900Z"
   },
   {
    "duration": 0,
    "start_time": "2025-10-03T14:44:42.954Z"
   },
   {
    "duration": 0,
    "start_time": "2025-10-03T14:44:42.955Z"
   },
   {
    "duration": 0,
    "start_time": "2025-10-03T14:44:42.956Z"
   },
   {
    "duration": 0,
    "start_time": "2025-10-03T14:44:42.956Z"
   },
   {
    "duration": 0,
    "start_time": "2025-10-03T14:44:42.957Z"
   },
   {
    "duration": 0,
    "start_time": "2025-10-03T14:44:42.960Z"
   },
   {
    "duration": 0,
    "start_time": "2025-10-03T14:44:42.961Z"
   },
   {
    "duration": 0,
    "start_time": "2025-10-03T14:44:42.961Z"
   },
   {
    "duration": 0,
    "start_time": "2025-10-03T14:44:42.962Z"
   },
   {
    "duration": 0,
    "start_time": "2025-10-03T14:44:42.963Z"
   },
   {
    "duration": 0,
    "start_time": "2025-10-03T14:44:42.970Z"
   },
   {
    "duration": 0,
    "start_time": "2025-10-03T14:44:42.972Z"
   },
   {
    "duration": 0,
    "start_time": "2025-10-03T14:44:42.973Z"
   },
   {
    "duration": 0,
    "start_time": "2025-10-03T14:44:42.975Z"
   },
   {
    "duration": 44,
    "start_time": "2025-10-03T14:44:54.534Z"
   },
   {
    "duration": 77,
    "start_time": "2025-10-03T14:44:57.477Z"
   },
   {
    "duration": 92,
    "start_time": "2025-10-03T14:44:59.212Z"
   },
   {
    "duration": 4,
    "start_time": "2025-10-03T14:44:59.827Z"
   },
   {
    "duration": 8,
    "start_time": "2025-10-03T14:45:00.785Z"
   },
   {
    "duration": 5,
    "start_time": "2025-10-03T14:45:01.299Z"
   },
   {
    "duration": 139,
    "start_time": "2025-10-03T14:45:01.327Z"
   },
   {
    "duration": 99,
    "start_time": "2025-10-03T14:45:01.468Z"
   },
   {
    "duration": 27,
    "start_time": "2025-10-03T14:45:01.569Z"
   },
   {
    "duration": 62,
    "start_time": "2025-10-03T14:45:01.598Z"
   },
   {
    "duration": 14,
    "start_time": "2025-10-03T14:45:01.662Z"
   },
   {
    "duration": 26,
    "start_time": "2025-10-03T14:45:01.678Z"
   },
   {
    "duration": 9,
    "start_time": "2025-10-03T14:45:01.731Z"
   },
   {
    "duration": 174,
    "start_time": "2025-10-03T14:45:01.792Z"
   },
   {
    "duration": 3,
    "start_time": "2025-10-03T14:45:01.968Z"
   },
   {
    "duration": 2039,
    "start_time": "2025-10-03T14:45:01.973Z"
   },
   {
    "duration": 77,
    "start_time": "2025-10-03T14:45:04.015Z"
   },
   {
    "duration": 50,
    "start_time": "2025-10-03T14:45:04.094Z"
   },
   {
    "duration": 22,
    "start_time": "2025-10-03T14:45:04.152Z"
   },
   {
    "duration": 12,
    "start_time": "2025-10-03T15:18:24.236Z"
   },
   {
    "duration": 11,
    "start_time": "2025-10-03T15:18:31.104Z"
   },
   {
    "duration": 61,
    "start_time": "2025-10-03T15:18:49.249Z"
   },
   {
    "duration": 21,
    "start_time": "2025-10-03T15:18:56.787Z"
   },
   {
    "duration": 12,
    "start_time": "2025-10-03T15:19:10.828Z"
   },
   {
    "duration": 19,
    "start_time": "2025-10-03T15:34:03.500Z"
   },
   {
    "duration": 19,
    "start_time": "2025-10-03T15:34:06.618Z"
   },
   {
    "duration": 21,
    "start_time": "2025-10-03T15:34:08.983Z"
   }
  ],
  "colab": {
   "provenance": []
  },
  "kernelspec": {
   "display_name": "Python 3 (ipykernel)",
   "language": "python",
   "name": "python3"
  },
  "language_info": {
   "codemirror_mode": {
    "name": "ipython",
    "version": 3
   },
   "file_extension": ".py",
   "mimetype": "text/x-python",
   "name": "python",
   "nbconvert_exporter": "python",
   "pygments_lexer": "ipython3",
   "version": "3.9.7"
  },
  "toc": {
   "base_numbering": 1,
   "nav_menu": {},
   "number_sections": true,
   "sideBar": true,
   "skip_h1_title": true,
   "title_cell": "Table of Contents",
   "title_sidebar": "Contents",
   "toc_cell": false,
   "toc_position": {},
   "toc_section_display": true,
   "toc_window_display": false
  }
 },
 "nbformat": 4,
 "nbformat_minor": 1
}
